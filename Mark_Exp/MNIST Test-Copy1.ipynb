{
 "cells": [
  {
   "cell_type": "markdown",
   "id": "b469385d",
   "metadata": {},
   "source": [
    "clean\n",
    "cnn: 0.9970\n",
    "abc: 0.9971\n",
    "\n",
    "fgsm\n",
    "cnn: 0.2797\n",
    "abc: 0.5499\n",
    "\n",
    "pgd20\n",
    "cnn: 0.9813\n",
    "abc: 0.9808\n",
    "\n",
    "foolbox:\n",
    "pgd20 alpha=0.1 epsilon=0.1\n",
    "cnn: 0.0242\n",
    "abc: 0.2902\n",
    "\n",
    "fgsm epsilon=0.1\n",
    "cnn: 0.1504\n",
    "abc: 0.8913"
   ]
  },
  {
   "cell_type": "code",
   "execution_count": 1,
   "id": "5fa78c53",
   "metadata": {},
   "outputs": [],
   "source": [
    "import torch\n",
    "import torchvision\n",
    "\n",
    "import torch.nn as nn\n",
    "import torch.nn.functional as F\n",
    "import pandas as pd\n",
    "import numpy as np\n",
    "import matplotlib.pyplot as plt\n",
    "from utils.tools import dotdict\n",
    "from driver.driver import ABC_Driver\n",
    "torch.cuda.is_available()\n",
    "torch.cuda.set_device(0)"
   ]
  },
  {
   "cell_type": "code",
   "execution_count": 2,
   "id": "04f3d6c3",
   "metadata": {},
   "outputs": [],
   "source": [
    "mnist_args = dotdict()\n",
    "\n",
    "mnist_args.name = 'mnist'\n",
    "# mnist_args.device = ['cuda:4', 'cuda:5']\n",
    "mnist_args.device = ['cuda:0']\n",
    "mnist_args.train_batch_size = 120\n",
    "mnist_args.predict_batch_size = 120\n",
    "\n",
    "mnist_args.train_epochs = 30\n",
    "mnist_args.lr = 0.001\n",
    "mnist_args.criterion = 'CE'\n",
    "mnist_args.optimizer = 'Adam'\n",
    "mnist_args.scheduler = 'multistep3'\n",
    "mnist_args.attack = {'fgsm':(0.1,), 'pgd':(0.1,0.1,20), 'deepfool':(0.1,0.1,20), 'apgd-ce':(0.1,)}\n",
    "\n",
    "activation = 'relu'\n",
    "input_channel = 1\n",
    "knpp = [30,60,120,180,240,300]\n",
    "\n",
    "# mnist_args.layers=[\n",
    "#     ('cnn2d', ((input_channel, knpp[0], (7,7), 1, 3, 1, 1), 1, None, None, activation, False)),\n",
    "#     ('atc2d', ((knpp[0], knpp[1], (3,3), 1, 1, 1, knpp[0]), 1, None, None, activation, True)),\n",
    "#     ('atc2d', ((knpp[1], knpp[2], (3,3), 1, 1, 1, knpp[0]), 1, 'first', (2,2), activation, True)),\n",
    "#     ('atc2d', ((knpp[2], knpp[3], (3,3), 1, 1, 1, knpp[0]), 1, None, None, activation, True)),\n",
    "#     ('atc2d', ((knpp[3], knpp[4], (3,3), 1, 1, 1, knpp[0]), 1, 'first', (2,2), activation, True)),\n",
    "#     ('cnn2d', ((knpp[4], knpp[5], (3,3), 1, 1, 1, knpp[0]), 1, None, None, activation, False)),\n",
    "#     ('cnn2d', ((knpp[-1], knpp[-1], (3,3), 1, 0, 1, knpp[0]), 1, None, None, False, False)),\n",
    "#     ('adptavgpool', (1,1)),\n",
    "#     ('linear', (knpp[-1], 10, (1,2,3)))\n",
    "# ]\n",
    "\n",
    "mnist_args.layers=[\n",
    "    ('cnn2d', ((1, 24, (7, 7), 1, 3, 1, 1), 1, None, None, 'relu', False)), \n",
    "    ('atc2d', ((24, 48, (3, 3), 1, 1, 1, 24), 1, None, None, 'relu', True)), \n",
    "    ('atc2d', ((48, 96, (3, 3), 1, 1, 1, 24), 1, 'first', (2, 2), 'relu', True)), \n",
    "    ('atc2d', ((96, 144, (3, 3), 1, 1, 1, 24), 1, None, None, 'relu', True)), \n",
    "    ('atc2d', ((144, 192, (3, 3), 1, 1, 1, 24), 1, 'first', (2, 2), 'relu', True)), \n",
    "    ('cnn2d', ((192, 240, (3, 3), 1, 1, 1, 24), 1, None, None, 'relu', False)), \n",
    "    ('cnn2d', ((240, 240, (3, 3), 1, 0, 1, 24), 1, None, None, False, False)), \n",
    "    ('adptavgpool', (1, 1)), \n",
    "    ('linear', (240, 10, (1, 2, 3)))\n",
    "]\n",
    "\n",
    "\n",
    "# mnist_args.layers=[\n",
    "#     ('cnn2d', ((1, 24, (7, 7), 1, 3, 1, 1), 1, None, None, 'relu', False)), \n",
    "#     ('cnn2d', ((24, 48, (3, 3), 1, 1, 1, 1), 2, None, None, 'relu', True)), \n",
    "#     ('cnn2d', ((48, 96, (3, 3), 1, 1, 1, 1), 2, 'first', (2, 2), 'relu', True)), \n",
    "#     ('cnn2d', ((96, 144, (3, 3), 1, 1, 1, 1), 2, None, None, 'relu', True)), \n",
    "#     ('cnn2d', ((144, 192, (3, 3), 1, 1, 1, 1), 2, 'first', (2, 2), 'relu', True)), \n",
    "#     ('cnn2d', ((192, 240, (3, 3), 1, 1, 1, 1), 1, None, None, 'relu', False)), \n",
    "#     ('cnn2d', ((240, 240, (3, 3), 1, 0, 1, 1), 1, None, None, False, False)), \n",
    "#     ('adptavgpool', (1, 1)), \n",
    "#     ('linear', (240, 10, (1, 2, 3)))\n",
    "# ]\n",
    "\n",
    "# knpp = [24,48,96,192]\n",
    "# knpp = [30,60,120,240]\n",
    "\n",
    "# mnist_args.layers=[\n",
    "#     ('cnn2d', ((input_channel, knpp[0], (3,3), 1, 1, 1, 1), 1, None, None, activation, False)),\n",
    "#     ('atrc2d', ((knpp[0], knpp[1], (3,3), 1, 1, 1, knpp[0]), 1, None, None, activation, True)),\n",
    "#     ('atrc2d', ((knpp[1], knpp[2], (3,3), 1, 1, 1, knpp[0]), 1, 'first', (2,2), activation, True)),\n",
    "#     ('atrc2d', ((knpp[2], knpp[3], (3,3), 1, 1, 1, knpp[0]), 1, 'first', (2,2), activation, True)),\n",
    "#     ('cnn2d', ((knpp[-1], knpp[-1], (3,3), 1, 0, 1, knpp[0]), 1, None, None, activation, False)),\n",
    "#     ('cnn2d', ((knpp[-1], knpp[-1], (3,3), 1, 0, 1, knpp[0]), 1, None, None, False, False)),\n",
    "#     ('adptavgpool', (1,1)),\n",
    "#     ('linear', (knpp[-1], 10, (1,2,3)))\n",
    "# ]"
   ]
  },
  {
   "cell_type": "code",
   "execution_count": 3,
   "id": "a240b656",
   "metadata": {
    "scrolled": true
   },
   "outputs": [
    {
     "name": "stdout",
     "output_type": "stream",
     "text": [
      "Use: ['cuda:0']\n",
      "add record: 03/15/2023 23:13\n"
     ]
    }
   ],
   "source": [
    "driver = ABC_Driver(mnist_args, None, record_path=None, if_hash=False)\n",
    "# driver.train()"
   ]
  },
  {
   "cell_type": "code",
   "execution_count": 4,
   "id": "66355dbc",
   "metadata": {},
   "outputs": [
    {
     "data": {
      "text/plain": [
       "<All keys matched successfully>"
      ]
     },
     "execution_count": 4,
     "metadata": {},
     "output_type": "execute_result"
    }
   ],
   "source": [
    "# torch.save(driver.model.state_dict(), \"save/MNIST_CNN_2023_03_13.pt\")\n",
    "driver.model.load_state_dict(torch.load(\"save/MNIST_ABC_2023_02_26.pt\"))\n",
    "# driver.model.load_state_dict(torch.load(\"save/MNIST_CNN_2023_02_27.pt\"))"
   ]
  },
  {
   "cell_type": "code",
   "execution_count": 10,
   "id": "18e983f2",
   "metadata": {},
   "outputs": [
    {
     "data": {
      "text/plain": [
       "0.997"
      ]
     },
     "execution_count": 10,
     "metadata": {},
     "output_type": "execute_result"
    }
   ],
   "source": [
    "driver.metric()"
   ]
  },
  {
   "cell_type": "code",
   "execution_count": null,
   "id": "b139026d",
   "metadata": {},
   "outputs": [
    {
     "name": "stdout",
     "output_type": "stream",
     "text": [
      "setting parameters for standard version\n",
      "using standard version including apgd-ce.\n",
      "initial accuracy: 99.71%\n",
      "apgd-ce - 1/100 - 96 out of 100 successfully perturbed\n",
      "apgd-ce - 2/100 - 89 out of 100 successfully perturbed\n",
      "apgd-ce - 3/100 - 88 out of 100 successfully perturbed\n",
      "apgd-ce - 4/100 - 90 out of 100 successfully perturbed\n",
      "apgd-ce - 5/100 - 85 out of 100 successfully perturbed\n",
      "apgd-ce - 6/100 - 88 out of 100 successfully perturbed\n"
     ]
    }
   ],
   "source": [
    "driver.attack('apgd-ce', driver.model)"
   ]
  },
  {
   "cell_type": "code",
   "execution_count": null,
   "id": "721dc2fb",
   "metadata": {},
   "outputs": [],
   "source": []
  },
  {
   "cell_type": "code",
   "execution_count": null,
   "id": "cf38e823",
   "metadata": {},
   "outputs": [],
   "source": []
  },
  {
   "cell_type": "code",
   "execution_count": 27,
   "id": "28c51bc7",
   "metadata": {
    "scrolled": true
   },
   "outputs": [
    {
     "data": {
      "text/plain": [
       "clean    0.9971\n",
       "fgsm     0.8913\n",
       "pgd      0.2877\n",
       "dtype: float64"
      ]
     },
     "execution_count": 27,
     "metadata": {},
     "output_type": "execute_result"
    }
   ],
   "source": [
    "driver.metric(test_attack=True)"
   ]
  },
  {
   "cell_type": "code",
   "execution_count": 25,
   "id": "dbd0a5b9",
   "metadata": {},
   "outputs": [],
   "source": [
    "for i in driver.model.parameters():\n",
    "    break"
   ]
  },
  {
   "cell_type": "code",
   "execution_count": 26,
   "id": "cb419ae6",
   "metadata": {},
   "outputs": [],
   "source": [
    "i.grad"
   ]
  },
  {
   "cell_type": "code",
   "execution_count": null,
   "id": "31518ef7",
   "metadata": {},
   "outputs": [],
   "source": []
  }
 ],
 "metadata": {
  "kernelspec": {
   "display_name": "Python 3 (ipykernel)",
   "language": "python",
   "name": "python3"
  },
  "language_info": {
   "codemirror_mode": {
    "name": "ipython",
    "version": 3
   },
   "file_extension": ".py",
   "mimetype": "text/x-python",
   "name": "python",
   "nbconvert_exporter": "python",
   "pygments_lexer": "ipython3",
   "version": "3.9.13"
  }
 },
 "nbformat": 4,
 "nbformat_minor": 5
}
