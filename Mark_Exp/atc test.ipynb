{
 "cells": [
  {
   "cell_type": "code",
   "execution_count": 1,
   "id": "85149fca",
   "metadata": {},
   "outputs": [],
   "source": [
    "import torch\n",
    "import torchvision\n",
    "import torch.nn.functional as F\n",
    "import pandas as pd\n",
    "import numpy as np\n",
    "import matplotlib.pyplot as plt\n",
    "from utils.tools import dotdict\n",
    "from driver.driver import ABC_Driver\n",
    "from torch_geometric_temporal import METRLADatasetLoader\n",
    "from other_model.other_model import make_default_model\n",
    "import atd2022\n",
    "torch.cuda.is_available()\n",
    "torch.cuda.set_device(2)"
   ]
  },
  {
   "cell_type": "code",
   "execution_count": 2,
   "id": "90b316e4",
   "metadata": {},
   "outputs": [],
   "source": [
    "cifar10_args = dotdict()\n",
    "\n",
    "cifar10_args.name = 'cifar10'\n",
    "cifar10_args.train_batch_size = 128\n",
    "cifar10_args.predict_batch_size = 128\n",
    "cifar10_args.device = ['cuda:2','cuda:3']\n",
    "\n",
    "cifar10_args.train_epochs = 250\n",
    "cifar10_args.lr = 0.01\n",
    "cifar10_args.criterion = 'CE'\n",
    "cifar10_args.optimizer = 'AdamW'\n",
    "cifar10_args.scheduler = 'OneCycle'\n",
    "cifar10_args.attack = {'fgsm':(0.031,), 'pgd':(0.031,1,20)}\n",
    "\n",
    "activation = 'relu'\n",
    "input_channel = 3\n",
    "knpp = [48,96,144,240,336,432,528]\n",
    "\n",
    "cifar10_args.layers=[\n",
    "    ('cnn2d', ((input_channel, knpp[0], (3,3), 1, 1, 1, 1), 1, None, None, activation, False)),\n",
    "    ('atrc2d', ((knpp[0], knpp[1], (3,3), 1, 1, 1, knpp[0]), 1, None, None, activation, True)),\n",
    "    ('atrc2d', ((knpp[1], knpp[2], (3,3), 1, 1, 1, knpp[0]), 1, 'first', (2,2), activation, True)),\n",
    "    ('atrc2d', ((knpp[2], knpp[3], (3,3), 1, 1, 1, knpp[0]), 1, None, None, activation, True)),\n",
    "    ('atrc2d', ((knpp[3], knpp[4], (3,3), 1, 1, 1, knpp[0]), 1, 'first', (2,2), activation, True)),\n",
    "    ('atrc2d', ((knpp[4], knpp[5], (3,3), 1, 1, 1, knpp[0]), 1, None, None, activation, True)),\n",
    "    ('atrc2d', ((knpp[5], knpp[6], (3,3), 1, 1, 1, knpp[0]), 1, 'first', (2,2), activation, True)),\n",
    "#     ('cnn2d', ((knpp[-1], knpp[-1], (3,3), 1, 0, 1, knpp[0]), 1, None, None, activation, False)),\n",
    "#     ('cnn2d', ((knpp[-1], knpp[-1], (2,2), 1, 0, 1, knpp[0]), 1, None, None, False, False)),\n",
    "    ('adptavgpool', (1,1)),\n",
    "    ('linear', (knpp[-1], 10, (1,2,3)))\n",
    "]"
   ]
  },
  {
   "cell_type": "code",
   "execution_count": 3,
   "id": "235a19d0",
   "metadata": {},
   "outputs": [],
   "source": [
    "cifar100_args = dotdict()\n",
    "\n",
    "cifar100_args.name = 'cifar100'\n",
    "cifar100_args.train_batch_size = 100\n",
    "cifar100_args.predict_batch_size = 100\n",
    "cifar100_args.device = ['cuda:2','cuda:3']\n",
    "\n",
    "cifar100_args.train_epochs = 250\n",
    "cifar100_args.lr = 0.2\n",
    "cifar100_args.criterion = 'CE'\n",
    "cifar100_args.optimizer = 'SGD'\n",
    "cifar100_args.scheduler = 'multistep'\n",
    "cifar100_args.attack = {'fgsm':(0.005,), 'pgd':(0.005,0.1,20)}\n",
    "\n",
    "activation = 'relu'\n",
    "input_channel = 3\n",
    "knpp = [40, 80, 120, 160, 200, 240, 280, 320, 360, 400]\n",
    "# knpp = [48,96,144,240,336,432,528]\n",
    "groups=40\n",
    "\n",
    "cifar100_args.layers=[\n",
    "    ('cnn2d', ((input_channel, knpp[0], (3,3), 1, 1, 1, 1), 1, None, None, activation, False)),\n",
    "    ('atrc2d', ((knpp[0], knpp[1], (3,3), 1, 1, 1, groups), 1, None, None, activation, True)),\n",
    "    ('atrc2d', ((knpp[1], knpp[2], (3,3), 1, 1, 1, groups), 1, None, None, activation, True)),\n",
    "    ('atrc2d', ((knpp[2], knpp[3], (3,3), 1, 1, 1, groups), 1, 'first', (2,2), activation, True)),\n",
    "    ('atrc2d', ((knpp[3], knpp[4], (3,3), 1, 1, 1, groups), 1, None, None, activation, True)),\n",
    "    ('atrc2d', ((knpp[4], knpp[5], (3,3), 1, 1, 1, groups), 1, None, None, activation, True)),\n",
    "    ('atrc2d', ((knpp[5], knpp[6], (3,3), 1, 1, 1, groups), 1, 'first', (2,2), activation, True)),\n",
    "    ('atrc2d', ((knpp[6], knpp[7], (3,3), 1, 1, 1, groups), 1, None, None, activation, True)),\n",
    "    ('atrc2d', ((knpp[7], knpp[8], (3,3), 1, 1, 1, groups), 1, None, None, activation, True)),\n",
    "    ('atrc2d', ((knpp[8], knpp[9], (3,3), 1, 1, 1, groups), 1, 'first', (2,2), activation, True)),\n",
    "#     ('cnn2d', ((knpp[-1], knpp[-1], (3,3), 1, 0, 1, knpp[0]), 1, None, None, activation, False)),\n",
    "#     ('cnn2d', ((knpp[-1], knpp[-1], (2,2), 1, 0, 1, knpp[0]), 1, None, None, False, False)),\n",
    "    ('adptavgpool', (1,1)), \n",
    "    ('linear', (knpp[-1], 100, (1,2,3)))\n",
    "]"
   ]
  },
  {
   "cell_type": "code",
   "execution_count": null,
   "id": "b639e815",
   "metadata": {
    "scrolled": true
   },
   "outputs": [
    {
     "name": "stdout",
     "output_type": "stream",
     "text": [
      "Use: ['cuda:2', 'cuda:3']\n",
      "Files already downloaded and verified\n",
      "Files already downloaded and verified\n",
      "Files already downloaded and verified\n",
      "add record: 03/25/2023 20:00\n",
      "epoch: 0, train_loss: 4.3045, test_metric: 0.1112, time: 670.1726574897766\n",
      "epoch: 1, train_loss: 3.9027, test_metric: 0.1811, time: 667.0814135074615\n",
      "epoch: 2, train_loss: 3.4672, test_metric: 0.2806, time: 666.9277930259705\n",
      "epoch: 3, train_loss: 3.0334, test_metric: 0.3591, time: 667.0463027954102\n",
      "epoch: 4, train_loss: 2.7571, test_metric: 0.4102, time: 666.8434376716614\n",
      "epoch: 5, train_loss: 2.5253, test_metric: 0.4478, time: 667.1520984172821\n",
      "epoch: 6, train_loss: 2.3595, test_metric: 0.482, time: 666.8790338039398\n",
      "epoch: 7, train_loss: 2.2335, test_metric: 0.4911, time: 666.9742844104767\n",
      "epoch: 8, train_loss: 2.1404, test_metric: 0.5055, time: 667.0379712581635\n",
      "epoch: 9, train_loss: 2.0652, test_metric: 0.5295, time: 667.0900840759277\n",
      "epoch: 10, train_loss: 1.9928, test_metric: 0.5378, time: 666.827228307724\n",
      "epoch: 11, train_loss: 1.9347, test_metric: 0.5472, time: 666.7661683559418\n",
      "epoch: 12, train_loss: 1.8843, test_metric: 0.5574, time: 667.1621644496918\n",
      "epoch: 13, train_loss: 1.8431, test_metric: 0.5588, time: 667.0228998661041\n",
      "epoch: 14, train_loss: 1.8029, test_metric: 0.5671, time: 667.1469130516052\n",
      "epoch: 15, train_loss: 1.774, test_metric: 0.5939, time: 666.9998545646667\n",
      "epoch: 16, train_loss: 1.7447, test_metric: 0.6009, time: 667.0464746952057\n",
      "epoch: 17, train_loss: 1.7151, test_metric: 0.5851, time: 648.7622003555298\n",
      "epoch: 18, train_loss: 1.6873, test_metric: 0.6019, time: 665.9960796833038\n",
      "epoch: 19, train_loss: 1.6678, test_metric: 0.5916, time: 665.8624222278595\n",
      "epoch: 20, train_loss: 1.6522, test_metric: 0.5999, time: 666.029176235199\n",
      "epoch: 21, train_loss: 1.6363, test_metric: 0.6091, time: 665.9413075447083\n",
      "epoch: 22, train_loss: 1.6159, test_metric: 0.6083, time: 665.9610240459442\n",
      "epoch: 23, train_loss: 1.6041, test_metric: 0.6019, time: 665.961660861969\n",
      "epoch: 24, train_loss: 1.5914, test_metric: 0.6124, time: 665.887617111206\n",
      "epoch: 25, train_loss: 1.5674, test_metric: 0.6247, time: 665.9095675945282\n",
      "epoch: 26, train_loss: 1.5577, test_metric: 0.6278, time: 667.0021796226501\n",
      "epoch: 27, train_loss: 1.5463, test_metric: 0.6296, time: 668.531254529953\n",
      "epoch: 28, train_loss: 1.535, test_metric: 0.6375, time: 668.3151390552521\n"
     ]
    }
   ],
   "source": [
    "driver = ABC_Driver(cifar100_args, None, record_path=None, if_hash=False)\n",
    "driver.train()"
   ]
  },
  {
   "cell_type": "code",
   "execution_count": 3,
   "id": "18f5ae80",
   "metadata": {},
   "outputs": [],
   "source": [
    "# torch.save(driver.model.state_dict(), \"save/CIFAR100_ABC_2023_03_16.pt\")\n",
    "# driver.model.load_state_dict(torch.load(\"save/CIFAR100_ABC_2023_03_13.pt\"))"
   ]
  },
  {
   "cell_type": "code",
   "execution_count": null,
   "id": "56e4f46c",
   "metadata": {},
   "outputs": [],
   "source": []
  },
  {
   "cell_type": "code",
   "execution_count": null,
   "id": "edfd19f1",
   "metadata": {},
   "outputs": [],
   "source": []
  },
  {
   "cell_type": "code",
   "execution_count": null,
   "id": "5b5e933e",
   "metadata": {},
   "outputs": [],
   "source": []
  },
  {
   "cell_type": "code",
   "execution_count": null,
   "id": "80d412fc",
   "metadata": {},
   "outputs": [],
   "source": []
  },
  {
   "cell_type": "code",
   "execution_count": null,
   "id": "4d5d08b1",
   "metadata": {},
   "outputs": [],
   "source": []
  },
  {
   "cell_type": "code",
   "execution_count": null,
   "id": "34a0105d",
   "metadata": {},
   "outputs": [],
   "source": []
  },
  {
   "cell_type": "code",
   "execution_count": null,
   "id": "53f5f175",
   "metadata": {},
   "outputs": [],
   "source": []
  }
 ],
 "metadata": {
  "kernelspec": {
   "display_name": "Python 3 (ipykernel)",
   "language": "python",
   "name": "python3"
  },
  "language_info": {
   "codemirror_mode": {
    "name": "ipython",
    "version": 3
   },
   "file_extension": ".py",
   "mimetype": "text/x-python",
   "name": "python",
   "nbconvert_exporter": "python",
   "pygments_lexer": "ipython3",
   "version": "3.9.13"
  }
 },
 "nbformat": 4,
 "nbformat_minor": 5
}
