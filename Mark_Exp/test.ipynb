{
 "cells": [
  {
   "cell_type": "markdown",
   "metadata": {},
   "source": [
    "2 CNN: 0.98\n",
    "1 CNN: 0.9615 epoch 3\n",
    "1 CNN: 0.9782 epoch 50\n",
    "ABC: 0.9575 batch 100, lr 0.0001, metrics criterion 'CE', epoch 3\n",
    "ABC: 0.9671 batch 100, lr 0.0001, metrics criterion 'CE', epoch 6\n",
    "ABC: 0.9768 epoch 50 kernel_per_pixel 8"
   ]
  },
  {
   "cell_type": "code",
   "execution_count": 1,
   "metadata": {},
   "outputs": [],
   "source": [
    "import torch\n",
    "import torchvision\n",
    "import torch.nn.functional as F\n",
    "import pandas as pd\n",
    "import numpy as np\n",
    "import matplotlib.pyplot as plt\n",
    "from utils.tools import dotdict\n",
    "from driver.driver import ABC_Driver\n",
    "from torch_geometric_temporal import METRLADatasetLoader\n",
    "from other_model.other_model import make_default_model\n",
    "torch.cuda.is_available()\n",
    "torch.cuda.set_device(0)\n",
    "import atd2022"
   ]
  },
  {
   "cell_type": "code",
   "execution_count": 3,
   "metadata": {},
   "outputs": [],
   "source": [
    "atd_args = dotdict()\n",
    "atd_args.train = dotdict()\n",
    "\n",
    "atd_args.name = 'atd'\n",
    "atd_args.train.batch_size = 30\n",
    "atd_args.predict_len = 1\n",
    "atd_args.history_len = 5\n",
    "\n",
    "atd_args.train_epochs= 100\n",
    "atd_args.lr = 0.001\n",
    "atd_args.criterion = 'L1'\n",
    "atd_args.use_gpu = True\n",
    "\n",
    "input_channel = 1\n",
    "input_height = atd_args.history_len\n",
    "input_width = 5200\n",
    "kernel_size = 6\n",
    "knpp = 6\n",
    "knpp2 = atd_args.predict_len\n",
    "\n",
    "atd_args.layers=[\n",
    "    ('specific', (input_channel, knpp, kernel_size, input_height*input_width)),\n",
    "    ('specific', (knpp, kernel_size, knpp2, input_height*input_width)),\n",
    "    ('linear', (knpp2*input_height, atd_args.predict_len, (1,2), 1, (1, atd_args.predict_len))),\n",
    "]"
   ]
  },
  {
   "cell_type": "code",
   "execution_count": 4,
   "metadata": {},
   "outputs": [],
   "source": [
    "wt_args = dotdict()\n",
    "wt_args.train = dotdict()\n",
    "\n",
    "wt_args.name = 'wiki_traffic'\n",
    "wt_args.train.batch_size = 30\n",
    "wt_args.predict_len = 1\n",
    "wt_args.history_len = 5\n",
    "\n",
    "wt_args.train_epochs= 10\n",
    "wt_args.lr = 0.001\n",
    "wt_args.criterion = 'L1'\n",
    "wt_args.use_gpu = True\n",
    "\n",
    "input_channel = 1\n",
    "input_height = wt_args.history_len\n",
    "input_width = 1400\n",
    "kernel_size = 3\n",
    "knpp = 5\n",
    "knpp2 = 15\n",
    "\n",
    "wt_args.layers=[\n",
    "    ('specific', (input_channel, knpp, kernel_size, input_height*input_width)),\n",
    "    ('specific', (knpp, kernel_size, knpp2, input_height*input_width)),\n",
    "    ('linear', (knpp2*input_height, wt_args.predict_len, (1,2), 1, (1, wt_args.predict_len))),\n",
    "]"
   ]
  },
  {
   "cell_type": "code",
   "execution_count": 5,
   "metadata": {},
   "outputs": [],
   "source": [
    "lat_args = dotdict()\n",
    "lat_args.train = dotdict()\n",
    "\n",
    "lat_args.name = 'lat'\n",
    "lat_args.train.batch_size = 30\n",
    "lat_args.predict_len = 1\n",
    "lat_args.history_len = 5\n",
    "\n",
    "lat_args.train_epochs= 10\n",
    "lat_args.lr = 0.001\n",
    "lat_args.criterion = 'L1'\n",
    "lat_args.use_gpu = True\n",
    "\n",
    "input_channel = 1\n",
    "input_height = lat_args.history_len\n",
    "input_width = 207\n",
    "kernel_size = 3\n",
    "knpp = 5\n",
    "knpp2 = 15\n",
    "\n",
    "lat_args.layers=[\n",
    "    ('specific', (input_channel, knpp, kernel_size, input_height*input_width)),\n",
    "    ('specific', (knpp, kernel_size, knpp2, input_height*input_width)),\n",
    "    ('linear', (knpp2*input_height, lat_args.predict_len, (1,2), 1, (1, lat_args.predict_len))),\n",
    "]"
   ]
  },
  {
   "cell_type": "code",
   "execution_count": 40,
   "metadata": {},
   "outputs": [],
   "source": [
    "# mnist_args = dotdict()\n",
    "mnist_args.train = dotdict()\n",
    "mnist_args.predict = dotdict()\n",
    "\n",
    "mnist_args.name = 'mnist'\n",
    "mnist_args.train.batch_size = 60\n",
    "mnist_args.predict.batch_size = 100\n",
    "\n",
    "mnist_args.train_epochs = 10\n",
    "mnist_args.lr = 0.0001\n",
    "mnist_args.criterion = 'CE'\n",
    "mnist_args.use_gpu = True\n",
    "\n",
    "input_channel = 1\n",
    "input_height = 28\n",
    "input_width = 28\n",
    "kernel_size = 9\n",
    "knpp = 10\n",
    "knpp2 = 20\n",
    "knpp3 = 40\n",
    "\n",
    "# mnist_args.layers=[\n",
    "#     ('specific', (input_channel, knpp, kernel_size, input_height*input_width, (2,2))),\n",
    "#     ('specific', (knpp, knpp2, kernel_size, input_height*input_width/4, (2,2))),\n",
    "#     ('specific', (knpp2, knpp3, kernel_size, input_height*input_width/16, (1,1))),\n",
    "#     ('linear', (int(knpp3*input_height*input_width/16), 10, (1,2,3))),\n",
    "#     ('softmax', (1))\n",
    "# ]\n",
    "\n",
    "mnist_args.layers=[\n",
    "    ('cnn2d', (input_channel, knpp, (3,3), 2, 1)),\n",
    "    ('cnn2d', (knpp, knpp2, (3,3), 2, 1)),\n",
    "    ('cnn2d', (knpp2, knpp3, (3,3), 1, 1)),\n",
    "    ('linear', (int(knpp3*input_height*input_width/16), 10, (1,2,3))),\n",
    "    ('softmax', (1))\n",
    "]"
   ]
  },
  {
   "cell_type": "code",
   "execution_count": 41,
   "metadata": {},
   "outputs": [
    {
     "ename": "SyntaxError",
     "evalue": "invalid syntax (3411212584.py, line 20)",
     "output_type": "error",
     "traceback": [
      "\u001b[0;36m  Cell \u001b[0;32mIn[41], line 20\u001b[0;36m\u001b[0m\n\u001b[0;31m    knpp3 =\u001b[0m\n\u001b[0m            ^\u001b[0m\n\u001b[0;31mSyntaxError\u001b[0m\u001b[0;31m:\u001b[0m invalid syntax\n"
     ]
    }
   ],
   "source": [
    "cifar10_args = dotdict()\n",
    "cifar10_args.train = dotdict()\n",
    "cifar10_args.predict = dotdict()\n",
    "\n",
    "cifar10_args.name = 'cifar10'\n",
    "cifar10_args.train.batch_size = 60\n",
    "cifar10_args.predict.batch_size = 100\n",
    "\n",
    "cifar10_args.train_epochs = 10\n",
    "cifar10_args.lr = 0.0001\n",
    "cifar10_args.criterion = 'CE'\n",
    "cifar10_args.use_gpu = True\n",
    "\n",
    "input_channel = 3\n",
    "input_height = 32\n",
    "input_width = 32\n",
    "kernel_size = 9\n",
    "knpp = 21\n",
    "knpp2 = 84\n",
    "knpp3 = 164\n",
    "\n",
    "cifar10_args.layers=[\n",
    "    ('agnostic', (input_channel, knpp, kernel_size, input_height*input_width, (2,2))),\n",
    "    ('agnostic', (knpp, knpp2, kernel_size, input_height*input_width/4, (2,2))),\n",
    "    ('agnostic', (knpp2, knpp3, kernel_size, input_height*input_width/16, (2,2))),\n",
    "    ('linear', (int(knpp3*input_height*input_width/64), 10, (1,2,3))),\n",
    "    ('softmax', (1))\n",
    "]\n",
    "\n",
    "# cifar10_args.layers=[\n",
    "#     ('large', (input_channel, knpp, (5,5), 9, (2,2))),\n",
    "#     ('large', (knpp, knpp2, (5,5), 9, (2,2))),\n",
    "#     ('large', (knpp2, knpp3, (5,5), 9, (2,2))),\n",
    "#     ('linear', (int(knpp3*input_height*input_width/64), 10, (1,2,3))),\n",
    "#     ('softmax', (1))\n",
    "# ]\n",
    "\n",
    "# cifar10_args.layers=[\n",
    "#     ('cnn2d', (input_channel, knpp, (3,3), 2, 1)),\n",
    "#     ('cnn2d', (knpp, knpp2, (3,3), 2, 1)),\n",
    "#     ('cnn2d', (knpp2, knpp3, (3,3), 2, 1)),\n",
    "#     ('linear', (int(knpp3*input_height*input_width/64), 10, (1,2,3))),\n",
    "#     ('softmax', (1))\n",
    "# ]"
   ]
  },
  {
   "cell_type": "code",
   "execution_count": 42,
   "metadata": {
    "scrolled": true
   },
   "outputs": [
    {
     "name": "stdout",
     "output_type": "stream",
     "text": [
      "Use GPU: cuda:None\n",
      "epoch: 0, train_loss: 1.674263527750969\n",
      "epoch: 1, train_loss: 1.5204044941663741\n",
      "epoch: 2, train_loss: 1.5022865289449692\n",
      "epoch: 3, train_loss: 1.493240487098694\n",
      "epoch: 4, train_loss: 1.4876034020185471\n",
      "epoch: 5, train_loss: 1.483711611032486\n",
      "epoch: 6, train_loss: 1.4808115310668946\n",
      "epoch: 7, train_loss: 1.4785899686813355\n",
      "epoch: 8, train_loss: 1.4768556007146836\n",
      "epoch: 9, train_loss: 1.4754529345035552\n"
     ]
    },
    {
     "data": {
      "text/plain": [
       "<driver.driver.ABC_Driver at 0x7fd04c05ee80>"
      ]
     },
     "execution_count": 42,
     "metadata": {},
     "output_type": "execute_result"
    }
   ],
   "source": [
    "args = mnist_args\n",
    "data = None\n",
    "# data = atd2022.io.read_csv()\n",
    "# data = pd.read_csv('/scratch/mfeng/data/ABC/Wiki_Traffic/filled_selected_train_1.csv', index_col=0, header=[0,1,2,3], parse_dates=True)\n",
    "# data = pd.read_csv('/scratch/mfeng/data/ABC/LA_Traffic/LA_Traffic.csv', index_col=0)\n",
    "# data = data.head(200)\n",
    "\n",
    "driver = ABC_Driver(args, data)\n",
    "driver.train()"
   ]
  },
  {
   "cell_type": "code",
   "execution_count": 43,
   "metadata": {},
   "outputs": [
    {
     "data": {
      "text/plain": [
       "0.9846"
      ]
     },
     "execution_count": 43,
     "metadata": {},
     "output_type": "execute_result"
    }
   ],
   "source": [
    "driver.metric()"
   ]
  },
  {
   "cell_type": "code",
   "execution_count": 32,
   "metadata": {
    "scrolled": true
   },
   "outputs": [
    {
     "data": {
      "text/plain": [
       "0.9796"
      ]
     },
     "execution_count": 32,
     "metadata": {},
     "output_type": "execute_result"
    }
   ],
   "source": [
    "driver.metric()"
   ]
  },
  {
   "cell_type": "code",
   "execution_count": 33,
   "metadata": {},
   "outputs": [
    {
     "data": {
      "text/plain": [
       "479540"
      ]
     },
     "execution_count": 33,
     "metadata": {},
     "output_type": "execute_result"
    }
   ],
   "source": [
    "sum(p.numel() for p in driver.model.parameters() if p.requires_grad)"
   ]
  },
  {
   "cell_type": "code",
   "execution_count": null,
   "metadata": {},
   "outputs": [],
   "source": []
  },
  {
   "cell_type": "code",
   "execution_count": null,
   "metadata": {},
   "outputs": [],
   "source": []
  },
  {
   "cell_type": "code",
   "execution_count": null,
   "metadata": {},
   "outputs": [],
   "source": []
  },
  {
   "cell_type": "code",
   "execution_count": null,
   "metadata": {},
   "outputs": [],
   "source": []
  },
  {
   "cell_type": "code",
   "execution_count": null,
   "metadata": {},
   "outputs": [],
   "source": []
  },
  {
   "cell_type": "code",
   "execution_count": null,
   "metadata": {},
   "outputs": [],
   "source": []
  },
  {
   "cell_type": "code",
   "execution_count": 12,
   "metadata": {},
   "outputs": [
    {
     "data": {
      "text/plain": [
       "tensor([[[[  2.,   1.,  20.,  ...,  28.,  56.,   1.]]],\n",
       "\n",
       "\n",
       "        [[[  1.,   0.,  -1.,  ...,  54.,  97.,   0.]]],\n",
       "\n",
       "\n",
       "        [[[  3.,   1.,  21.,  ...,  36.,  76.,   0.]]],\n",
       "\n",
       "\n",
       "        ...,\n",
       "\n",
       "\n",
       "        [[[ 16.,   5.,   4.,  ..., 119., 152.,   1.]]],\n",
       "\n",
       "\n",
       "        [[[ 10.,   5.,   2.,  ...,  80., 178.,   4.]]],\n",
       "\n",
       "\n",
       "        [[[ 23.,   6.,   8.,  ..., 115., 134.,   2.]]]], dtype=torch.float64)"
      ]
     },
     "execution_count": 12,
     "metadata": {},
     "output_type": "execute_result"
    }
   ],
   "source": [
    "train_pred = driver.predict(driver.data_loader.train).to(float).round()\n",
    "train_pred"
   ]
  },
  {
   "cell_type": "code",
   "execution_count": 13,
   "metadata": {},
   "outputs": [
    {
     "data": {
      "text/plain": [
       "tensor([[[[  5.7886,   2.5833,   2.7232,  ...,  51.8400, 157.8637,   3.4961]]]],\n",
       "       dtype=torch.float64)"
      ]
     },
     "execution_count": 13,
     "metadata": {},
     "output_type": "execute_result"
    }
   ],
   "source": [
    "pred = driver.predict().to(float)\n",
    "pred"
   ]
  },
  {
   "cell_type": "code",
   "execution_count": 14,
   "metadata": {},
   "outputs": [
    {
     "data": {
      "text/plain": [
       "Region  Event\n",
       "AA      01        10.700\n",
       "        02         4.230\n",
       "        03         7.100\n",
       "        04        24.525\n",
       "        05         5.190\n",
       "                  ...   \n",
       "ZI      16        45.055\n",
       "        17       261.165\n",
       "        18        94.235\n",
       "        19       199.690\n",
       "        20         1.025\n",
       "Length: 5200, dtype: float64"
      ]
     },
     "execution_count": 14,
     "metadata": {},
     "output_type": "execute_result"
    }
   ],
   "source": [
    "data.mean()"
   ]
  },
  {
   "cell_type": "code",
   "execution_count": null,
   "metadata": {},
   "outputs": [],
   "source": []
  }
 ],
 "metadata": {
  "kernelspec": {
   "display_name": "Python 3 (ipykernel)",
   "language": "python",
   "name": "python3"
  },
  "language_info": {
   "codemirror_mode": {
    "name": "ipython",
    "version": 3
   },
   "file_extension": ".py",
   "mimetype": "text/x-python",
   "name": "python",
   "nbconvert_exporter": "python",
   "pygments_lexer": "ipython3",
   "version": "3.9.13"
  }
 },
 "nbformat": 4,
 "nbformat_minor": 2
}
