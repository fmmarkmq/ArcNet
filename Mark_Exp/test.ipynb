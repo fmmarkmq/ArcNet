{
 "cells": [
  {
   "cell_type": "markdown",
   "metadata": {},
   "source": [
    "2 CNN: 0.98\n",
    "1 CNN: 0.9615 epoch 3\n",
    "1 CNN: 0.9782 epoch 50\n",
    "ABC: 0.9575 batch 100, lr 0.0001, metrics criterion 'CE', epoch 3\n",
    "ABC: 0.9671 batch 100, lr 0.0001, metrics criterion 'CE', epoch 6\n",
    "ABC: 0.9768 epoch 50 kernel_per_pixel 8"
   ]
  },
  {
   "cell_type": "code",
   "execution_count": 1,
   "metadata": {},
   "outputs": [],
   "source": [
    "import torch\n",
    "import torchvision\n",
    "import torch.nn.functional as F\n",
    "import pandas as pd\n",
    "import numpy as np\n",
    "import matplotlib.pyplot as plt\n",
    "from utils.tools import dotdict\n",
    "from driver.driver import ABC_Driver\n",
    "from torch_geometric_temporal import METRLADatasetLoader\n",
    "from other_model.other_model import make_default_model\n",
    "import atd2022\n",
    "torch.cuda.is_available()\n",
    "torch.cuda.set_device(0)"
   ]
  },
  {
   "cell_type": "code",
   "execution_count": 2,
   "metadata": {},
   "outputs": [],
   "source": [
    "atd_args = dotdict()\n",
    "\n",
    "atd_args.name = 'atd'\n",
    "atd_args.train_batch_size = 25\n",
    "atd_args.predict_len = 4\n",
    "atd_args.history_len = 7\n",
    "\n",
    "atd_args.train_epochs= 10\n",
    "atd_args.lr = 0.00009\n",
    "atd_args.criterion = 'L1'\n",
    "atd_args.use_gpu = True\n",
    "atd_args.if_scheduler = False\n",
    "\n",
    "activation = 'relu'\n",
    "pool_name = 'avg'\n",
    "input_channel = 1\n",
    "input_height = atd_args.history_len\n",
    "input_width = 5200\n",
    "pixel_number = input_height*input_width\n",
    "kernel_size = 6\n",
    "knpp = 12\n",
    "knpp2 = atd_args.predict_len\n",
    "\n",
    "atd_args.layers=[\n",
    "    ('agnostic', ((input_channel, knpp, kernel_size), 1, pool_name, (1,1), activation)),\n",
    "    ('agnostic', ((knpp, knpp2, kernel_size), 1, pool_name, (1,1), activation)),\n",
    "    ('linear', (knpp2*input_height, atd_args.predict_len, (1,2), 1, (1, atd_args.predict_len))),\n",
    "]"
   ]
  },
  {
   "cell_type": "code",
   "execution_count": 3,
   "metadata": {},
   "outputs": [],
   "source": [
    "wt_args = dotdict()\n",
    "\n",
    "wt_args.name = 'wiki_traffic'\n",
    "wt_args.train_batch_size = 30\n",
    "wt_args.predict_len = 1\n",
    "wt_args.history_len = 5\n",
    "\n",
    "wt_args.train_epochs= 10\n",
    "wt_args.lr = 0.001\n",
    "wt_args.criterion = 'L1'\n",
    "wt_args.use_gpu = True\n",
    "wt_args.if_scheduler = True\n",
    "\n",
    "activation = 'relu'\n",
    "pool_name = 'avg'\n",
    "input_channel = 1\n",
    "input_height = wt_args.history_len\n",
    "input_width = 1400\n",
    "pixel_number = input_height*input_width\n",
    "kernel_size = 3\n",
    "knpp = 5\n",
    "knpp2 = 15\n",
    "\n",
    "wt_args.layers=[\n",
    "    ('specific', ((input_channel, knpp, kernel_size), 1, pool_name, (1,1), activation)),\n",
    "    ('specific', ((knpp, knpp2, kernel_size), 1, pool_name, (1,1), activation)),\n",
    "    ('linear', (knpp2*input_height, wt_args.predict_len, (1,2), 1, (1, wt_args.predict_len))),\n",
    "]"
   ]
  },
  {
   "cell_type": "code",
   "execution_count": 4,
   "metadata": {},
   "outputs": [],
   "source": [
    "lat_args = dotdict()\n",
    "\n",
    "lat_args.name = 'lat'\n",
    "lat_args.train_batch_size = 30\n",
    "lat_args.predict_len = 1\n",
    "lat_args.history_len = 5\n",
    "\n",
    "lat_args.train_epochs= 10\n",
    "lat_args.lr = 0.001\n",
    "lat_args.criterion = 'L1'\n",
    "lat_args.use_gpu = True\n",
    "lat_args.if_scheduler = True\n",
    "\n",
    "activation = 'relu'\n",
    "pool_name = 'avg'\n",
    "input_channel = 1\n",
    "input_height = lat_args.history_len\n",
    "input_width = 207\n",
    "pixel_number = input_height*input_width\n",
    "kernel_size = 3\n",
    "knpp = 5\n",
    "knpp2 = 15\n",
    "\n",
    "lat_args.layers=[\n",
    "    ('specific', ((input_channel, knpp, kernel_size), 1, pool_name, (1,1), activation)),\n",
    "    ('specific', ((knpp, knpp2, kernel_size), 1, pool_name, (1,1), activation)),\n",
    "    ('linear', (knpp2*input_height, lat_args.predict_len, (1,2), 1, (1, lat_args.predict_len))),\n",
    "]"
   ]
  },
  {
   "cell_type": "code",
   "execution_count": 17,
   "metadata": {},
   "outputs": [],
   "source": [
    "mnist_args = dotdict()\n",
    "\n",
    "mnist_args.name = 'mnist'\n",
    "mnist_args.train_batch_size = 60\n",
    "mnist_args.predict_batch_size = 100\n",
    "\n",
    "mnist_args.train_epochs = 10\n",
    "mnist_args.lr = 0.0001\n",
    "mnist_args.criterion = 'CE'\n",
    "mnist_args.use_gpu = True\n",
    "mnist_args.if_scheduler = True\n",
    "\n",
    "activation = 'relu'\n",
    "pool_name = 'avg'\n",
    "input_channel = 1\n",
    "input_height = 28\n",
    "input_width = 28\n",
    "pixel_number = input_height*input_width\n",
    "kernel_size = 25\n",
    "knpp = 10\n",
    "knpp2 = 20\n",
    "knpp3 = 39\n",
    "\n",
    "# mnist_args.layers=[\n",
    "#     ('specific', ((input_channel, knpp, kernel_size), 1, pool_name, (1,1), activation)),\n",
    "#     ('specific', ((knpp, knpp2, kernel_size), 1, pool_name, (1,1), activation)),\n",
    "#     ('specific', ((knpp2, knpp3, kernel_size), 1, pool_name, (1,1), activation)),\n",
    "#     ('attention', (knpp3, 3)),\n",
    "#     ('linear', (knpp3, 10, (1,2,3))),\n",
    "#     ('softmax', (1))\n",
    "# ]\n",
    "\n",
    "mnist_args.layers=[\n",
    "    ('cnn2d', ((input_channel, knpp, (5,5), 1, 2), 1, pool_name, (1,1), activation)),\n",
    "    ('cnn2d', ((knpp, knpp2, (5,5), 1, 2), 1, pool_name, (1,1), activation)),\n",
    "    ('cnn2d', ((knpp2, knpp3, (5,5), 1, 2), 1, pool_name, (1,1), activation)),\n",
    "    ('attention', (knpp3, 3)),\n",
    "    ('linear', (knpp3, 10, (1,2,3))),\n",
    "    ('softmax', (1))\n",
    "]"
   ]
  },
  {
   "cell_type": "code",
   "execution_count": 18,
   "metadata": {},
   "outputs": [],
   "source": [
    "cifar10_args = dotdict()\n",
    "\n",
    "cifar10_args.name = 'cifar10'\n",
    "cifar10_args.train_batch_size = 100\n",
    "cifar10_args.predict_batch_size = 100\n",
    "\n",
    "cifar10_args.train_epochs = 120\n",
    "cifar10_args.lr = 0.0001\n",
    "cifar10_args.criterion = 'CE'\n",
    "cifar10_args.use_gpu = True\n",
    "cifar10_args.if_scheduler = False\n",
    "\n",
    "activation = 'relu'\n",
    "pool_name = 'avg'\n",
    "input_channel = 3\n",
    "input_height = 32\n",
    "input_width = 32\n",
    "pixel_number = input_height*input_width\n",
    "kernel_size = 9\n",
    "knpp = [63, 63, 129, 129, 255, 255, 513, 513]\n",
    "# knpp = [64, 64, 128, 128, 256, 256, 512, 512, 1024, 1024]\n",
    "\n",
    "cifar10_args.layers=[\n",
    "    ('specific', ((input_channel, knpp[0], kernel_size), 2, pool_name, (1,1), activation)),\n",
    "    ('agnostic', ((knpp[0], knpp[1], kernel_size), 2, pool_name, (2,2), activation)),\n",
    "    ('agnostic', ((knpp[1], knpp[2], kernel_size), 2, pool_name, (1,1), activation)),\n",
    "    ('agnostic', ((knpp[2], knpp[3], kernel_size), 2, pool_name, (2,2), activation)),\n",
    "    ('agnostic', ((knpp[3], knpp[4], kernel_size), 2, pool_name, (1,1), activation)),\n",
    "    ('agnostic', ((knpp[4], knpp[5], kernel_size), 2, pool_name, (2,2), activation)),\n",
    "    ('agnostic', ((knpp[5], knpp[6], kernel_size), 2, pool_name, (1,1), activation)),\n",
    "    ('agnostic', ((knpp[6], knpp[7], kernel_size), 2, pool_name, (2,2), activation)),\n",
    "#     ('agnostic', ((knpp[7], knpp[8], kernel_size), 2, pool_name, (1,1), activation)),\n",
    "#     ('agnostic', ((knpp[8], knpp[9], kernel_size), 2, pool_name, (2,2), activation)),\n",
    "#     ('attention', (knpp, 5, 4)),\n",
    "    ('linear', (int(knpp[-1]*pixel_number/(4**4)), 10, (1,2,3))),\n",
    "    ('softmax', (1))\n",
    "]\n",
    "\n",
    "# cifar10_args.layers=[\n",
    "#     ('large', ((input_channel, 33, (3,3), 7, (1,1)), 2, pool_name, (1,1), activation)),\n",
    "#     ('large', ((33, 63, (3,3), 7, (1,1)), 2, pool_name, (1,1), activation)),\n",
    "#     ('large', ((63, 129, (3,3), 7, (1,1)), 2, pool_name, (1,1), activation)),\n",
    "#     ('large', ((129, 255, (3,3), 7, (1,1)), 2, pool_name, (1,1), activation)),\n",
    "#     ('linear', (int(33*pixel_number), 10, (1,2,3))),\n",
    "#     ('softmax', 1)\n",
    "# ]\n",
    "\n",
    "# cifar10_args.layers=[\n",
    "#     ('cnn2d', ((input_channel, knpp[0], (3,3), 1, 1), 2, pool_name, (1,1), activation)),\n",
    "#     ('cnn2d', ((knpp[0], knpp[1], (3,3), 1, 1), 2, pool_name, (2,2), activation)),\n",
    "#     ('cnn2d', ((knpp[1], knpp[2], (3,3), 1, 1), 2, pool_name, (1,1), activation)),\n",
    "#     ('cnn2d', ((knpp[2], knpp[3], (3,3), 1, 1), 2, pool_name, (2,2), activation)),\n",
    "#     ('cnn2d', ((knpp[3], knpp[4], (3,3), 1, 1), 2, pool_name, (1,1), activation)),\n",
    "#     ('cnn2d', ((knpp[4], knpp[5], (3,3), 1, 1), 2, pool_name, (2,2), activation)),\n",
    "#     ('cnn2d', ((knpp[5], knpp[6], (3,3), 1, 1), 2, pool_name, (1,1), activation)),\n",
    "#     ('cnn2d', ((knpp[6], knpp[7], (3,3), 1, 1), 2, pool_name, (2,2), activation)),\n",
    "#     ('cnn2d', ((knpp[7], knpp[8], (3,3), 1, 1), 2, pool_name, (1,1), activation)),\n",
    "#     ('cnn2d', ((knpp[8], knpp[9], (3,3), 1, 1), 2, pool_name, (2,2), activation)),\n",
    "# #     ('attention', (knpp2, 5, 4)),\n",
    "#     ('linear', (int(knpp[-1]*pixel_number/64/4/4), 2048, (1,2,3), None, None, 'relu')),\n",
    "#     ('linear', (2048, 10, (1,))),\n",
    "#     ('softmax', (1))\n",
    "# ]"
   ]
  },
  {
   "cell_type": "code",
   "execution_count": 19,
   "metadata": {
    "scrolled": false
   },
   "outputs": [
    {
     "name": "stdout",
     "output_type": "stream",
     "text": [
      "Use GPU: cuda:None\n",
      "add record: 01/25/2023 12:52\n",
      "epoch: 0, train_loss: 2.1282, test_metric: 0.6548\n",
      "epoch: 1, train_loss: 1.686, test_metric: 0.9334\n",
      "epoch: 2, train_loss: 1.5551, test_metric: 0.9487\n",
      "epoch: 3, train_loss: 1.5287, test_metric: 0.9575\n",
      "epoch: 4, train_loss: 1.5176, test_metric: 0.9585\n",
      "epoch: 5, train_loss: 1.5167, test_metric: 0.9623\n",
      "epoch: 6, train_loss: 1.5088, test_metric: 0.9654\n",
      "epoch: 7, train_loss: 1.5032, test_metric: 0.9694\n",
      "epoch: 8, train_loss: 1.4995, test_metric: 0.9707\n",
      "epoch: 9, train_loss: 1.4973, test_metric: 0.9708\n"
     ]
    },
    {
     "data": {
      "text/plain": [
       "<driver.driver.ABC_Driver at 0x7f958daf2ac0>"
      ]
     },
     "execution_count": 19,
     "metadata": {},
     "output_type": "execute_result"
    }
   ],
   "source": [
    "args = mnist_args\n",
    "data = None\n",
    "# data = atd2022.io.read_csv()\n",
    "# data = pd.read_csv('/scratch/mfeng/data/ABC/Wiki_Traffic/filled_selected_train_1.csv', index_col=0, header=[0,1,2,3], parse_dates=True)\n",
    "# data = pd.read_csv('/scratch/mfeng/data/ABC/LA_Traffic/LA_Traffic.csv', index_col=0)\n",
    "# data = data.head(200)\n",
    "\n",
    "driver = ABC_Driver(args, data)\n",
    "driver.train()"
   ]
  },
  {
   "cell_type": "code",
   "execution_count": 9,
   "metadata": {},
   "outputs": [],
   "source": [
    "driver.metric()"
   ]
  },
  {
   "cell_type": "code",
   "execution_count": 8,
   "metadata": {},
   "outputs": [
    {
     "data": {
      "text/plain": [
       "tensor([[[[ 5.3340e-01,  4.1910e-01,  6.1760e-01,  ...,  3.0458e+00,\n",
       "            6.0598e+00,  3.8502e-01],\n",
       "          [-2.1529e-01, -3.5393e-02, -2.7057e-01,  ..., -2.3178e+00,\n",
       "           -7.7229e+00,  4.9505e-03],\n",
       "          [-1.9272e-01, -1.1109e-01,  4.6962e-02,  ..., -4.3600e-01,\n",
       "            5.5248e-02, -1.3636e-01],\n",
       "          [ 2.6736e-01,  1.6332e-01,  3.1615e-01,  ...,  3.5126e+00,\n",
       "            7.0238e+00,  8.1232e-02]]]])"
      ]
     },
     "execution_count": 8,
     "metadata": {},
     "output_type": "execute_result"
    }
   ],
   "source": [
    "# driver.predict()"
   ]
  },
  {
   "cell_type": "code",
   "execution_count": null,
   "metadata": {},
   "outputs": [],
   "source": []
  },
  {
   "cell_type": "code",
   "execution_count": null,
   "metadata": {},
   "outputs": [],
   "source": []
  },
  {
   "cell_type": "code",
   "execution_count": null,
   "metadata": {},
   "outputs": [],
   "source": []
  },
  {
   "cell_type": "code",
   "execution_count": null,
   "metadata": {},
   "outputs": [],
   "source": []
  },
  {
   "cell_type": "code",
   "execution_count": null,
   "metadata": {},
   "outputs": [],
   "source": []
  },
  {
   "cell_type": "code",
   "execution_count": null,
   "metadata": {},
   "outputs": [],
   "source": []
  },
  {
   "cell_type": "code",
   "execution_count": 26,
   "metadata": {
    "scrolled": true
   },
   "outputs": [
    {
     "data": {
      "text/plain": [
       "0.837"
      ]
     },
     "execution_count": 26,
     "metadata": {},
     "output_type": "execute_result"
    }
   ],
   "source": [
    "driver.metric() # [64, 64, 128, 128, 256, 256, 512, 512, 1024, 1024] + MLP"
   ]
  },
  {
   "cell_type": "code",
   "execution_count": 10,
   "metadata": {
    "scrolled": false
   },
   "outputs": [
    {
     "data": {
      "text/plain": [
       "0.8438"
      ]
     },
     "execution_count": 10,
     "metadata": {},
     "output_type": "execute_result"
    }
   ],
   "source": [
    "driver.metric() # [64, 64, 128, 128, 256, 256, 512, 512, 1024, 1024] + linear"
   ]
  }
 ],
 "metadata": {
  "kernelspec": {
   "display_name": "Python 3 (ipykernel)",
   "language": "python",
   "name": "python3"
  },
  "language_info": {
   "codemirror_mode": {
    "name": "ipython",
    "version": 3
   },
   "file_extension": ".py",
   "mimetype": "text/x-python",
   "name": "python",
   "nbconvert_exporter": "python",
   "pygments_lexer": "ipython3",
   "version": "3.9.13"
  }
 },
 "nbformat": 4,
 "nbformat_minor": 2
}
