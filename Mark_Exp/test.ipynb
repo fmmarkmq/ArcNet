{
 "cells": [
  {
   "cell_type": "markdown",
   "metadata": {},
   "source": [
    "2 CNN: 0.98\n",
    "1 CNN: 0.9615 epoch 3\n",
    "1 CNN: 0.9782 epoch 50\n",
    "ABC: 0.9575 batch 100, lr 0.0001, metrics criterion 'CE', epoch 3\n",
    "ABC: 0.9671 batch 100, lr 0.0001, metrics criterion 'CE', epoch 6\n",
    "ABC: 0.9768 epoch 50 kernel_per_pixel 8"
   ]
  },
  {
   "cell_type": "code",
   "execution_count": 1,
   "metadata": {},
   "outputs": [],
   "source": [
    "import torch\n",
    "import torchvision\n",
    "import torch.nn.functional as F\n",
    "import pandas as pd\n",
    "import numpy as np\n",
    "import matplotlib.pyplot as plt\n",
    "from utils.tools import dotdict\n",
    "from driver.driver import ABC_Driver\n",
    "torch.cuda.is_available()\n",
    "torch.cuda.set_device(0)\n",
    "import atd2022"
   ]
  },
  {
   "cell_type": "code",
   "execution_count": 2,
   "metadata": {},
   "outputs": [],
   "source": [
    "mnist_args = dotdict()\n",
    "mnist_args.train = dotdict()\n",
    "mnist_args.predict = dotdict()\n",
    "\n",
    "mnist_args.name = 'mnist'\n",
    "mnist_args.train.batch_size = 60\n",
    "mnist_args.predict.batch_size = 100\n",
    "\n",
    "mnist_args.train_epochs= 3\n",
    "mnist_args.lr = 0.0001\n",
    "mnist_args.criterion = 'CE'\n",
    "mnist_args.use_gpu = True\n",
    "\n",
    "mnist_args.input_channel = 1\n",
    "mnist_args.input_height = 28\n",
    "mnist_args.input_width = 28\n",
    "mnist_args.kernel_size = 9\n",
    "mnist_args.knpp = 10\n",
    "mnist_args.knpp2 = 20"
   ]
  },
  {
   "cell_type": "code",
   "execution_count": 7,
   "metadata": {},
   "outputs": [],
   "source": [
    "atd_args = dotdict()\n",
    "atd_args.train = dotdict()\n",
    "\n",
    "atd_args.name = 'atd'\n",
    "atd_args.train.batch_size = 30\n",
    "atd_args.predict_len = 1\n",
    "atd_args.history_len = 5\n",
    "\n",
    "atd_args.train_epochs= 100\n",
    "atd_args.lr = 0.001\n",
    "atd_args.criterion = 'L1'\n",
    "atd_args.use_gpu = True\n",
    "\n",
    "atd_args.input_channel = atd_args.history_len\n",
    "atd_args.input_height = 1\n",
    "atd_args.input_width = 5200\n",
    "atd_args.kernel_size = 6\n",
    "atd_args.knpp = 6\n",
    "atd_args.knpp2 = atd_args.predict_len"
   ]
  },
  {
   "cell_type": "code",
   "execution_count": 8,
   "metadata": {
    "scrolled": true
   },
   "outputs": [
    {
     "name": "stdout",
     "output_type": "stream",
     "text": [
      "Use GPU: cuda:None\n",
      "epoch: 0, train_loss: 1677.9812273297991\n",
      "epoch: 1, train_loss: 713.2244698660714\n",
      "epoch: 2, train_loss: 490.13682774135043\n",
      "epoch: 3, train_loss: 330.42532784598217\n",
      "epoch: 4, train_loss: 259.0156555175781\n",
      "epoch: 5, train_loss: 195.42953055245536\n",
      "epoch: 6, train_loss: 168.37197875976562\n",
      "epoch: 7, train_loss: 140.175416128976\n",
      "epoch: 8, train_loss: 128.48887852260046\n",
      "epoch: 9, train_loss: 115.18753269740513\n",
      "epoch: 10, train_loss: 107.58632550920758\n",
      "epoch: 11, train_loss: 102.3252944946289\n",
      "epoch: 12, train_loss: 99.1250501360212\n",
      "epoch: 13, train_loss: 96.6686771937779\n",
      "epoch: 14, train_loss: 95.21415383475167\n",
      "epoch: 15, train_loss: 93.94769941057477\n",
      "epoch: 16, train_loss: 92.8110842023577\n",
      "epoch: 17, train_loss: 91.53690011160714\n",
      "epoch: 18, train_loss: 90.53574044363839\n",
      "epoch: 19, train_loss: 88.89382825578961\n",
      "epoch: 20, train_loss: 87.39259120396206\n",
      "epoch: 21, train_loss: 86.03233228410993\n",
      "epoch: 22, train_loss: 84.85106004987445\n",
      "epoch: 23, train_loss: 84.01819501604352\n",
      "epoch: 24, train_loss: 82.99839564732143\n",
      "epoch: 25, train_loss: 81.82364109584263\n",
      "epoch: 26, train_loss: 80.77504512241909\n",
      "epoch: 27, train_loss: 79.59613146100726\n",
      "epoch: 28, train_loss: 78.37010083879743\n",
      "epoch: 29, train_loss: 77.81788199288505\n",
      "epoch: 30, train_loss: 76.65779331752232\n",
      "epoch: 31, train_loss: 75.38018907819476\n",
      "epoch: 32, train_loss: 74.77474866594586\n",
      "epoch: 33, train_loss: 73.89639500209263\n",
      "epoch: 34, train_loss: 72.92358071463448\n",
      "epoch: 35, train_loss: 71.57448141915458\n",
      "epoch: 36, train_loss: 70.97986275809151\n",
      "epoch: 37, train_loss: 70.56921822684151\n",
      "epoch: 38, train_loss: 69.87918199811664\n",
      "epoch: 39, train_loss: 68.83548409598214\n",
      "epoch: 40, train_loss: 68.33671242850167\n",
      "epoch: 41, train_loss: 67.83084324428013\n",
      "epoch: 42, train_loss: 67.02156393868583\n",
      "epoch: 43, train_loss: 66.56846291678292\n",
      "epoch: 44, train_loss: 65.95472063337054\n",
      "epoch: 45, train_loss: 65.510986328125\n",
      "epoch: 46, train_loss: 65.0910758972168\n",
      "epoch: 47, train_loss: 64.25586536952427\n",
      "epoch: 48, train_loss: 63.40836225237165\n",
      "epoch: 49, train_loss: 62.924591064453125\n",
      "epoch: 50, train_loss: 62.87891060965402\n",
      "epoch: 51, train_loss: 62.348026275634766\n",
      "epoch: 52, train_loss: 62.47958973475865\n",
      "epoch: 53, train_loss: 61.907059805733816\n",
      "epoch: 54, train_loss: 61.41158948625837\n",
      "epoch: 55, train_loss: 60.46502576555525\n",
      "epoch: 56, train_loss: 59.72833251953125\n",
      "epoch: 57, train_loss: 59.538783482142854\n",
      "epoch: 58, train_loss: 58.925127846854075\n",
      "epoch: 59, train_loss: 58.71975326538086\n",
      "epoch: 60, train_loss: 58.3295909336635\n",
      "epoch: 61, train_loss: 58.04087339128767\n",
      "epoch: 62, train_loss: 57.863433837890625\n",
      "epoch: 63, train_loss: 57.50818906511579\n",
      "epoch: 64, train_loss: 56.97448457990374\n",
      "epoch: 65, train_loss: 56.80566569737026\n",
      "epoch: 66, train_loss: 56.43929399762835\n",
      "epoch: 67, train_loss: 56.02694756644113\n",
      "epoch: 68, train_loss: 55.45381546020508\n",
      "epoch: 69, train_loss: 55.06497301374163\n",
      "epoch: 70, train_loss: 55.02900205339704\n",
      "epoch: 71, train_loss: 54.806977953229634\n",
      "epoch: 72, train_loss: 54.20868573869978\n",
      "epoch: 73, train_loss: 53.70691953386579\n",
      "epoch: 74, train_loss: 53.4063344682966\n",
      "epoch: 75, train_loss: 53.18574905395508\n",
      "epoch: 76, train_loss: 52.858890533447266\n",
      "epoch: 77, train_loss: 52.79801504952567\n",
      "epoch: 78, train_loss: 52.36903326851981\n",
      "epoch: 79, train_loss: 52.10990360804966\n",
      "epoch: 80, train_loss: 51.663818904331755\n",
      "epoch: 81, train_loss: 51.09520721435547\n",
      "epoch: 82, train_loss: 51.220259530203684\n",
      "epoch: 83, train_loss: 51.15437207903181\n",
      "epoch: 84, train_loss: 50.99724415370396\n",
      "epoch: 85, train_loss: 50.91316386631557\n",
      "epoch: 86, train_loss: 50.261562892368865\n",
      "epoch: 87, train_loss: 49.84217725481306\n",
      "epoch: 88, train_loss: 49.642888750348774\n",
      "epoch: 89, train_loss: 49.247615814208984\n",
      "epoch: 90, train_loss: 49.23788343157087\n",
      "epoch: 91, train_loss: 49.01515252249582\n",
      "epoch: 92, train_loss: 48.99323654174805\n",
      "epoch: 93, train_loss: 48.81618227277483\n",
      "epoch: 94, train_loss: 48.31589126586914\n",
      "epoch: 95, train_loss: 48.143336159842356\n",
      "epoch: 96, train_loss: 47.90365491594587\n",
      "epoch: 97, train_loss: 47.7144889831543\n",
      "epoch: 98, train_loss: 47.66005597795759\n",
      "epoch: 99, train_loss: 47.687467847551616\n"
     ]
    },
    {
     "data": {
      "text/plain": [
       "<driver.driver.ABC_Driver at 0x7f57e68ca3a0>"
      ]
     },
     "execution_count": 8,
     "metadata": {},
     "output_type": "execute_result"
    }
   ],
   "source": [
    "args = atd_args\n",
    "data = atd2022.io.read_csv()\n",
    "# data = None\n",
    "driver = ABC_Driver(args, data)\n",
    "driver.train()"
   ]
  },
  {
   "cell_type": "code",
   "execution_count": null,
   "metadata": {},
   "outputs": [],
   "source": [
    "# driver.metric()"
   ]
  },
  {
   "cell_type": "code",
   "execution_count": 9,
   "metadata": {},
   "outputs": [
    {
     "data": {
      "text/plain": [
       "tensor([[[[ 61.,  58., -31.,  ...,  52., 127.,   4.]]],\n",
       "\n",
       "\n",
       "        [[[ 61.,  47., -42.,  ...,  21., 131., -12.]]],\n",
       "\n",
       "\n",
       "        [[[ 41.,  24., -17.,  ...,  38., 120.,   5.]]],\n",
       "\n",
       "\n",
       "        ...,\n",
       "\n",
       "\n",
       "        [[[ 58.,  50., -12.,  ...,  84., 213.,  24.]]],\n",
       "\n",
       "\n",
       "        [[[ 32.,  55., -16.,  ...,  53., 210.,  24.]]],\n",
       "\n",
       "\n",
       "        [[[ 58.,  51., -32.,  ...,  97., 219.,  16.]]]], dtype=torch.float64)"
      ]
     },
     "execution_count": 9,
     "metadata": {},
     "output_type": "execute_result"
    }
   ],
   "source": [
    "train_pred = driver.predict(driver.data_loader.train).to(float).round()\n",
    "train_pred"
   ]
  },
  {
   "cell_type": "code",
   "execution_count": 10,
   "metadata": {},
   "outputs": [
    {
     "data": {
      "text/plain": [
       "tensor([[[[ 46.9483,  57.5578,  -9.9931,  ...,  97.7333, 254.3347,   6.7233]]]],\n",
       "       dtype=torch.float64)"
      ]
     },
     "execution_count": 10,
     "metadata": {},
     "output_type": "execute_result"
    }
   ],
   "source": [
    "pred = driver.predict().to(float)\n",
    "pred"
   ]
  },
  {
   "cell_type": "code",
   "execution_count": null,
   "metadata": {},
   "outputs": [],
   "source": [
    "data.mean()"
   ]
  },
  {
   "cell_type": "code",
   "execution_count": 9,
   "metadata": {},
   "outputs": [],
   "source": [
    "a = torch.tensor([[1,2],[3,4]])"
   ]
  },
  {
   "cell_type": "code",
   "execution_count": 11,
   "metadata": {},
   "outputs": [
    {
     "data": {
      "text/plain": [
       "tensor([[1, 2, 1, 2],\n",
       "        [3, 4, 3, 4]])"
      ]
     },
     "execution_count": 11,
     "metadata": {},
     "output_type": "execute_result"
    }
   ],
   "source": [
    "torch.concat([a,a],axis=1)"
   ]
  },
  {
   "cell_type": "code",
   "execution_count": null,
   "metadata": {},
   "outputs": [],
   "source": []
  }
 ],
 "metadata": {
  "kernelspec": {
   "display_name": "Python 3 (ipykernel)",
   "language": "python",
   "name": "python3"
  },
  "language_info": {
   "codemirror_mode": {
    "name": "ipython",
    "version": 3
   },
   "file_extension": ".py",
   "mimetype": "text/x-python",
   "name": "python",
   "nbconvert_exporter": "python",
   "pygments_lexer": "ipython3",
   "version": "3.9.13"
  }
 },
 "nbformat": 4,
 "nbformat_minor": 2
}
