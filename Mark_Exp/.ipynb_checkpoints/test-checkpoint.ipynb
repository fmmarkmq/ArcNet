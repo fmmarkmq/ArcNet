{
 "cells": [
  {
   "cell_type": "markdown",
   "metadata": {},
   "source": [
    "2 CNN: 0.98\n",
    "1 CNN: 0.9615 epoch 3\n",
    "1 CNN: 0.9782 epoch 50\n",
    "ABC: 0.9575 batch 100, lr 0.0001, metrics criterion 'CE', epoch 3\n",
    "ABC: 0.9671 batch 100, lr 0.0001, metrics criterion 'CE', epoch 6\n",
    "ABC: 0.9768 epoch 50 kernel_per_pixel 8"
   ]
  },
  {
   "cell_type": "code",
   "execution_count": 1,
   "metadata": {},
   "outputs": [],
   "source": [
    "import torch\n",
    "import torchvision\n",
    "import torch.nn.functional as F\n",
    "import pandas as pd\n",
    "import numpy as np\n",
    "import matplotlib.pyplot as plt\n",
    "from utils.tools import dotdict\n",
    "from driver.driver import ABC_Driver\n",
    "from torch_geometric_temporal import METRLADatasetLoader\n",
    "from other_model.other_model import make_default_model\n",
    "torch.cuda.is_available()\n",
    "torch.cuda.set_device(0)\n",
    "import atd2022"
   ]
  },
  {
   "cell_type": "code",
   "execution_count": 3,
   "metadata": {},
   "outputs": [],
   "source": [
    "atd_args = dotdict()\n",
    "atd_args.train = dotdict()\n",
    "\n",
    "atd_args.name = 'atd'\n",
    "atd_args.train.batch_size = 30\n",
    "atd_args.predict_len = 1\n",
    "atd_args.history_len = 5\n",
    "\n",
    "atd_args.train_epochs= 100\n",
    "atd_args.lr = 0.001\n",
    "atd_args.criterion = 'L1'\n",
    "atd_args.use_gpu = True\n",
    "\n",
    "input_channel = 1\n",
    "input_height = atd_args.history_len\n",
    "input_width = 5200\n",
    "kernel_size = 6\n",
    "knpp = 6\n",
    "knpp2 = atd_args.predict_len\n",
    "\n",
    "atd_args.layers=[\n",
    "    ('specific', (input_channel, knpp, kernel_size, input_height*input_width)),\n",
    "    ('specific', (knpp, kernel_size, knpp2, input_height*input_width)),\n",
    "    ('linear', (knpp2*input_height, atd_args.predict_len, (1,2), 1, (1, atd_args.predict_len))),\n",
    "]"
   ]
  },
  {
   "cell_type": "code",
   "execution_count": 4,
   "metadata": {},
   "outputs": [],
   "source": [
    "wt_args = dotdict()\n",
    "wt_args.train = dotdict()\n",
    "\n",
    "wt_args.name = 'wiki_traffic'\n",
    "wt_args.train.batch_size = 30\n",
    "wt_args.predict_len = 1\n",
    "wt_args.history_len = 5\n",
    "\n",
    "wt_args.train_epochs= 10\n",
    "wt_args.lr = 0.001\n",
    "wt_args.criterion = 'L1'\n",
    "wt_args.use_gpu = True\n",
    "\n",
    "input_channel = 1\n",
    "input_height = wt_args.history_len\n",
    "input_width = 1400\n",
    "kernel_size = 3\n",
    "knpp = 5\n",
    "knpp2 = 15\n",
    "\n",
    "wt_args.layers=[\n",
    "    ('specific', (input_channel, knpp, kernel_size, input_height*input_width)),\n",
    "    ('specific', (knpp, kernel_size, knpp2, input_height*input_width)),\n",
    "    ('linear', (knpp2*input_height, wt_args.predict_len, (1,2), 1, (1, wt_args.predict_len))),\n",
    "]"
   ]
  },
  {
   "cell_type": "code",
   "execution_count": 5,
   "metadata": {},
   "outputs": [],
   "source": [
    "lat_args = dotdict()\n",
    "lat_args.train = dotdict()\n",
    "\n",
    "lat_args.name = 'lat'\n",
    "lat_args.train.batch_size = 30\n",
    "lat_args.predict_len = 1\n",
    "lat_args.history_len = 5\n",
    "\n",
    "lat_args.train_epochs= 10\n",
    "lat_args.lr = 0.001\n",
    "lat_args.criterion = 'L1'\n",
    "lat_args.use_gpu = True\n",
    "\n",
    "input_channel = 1\n",
    "input_height = lat_args.history_len\n",
    "input_width = 207\n",
    "kernel_size = 3\n",
    "knpp = 5\n",
    "knpp2 = 15\n",
    "\n",
    "lat_args.layers=[\n",
    "    ('specific', (input_channel, knpp, kernel_size, input_height*input_width)),\n",
    "    ('specific', (knpp, kernel_size, knpp2, input_height*input_width)),\n",
    "    ('linear', (knpp2*input_height, lat_args.predict_len, (1,2), 1, (1, lat_args.predict_len))),\n",
    "]"
   ]
  },
  {
   "cell_type": "code",
   "execution_count": null,
   "metadata": {},
   "outputs": [],
   "source": [
    "# mnist_args = dotdict()\n",
    "mnist_args.train = dotdict()\n",
    "mnist_args.predict = dotdict()\n",
    "\n",
    "mnist_args.name = 'mnist'\n",
    "mnist_args.train.batch_size = 60\n",
    "mnist_args.predict.batch_size = 100\n",
    "\n",
    "mnist_args.train_epochs = 10\n",
    "mnist_args.lr = 0.0001\n",
    "mnist_args.criterion = 'CE'\n",
    "mnist_args.use_gpu = True\n",
    "\n",
    "input_channel = 1\n",
    "input_height = 28\n",
    "input_width = 28\n",
    "kernel_size = 9\n",
    "knpp = 10\n",
    "knpp2 = 20\n",
    "knpp3 = 40\n",
    "\n",
    "# mnist_args.layers=[\n",
    "#     ('specific', (input_channel, knpp, kernel_size, input_height*input_width, (2,2))),\n",
    "#     ('specific', (knpp, knpp2, kernel_size, input_height*input_width/4, (2,2))),\n",
    "#     ('specific', (knpp2, knpp3, kernel_size, input_height*input_width/16, (1,1))),\n",
    "#     ('linear', (int(knpp3*input_height*input_width/16), 10, (1,2,3))),\n",
    "#     ('softmax', (1))\n",
    "# ]\n",
    "\n",
    "mnist_args.layers=[\n",
    "    ('cnn2d', (input_channel, knpp, (3,3), 2, 1)),\n",
    "    ('cnn2d', (knpp, knpp2, (3,3), 2, 1)),\n",
    "    ('cnn2d', (knpp2, knpp3, (3,3), 1, 'same')),\n",
    "    ('linear', (int(knpp3*input_height*input_width/64), 10, (1,2,3))),\n",
    "    ('softmax', (1))\n",
    "]"
   ]
  },
  {
   "cell_type": "code",
   "execution_count": 35,
   "metadata": {},
   "outputs": [],
   "source": [
    "cifar10_args = dotdict()\n",
    "cifar10_args.train = dotdict()\n",
    "cifar10_args.predict = dotdict()\n",
    "\n",
    "cifar10_args.name = 'cifar10'\n",
    "cifar10_args.train.batch_size = 60\n",
    "cifar10_args.predict.batch_size = 100\n",
    "\n",
    "cifar10_args.train_epochs = 10\n",
    "cifar10_args.lr = 0.0001\n",
    "cifar10_args.criterion = 'CE'\n",
    "cifar10_args.use_gpu = True\n",
    "\n",
    "input_channel = 3\n",
    "input_height = 32\n",
    "input_width = 32\n",
    "kernel_size = 9\n",
    "knpp = 21\n",
    "knpp2 = 84\n",
    "knpp3 = \n",
    "\n",
    "cifar10_args.layers=[\n",
    "    ('agnostic', (input_channel, knpp, kernel_size, input_height*input_width, (2,2))),\n",
    "    ('agnostic', (knpp, knpp2, kernel_size, input_height*input_width/4, (2,2))),\n",
    "    ('agnostic', (knpp2, knpp3, kernel_size, input_height*input_width/16, (2,2))),\n",
    "    ('linear', (int(knpp3*input_height*input_width/64), 10, (1,2,3))),\n",
    "    ('softmax', (1))\n",
    "]\n",
    "\n",
    "# cifar10_args.layers=[\n",
    "#     ('large', (input_channel, knpp, (5,5), 9, (2,2))),\n",
    "#     ('large', (knpp, knpp2, (5,5), 9, (2,2))),\n",
    "#     ('large', (knpp2, knpp3, (5,5), 9, (2,2))),\n",
    "#     ('linear', (int(knpp3*input_height*input_width/64), 10, (1,2,3))),\n",
    "#     ('softmax', (1))\n",
    "# ]\n",
    "\n",
    "# cifar10_args.layers=[\n",
    "#     ('cnn2d', (input_channel, knpp, (3,3), 2, 1)),\n",
    "#     ('cnn2d', (knpp, knpp2, (3,3), 2, 1)),\n",
    "#     ('cnn2d', (knpp2, knpp3, (3,3), 2, 1)),\n",
    "#     ('linear', (int(knpp3*input_height*input_width/64), 10, (1,2,3))),\n",
    "#     ('softmax', (1))\n",
    "# ]"
   ]
  },
  {
   "cell_type": "code",
   "execution_count": 36,
   "metadata": {
    "scrolled": true
   },
   "outputs": [
    {
     "name": "stdout",
     "output_type": "stream",
     "text": [
      "Use GPU: cuda:None\n"
     ]
    },
    {
     "ename": "RuntimeError",
     "evalue": "mat1 and mat2 shapes cannot be multiplied (60x640 and 490x10)",
     "output_type": "error",
     "traceback": [
      "\u001b[0;31m---------------------------------------------------------------------------\u001b[0m",
      "\u001b[0;31mRuntimeError\u001b[0m                              Traceback (most recent call last)",
      "Cell \u001b[0;32mIn[36], line 9\u001b[0m\n\u001b[1;32m      3\u001b[0m \u001b[38;5;66;03m# data = atd2022.io.read_csv()\u001b[39;00m\n\u001b[1;32m      4\u001b[0m \u001b[38;5;66;03m# data = pd.read_csv('/scratch/mfeng/data/ABC/Wiki_Traffic/filled_selected_train_1.csv', index_col=0, header=[0,1,2,3], parse_dates=True)\u001b[39;00m\n\u001b[1;32m      5\u001b[0m \u001b[38;5;66;03m# data = pd.read_csv('/scratch/mfeng/data/ABC/LA_Traffic/LA_Traffic.csv', index_col=0)\u001b[39;00m\n\u001b[1;32m      6\u001b[0m \u001b[38;5;66;03m# data = data.head(200)\u001b[39;00m\n\u001b[1;32m      8\u001b[0m driver \u001b[38;5;241m=\u001b[39m ABC_Driver(args, data)\n\u001b[0;32m----> 9\u001b[0m \u001b[43mdriver\u001b[49m\u001b[38;5;241;43m.\u001b[39;49m\u001b[43mtrain\u001b[49m\u001b[43m(\u001b[49m\u001b[43m)\u001b[49m\n",
      "File \u001b[0;32m/scratch/mfeng/Attention_based_CNN/Mark_Exp/driver/driver.py:42\u001b[0m, in \u001b[0;36mABC_Driver.train\u001b[0;34m(self, train_loader)\u001b[0m\n\u001b[1;32m     40\u001b[0m labels\u001b[38;5;241m=\u001b[39mlabels\u001b[38;5;241m.\u001b[39mto(device)\n\u001b[1;32m     41\u001b[0m model_optim\u001b[38;5;241m.\u001b[39mzero_grad(set_to_none \u001b[38;5;241m=\u001b[39m \u001b[38;5;28;01mTrue\u001b[39;00m)\n\u001b[0;32m---> 42\u001b[0m preds \u001b[38;5;241m=\u001b[39m \u001b[43mmodel\u001b[49m\u001b[43m(\u001b[49m\u001b[43minputs\u001b[49m\u001b[43m)\u001b[49m\n\u001b[1;32m     43\u001b[0m loss \u001b[38;5;241m=\u001b[39m criterion(preds,labels)\n\u001b[1;32m     44\u001b[0m train_loss\u001b[38;5;241m.\u001b[39mappend(loss\u001b[38;5;241m.\u001b[39mitem())\n",
      "File \u001b[0;32m/scratch/mfeng/anaconda/envs/atd2022/lib/python3.9/site-packages/torch/nn/modules/module.py:1194\u001b[0m, in \u001b[0;36mModule._call_impl\u001b[0;34m(self, *input, **kwargs)\u001b[0m\n\u001b[1;32m   1190\u001b[0m \u001b[38;5;66;03m# If we don't have any hooks, we want to skip the rest of the logic in\u001b[39;00m\n\u001b[1;32m   1191\u001b[0m \u001b[38;5;66;03m# this function, and just call forward.\u001b[39;00m\n\u001b[1;32m   1192\u001b[0m \u001b[38;5;28;01mif\u001b[39;00m \u001b[38;5;129;01mnot\u001b[39;00m (\u001b[38;5;28mself\u001b[39m\u001b[38;5;241m.\u001b[39m_backward_hooks \u001b[38;5;129;01mor\u001b[39;00m \u001b[38;5;28mself\u001b[39m\u001b[38;5;241m.\u001b[39m_forward_hooks \u001b[38;5;129;01mor\u001b[39;00m \u001b[38;5;28mself\u001b[39m\u001b[38;5;241m.\u001b[39m_forward_pre_hooks \u001b[38;5;129;01mor\u001b[39;00m _global_backward_hooks\n\u001b[1;32m   1193\u001b[0m         \u001b[38;5;129;01mor\u001b[39;00m _global_forward_hooks \u001b[38;5;129;01mor\u001b[39;00m _global_forward_pre_hooks):\n\u001b[0;32m-> 1194\u001b[0m     \u001b[38;5;28;01mreturn\u001b[39;00m \u001b[43mforward_call\u001b[49m\u001b[43m(\u001b[49m\u001b[38;5;241;43m*\u001b[39;49m\u001b[38;5;28;43minput\u001b[39;49m\u001b[43m,\u001b[49m\u001b[43m \u001b[49m\u001b[38;5;241;43m*\u001b[39;49m\u001b[38;5;241;43m*\u001b[39;49m\u001b[43mkwargs\u001b[49m\u001b[43m)\u001b[49m\n\u001b[1;32m   1195\u001b[0m \u001b[38;5;66;03m# Do not call functions when jit is used\u001b[39;00m\n\u001b[1;32m   1196\u001b[0m full_backward_hooks, non_full_backward_hooks \u001b[38;5;241m=\u001b[39m [], []\n",
      "File \u001b[0;32m/scratch/mfeng/Attention_based_CNN/Mark_Exp/model/model.py:95\u001b[0m, in \u001b[0;36mforward\u001b[0;34m(self, x)\u001b[0m\n\u001b[1;32m     93\u001b[0m \u001b[38;5;28;01mfor\u001b[39;00m i, module \u001b[38;5;129;01min\u001b[39;00m \u001b[38;5;28menumerate\u001b[39m(\u001b[38;5;28mself\u001b[39m\u001b[38;5;241m.\u001b[39mfull_modules):\n\u001b[1;32m     94\u001b[0m     x \u001b[38;5;241m=\u001b[39m module(x)\n\u001b[0;32m---> 95\u001b[0m \u001b[38;5;28;01mreturn\u001b[39;00m x\n",
      "File \u001b[0;32m/scratch/mfeng/anaconda/envs/atd2022/lib/python3.9/site-packages/torch/nn/modules/module.py:1194\u001b[0m, in \u001b[0;36mModule._call_impl\u001b[0;34m(self, *input, **kwargs)\u001b[0m\n\u001b[1;32m   1190\u001b[0m \u001b[38;5;66;03m# If we don't have any hooks, we want to skip the rest of the logic in\u001b[39;00m\n\u001b[1;32m   1191\u001b[0m \u001b[38;5;66;03m# this function, and just call forward.\u001b[39;00m\n\u001b[1;32m   1192\u001b[0m \u001b[38;5;28;01mif\u001b[39;00m \u001b[38;5;129;01mnot\u001b[39;00m (\u001b[38;5;28mself\u001b[39m\u001b[38;5;241m.\u001b[39m_backward_hooks \u001b[38;5;129;01mor\u001b[39;00m \u001b[38;5;28mself\u001b[39m\u001b[38;5;241m.\u001b[39m_forward_hooks \u001b[38;5;129;01mor\u001b[39;00m \u001b[38;5;28mself\u001b[39m\u001b[38;5;241m.\u001b[39m_forward_pre_hooks \u001b[38;5;129;01mor\u001b[39;00m _global_backward_hooks\n\u001b[1;32m   1193\u001b[0m         \u001b[38;5;129;01mor\u001b[39;00m _global_forward_hooks \u001b[38;5;129;01mor\u001b[39;00m _global_forward_pre_hooks):\n\u001b[0;32m-> 1194\u001b[0m     \u001b[38;5;28;01mreturn\u001b[39;00m \u001b[43mforward_call\u001b[49m\u001b[43m(\u001b[49m\u001b[38;5;241;43m*\u001b[39;49m\u001b[38;5;28;43minput\u001b[39;49m\u001b[43m,\u001b[49m\u001b[43m \u001b[49m\u001b[38;5;241;43m*\u001b[39;49m\u001b[38;5;241;43m*\u001b[39;49m\u001b[43mkwargs\u001b[49m\u001b[43m)\u001b[49m\n\u001b[1;32m   1195\u001b[0m \u001b[38;5;66;03m# Do not call functions when jit is used\u001b[39;00m\n\u001b[1;32m   1196\u001b[0m full_backward_hooks, non_full_backward_hooks \u001b[38;5;241m=\u001b[39m [], []\n",
      "File \u001b[0;32m/scratch/mfeng/Attention_based_CNN/Mark_Exp/model/model.py:37\u001b[0m, in \u001b[0;36mforward\u001b[0;34m(self, x)\u001b[0m\n\u001b[1;32m     35\u001b[0m     x \u001b[38;5;241m=\u001b[39m x\u001b[38;5;241m.\u001b[39mflatten(\u001b[38;5;241m-\u001b[39m\u001b[38;5;28mlen\u001b[39m(\u001b[38;5;28mself\u001b[39m\u001b[38;5;241m.\u001b[39min_dim), \u001b[38;5;241m-\u001b[39m\u001b[38;5;241m1\u001b[39m)\n\u001b[1;32m     36\u001b[0m x \u001b[38;5;241m=\u001b[39m \u001b[38;5;28mself\u001b[39m\u001b[38;5;241m.\u001b[39mfc(x)\n\u001b[0;32m---> 37\u001b[0m \u001b[38;5;28;01mif\u001b[39;00m \u001b[38;5;28mself\u001b[39m\u001b[38;5;241m.\u001b[39mout_dim \u001b[38;5;129;01mis\u001b[39;00m \u001b[38;5;129;01mnot\u001b[39;00m \u001b[38;5;28;01mNone\u001b[39;00m:\n\u001b[1;32m     38\u001b[0m     out_permute_index \u001b[38;5;241m=\u001b[39m \u001b[38;5;28mlist\u001b[39m(\u001b[38;5;28mrange\u001b[39m(\u001b[38;5;28mlen\u001b[39m(x\u001b[38;5;241m.\u001b[39mshape)\u001b[38;5;241m-\u001b[39m\u001b[38;5;241m1\u001b[39m))\n\u001b[1;32m     39\u001b[0m     out_permute_index\u001b[38;5;241m.\u001b[39minsert(\u001b[38;5;28mself\u001b[39m\u001b[38;5;241m.\u001b[39mout_dim, \u001b[38;5;28mlen\u001b[39m(x\u001b[38;5;241m.\u001b[39mshape)\u001b[38;5;241m-\u001b[39m\u001b[38;5;241m1\u001b[39m)\n",
      "File \u001b[0;32m/scratch/mfeng/anaconda/envs/atd2022/lib/python3.9/site-packages/torch/nn/modules/module.py:1194\u001b[0m, in \u001b[0;36mModule._call_impl\u001b[0;34m(self, *input, **kwargs)\u001b[0m\n\u001b[1;32m   1190\u001b[0m \u001b[38;5;66;03m# If we don't have any hooks, we want to skip the rest of the logic in\u001b[39;00m\n\u001b[1;32m   1191\u001b[0m \u001b[38;5;66;03m# this function, and just call forward.\u001b[39;00m\n\u001b[1;32m   1192\u001b[0m \u001b[38;5;28;01mif\u001b[39;00m \u001b[38;5;129;01mnot\u001b[39;00m (\u001b[38;5;28mself\u001b[39m\u001b[38;5;241m.\u001b[39m_backward_hooks \u001b[38;5;129;01mor\u001b[39;00m \u001b[38;5;28mself\u001b[39m\u001b[38;5;241m.\u001b[39m_forward_hooks \u001b[38;5;129;01mor\u001b[39;00m \u001b[38;5;28mself\u001b[39m\u001b[38;5;241m.\u001b[39m_forward_pre_hooks \u001b[38;5;129;01mor\u001b[39;00m _global_backward_hooks\n\u001b[1;32m   1193\u001b[0m         \u001b[38;5;129;01mor\u001b[39;00m _global_forward_hooks \u001b[38;5;129;01mor\u001b[39;00m _global_forward_pre_hooks):\n\u001b[0;32m-> 1194\u001b[0m     \u001b[38;5;28;01mreturn\u001b[39;00m \u001b[43mforward_call\u001b[49m\u001b[43m(\u001b[49m\u001b[38;5;241;43m*\u001b[39;49m\u001b[38;5;28;43minput\u001b[39;49m\u001b[43m,\u001b[49m\u001b[43m \u001b[49m\u001b[38;5;241;43m*\u001b[39;49m\u001b[38;5;241;43m*\u001b[39;49m\u001b[43mkwargs\u001b[49m\u001b[43m)\u001b[49m\n\u001b[1;32m   1195\u001b[0m \u001b[38;5;66;03m# Do not call functions when jit is used\u001b[39;00m\n\u001b[1;32m   1196\u001b[0m full_backward_hooks, non_full_backward_hooks \u001b[38;5;241m=\u001b[39m [], []\n",
      "File \u001b[0;32m/scratch/mfeng/anaconda/envs/atd2022/lib/python3.9/site-packages/torch/nn/modules/linear.py:114\u001b[0m, in \u001b[0;36mLinear.forward\u001b[0;34m(self, input)\u001b[0m\n\u001b[1;32m    113\u001b[0m \u001b[38;5;28;01mdef\u001b[39;00m \u001b[38;5;21mforward\u001b[39m(\u001b[38;5;28mself\u001b[39m, \u001b[38;5;28minput\u001b[39m: Tensor) \u001b[38;5;241m-\u001b[39m\u001b[38;5;241m>\u001b[39m Tensor:\n\u001b[0;32m--> 114\u001b[0m     \u001b[38;5;28;01mreturn\u001b[39;00m \u001b[43mF\u001b[49m\u001b[38;5;241;43m.\u001b[39;49m\u001b[43mlinear\u001b[49m\u001b[43m(\u001b[49m\u001b[38;5;28;43minput\u001b[39;49m\u001b[43m,\u001b[49m\u001b[43m \u001b[49m\u001b[38;5;28;43mself\u001b[39;49m\u001b[38;5;241;43m.\u001b[39;49m\u001b[43mweight\u001b[49m\u001b[43m,\u001b[49m\u001b[43m \u001b[49m\u001b[38;5;28;43mself\u001b[39;49m\u001b[38;5;241;43m.\u001b[39;49m\u001b[43mbias\u001b[49m\u001b[43m)\u001b[49m\n",
      "\u001b[0;31mRuntimeError\u001b[0m: mat1 and mat2 shapes cannot be multiplied (60x640 and 490x10)"
     ]
    }
   ],
   "source": [
    "args = mnist_args\n",
    "data = None\n",
    "# data = atd2022.io.read_csv()\n",
    "# data = pd.read_csv('/scratch/mfeng/data/ABC/Wiki_Traffic/filled_selected_train_1.csv', index_col=0, header=[0,1,2,3], parse_dates=True)\n",
    "# data = pd.read_csv('/scratch/mfeng/data/ABC/LA_Traffic/LA_Traffic.csv', index_col=0)\n",
    "# data = data.head(200)\n",
    "\n",
    "driver = ABC_Driver(args, data)\n",
    "driver.train()"
   ]
  },
  {
   "cell_type": "code",
   "execution_count": 32,
   "metadata": {
    "scrolled": true
   },
   "outputs": [
    {
     "data": {
      "text/plain": [
       "0.9796"
      ]
     },
     "execution_count": 32,
     "metadata": {},
     "output_type": "execute_result"
    }
   ],
   "source": [
    "driver.metric()"
   ]
  },
  {
   "cell_type": "code",
   "execution_count": 33,
   "metadata": {},
   "outputs": [
    {
     "data": {
      "text/plain": [
       "479540"
      ]
     },
     "execution_count": 33,
     "metadata": {},
     "output_type": "execute_result"
    }
   ],
   "source": [
    "sum(p.numel() for p in driver.model.parameters() if p.requires_grad)"
   ]
  },
  {
   "cell_type": "code",
   "execution_count": null,
   "metadata": {},
   "outputs": [],
   "source": []
  },
  {
   "cell_type": "code",
   "execution_count": null,
   "metadata": {},
   "outputs": [],
   "source": []
  },
  {
   "cell_type": "code",
   "execution_count": null,
   "metadata": {},
   "outputs": [],
   "source": []
  },
  {
   "cell_type": "code",
   "execution_count": null,
   "metadata": {},
   "outputs": [],
   "source": []
  },
  {
   "cell_type": "code",
   "execution_count": null,
   "metadata": {},
   "outputs": [],
   "source": []
  },
  {
   "cell_type": "code",
   "execution_count": null,
   "metadata": {},
   "outputs": [],
   "source": []
  },
  {
   "cell_type": "code",
   "execution_count": 12,
   "metadata": {},
   "outputs": [
    {
     "data": {
      "text/plain": [
       "tensor([[[[  2.,   1.,  20.,  ...,  28.,  56.,   1.]]],\n",
       "\n",
       "\n",
       "        [[[  1.,   0.,  -1.,  ...,  54.,  97.,   0.]]],\n",
       "\n",
       "\n",
       "        [[[  3.,   1.,  21.,  ...,  36.,  76.,   0.]]],\n",
       "\n",
       "\n",
       "        ...,\n",
       "\n",
       "\n",
       "        [[[ 16.,   5.,   4.,  ..., 119., 152.,   1.]]],\n",
       "\n",
       "\n",
       "        [[[ 10.,   5.,   2.,  ...,  80., 178.,   4.]]],\n",
       "\n",
       "\n",
       "        [[[ 23.,   6.,   8.,  ..., 115., 134.,   2.]]]], dtype=torch.float64)"
      ]
     },
     "execution_count": 12,
     "metadata": {},
     "output_type": "execute_result"
    }
   ],
   "source": [
    "train_pred = driver.predict(driver.data_loader.train).to(float).round()\n",
    "train_pred"
   ]
  },
  {
   "cell_type": "code",
   "execution_count": 13,
   "metadata": {},
   "outputs": [
    {
     "data": {
      "text/plain": [
       "tensor([[[[  5.7886,   2.5833,   2.7232,  ...,  51.8400, 157.8637,   3.4961]]]],\n",
       "       dtype=torch.float64)"
      ]
     },
     "execution_count": 13,
     "metadata": {},
     "output_type": "execute_result"
    }
   ],
   "source": [
    "pred = driver.predict().to(float)\n",
    "pred"
   ]
  },
  {
   "cell_type": "code",
   "execution_count": 14,
   "metadata": {},
   "outputs": [
    {
     "data": {
      "text/plain": [
       "Region  Event\n",
       "AA      01        10.700\n",
       "        02         4.230\n",
       "        03         7.100\n",
       "        04        24.525\n",
       "        05         5.190\n",
       "                  ...   \n",
       "ZI      16        45.055\n",
       "        17       261.165\n",
       "        18        94.235\n",
       "        19       199.690\n",
       "        20         1.025\n",
       "Length: 5200, dtype: float64"
      ]
     },
     "execution_count": 14,
     "metadata": {},
     "output_type": "execute_result"
    }
   ],
   "source": [
    "data.mean()"
   ]
  },
  {
   "cell_type": "code",
   "execution_count": null,
   "metadata": {},
   "outputs": [],
   "source": []
  }
 ],
 "metadata": {
  "kernelspec": {
   "display_name": "Python 3 (ipykernel)",
   "language": "python",
   "name": "python3"
  },
  "language_info": {
   "codemirror_mode": {
    "name": "ipython",
    "version": 3
   },
   "file_extension": ".py",
   "mimetype": "text/x-python",
   "name": "python",
   "nbconvert_exporter": "python",
   "pygments_lexer": "ipython3",
   "version": "3.9.13"
  }
 },
 "nbformat": 4,
 "nbformat_minor": 2
}
