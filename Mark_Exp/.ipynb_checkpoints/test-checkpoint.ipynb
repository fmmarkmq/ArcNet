{
 "cells": [
  {
   "cell_type": "markdown",
   "metadata": {},
   "source": [
    "2 CNN: 0.98\n",
    "1 CNN: 0.9615 epoch 3\n",
    "1 CNN: 0.9782 epoch 50\n",
    "ABC: 0.9575 batch 100, lr 0.0001, metrics criterion 'CE', epoch 3\n",
    "ABC: 0.9671 batch 100, lr 0.0001, metrics criterion 'CE', epoch 6\n",
    "ABC: 0.9768 epoch 50 kernel_per_pixel 8"
   ]
  },
  {
   "cell_type": "code",
   "execution_count": 1,
   "metadata": {},
   "outputs": [],
   "source": [
    "import torch\n",
    "import torchvision\n",
    "import torch.nn.functional as F\n",
    "import pandas as pd\n",
    "import numpy as np\n",
    "import matplotlib.pyplot as plt\n",
    "from utils.tools import dotdict\n",
    "from driver.driver import ABC_Driver\n",
    "from torch_geometric_temporal import METRLADatasetLoader\n",
    "from other_model.other_model import make_default_model\n",
    "torch.cuda.is_available()\n",
    "torch.cuda.set_device(0)\n",
    "import atd2022"
   ]
  },
  {
   "cell_type": "code",
   "execution_count": 2,
   "metadata": {},
   "outputs": [],
   "source": [
    "atd_args = dotdict()\n",
    "atd_args.train = dotdict()\n",
    "\n",
    "atd_args.name = 'atd'\n",
    "atd_args.train.batch_size = 30\n",
    "atd_args.predict_len = 1\n",
    "atd_args.history_len = 5\n",
    "\n",
    "atd_args.train_epochs= 100\n",
    "atd_args.lr = 0.001\n",
    "atd_args.criterion = 'L1'\n",
    "atd_args.use_gpu = True\n",
    "atd_args.if_scheduler = True\n",
    "\n",
    "input_channel = 1\n",
    "input_height = atd_args.history_len\n",
    "input_width = 5200\n",
    "kernel_size = 6\n",
    "knpp = 6\n",
    "knpp2 = atd_args.predict_len\n",
    "\n",
    "atd_args.layers=[\n",
    "    ('specific', (input_channel, knpp, kernel_size, input_height*input_width)),\n",
    "    ('specific', (knpp, kernel_size, knpp2, input_height*input_width)),\n",
    "    ('linear', (knpp2*input_height, atd_args.predict_len, (1,2), 1, (1, atd_args.predict_len))),\n",
    "]"
   ]
  },
  {
   "cell_type": "code",
   "execution_count": 3,
   "metadata": {},
   "outputs": [],
   "source": [
    "wt_args = dotdict()\n",
    "wt_args.train = dotdict()\n",
    "\n",
    "wt_args.name = 'wiki_traffic'\n",
    "wt_args.train.batch_size = 30\n",
    "wt_args.predict_len = 1\n",
    "wt_args.history_len = 5\n",
    "\n",
    "wt_args.train_epochs= 10\n",
    "wt_args.lr = 0.001\n",
    "wt_args.criterion = 'L1'\n",
    "wt_args.use_gpu = True\n",
    "wt_args.if_scheduler = True\n",
    "\n",
    "input_channel = 1\n",
    "input_height = wt_args.history_len\n",
    "input_width = 1400\n",
    "kernel_size = 3\n",
    "knpp = 5\n",
    "knpp2 = 15\n",
    "\n",
    "wt_args.layers=[\n",
    "    ('specific', (input_channel, knpp, kernel_size, input_height*input_width)),\n",
    "    ('specific', (knpp, kernel_size, knpp2, input_height*input_width)),\n",
    "    ('linear', (knpp2*input_height, wt_args.predict_len, (1,2), 1, (1, wt_args.predict_len))),\n",
    "]"
   ]
  },
  {
   "cell_type": "code",
   "execution_count": 4,
   "metadata": {},
   "outputs": [],
   "source": [
    "lat_args = dotdict()\n",
    "lat_args.train = dotdict()\n",
    "\n",
    "lat_args.name = 'lat'\n",
    "lat_args.train.batch_size = 30\n",
    "lat_args.predict_len = 1\n",
    "lat_args.history_len = 5\n",
    "\n",
    "lat_args.train_epochs= 10\n",
    "lat_args.lr = 0.001\n",
    "lat_args.criterion = 'L1'\n",
    "lat_args.use_gpu = True\n",
    "lat_args.if_scheduler = True\n",
    "\n",
    "input_channel = 1\n",
    "input_height = lat_args.history_len\n",
    "input_width = 207\n",
    "kernel_size = 3\n",
    "knpp = 5\n",
    "knpp2 = 15\n",
    "\n",
    "lat_args.layers=[\n",
    "    ('specific', (input_channel, knpp, kernel_size, input_height*input_width)),\n",
    "    ('specific', (knpp, kernel_size, knpp2, input_height*input_width)),\n",
    "    ('linear', (knpp2*input_height, lat_args.predict_len, (1,2), 1, (1, lat_args.predict_len))),\n",
    "]"
   ]
  },
  {
   "cell_type": "code",
   "execution_count": 5,
   "metadata": {},
   "outputs": [],
   "source": [
    "mnist_args = dotdict()\n",
    "mnist_args.train = dotdict()\n",
    "mnist_args.predict = dotdict()\n",
    "\n",
    "mnist_args.name = 'mnist'\n",
    "mnist_args.train.batch_size = 60\n",
    "mnist_args.predict.batch_size = 100\n",
    "\n",
    "mnist_args.train_epochs = 10\n",
    "mnist_args.lr = 0.0001\n",
    "mnist_args.criterion = 'CE'\n",
    "mnist_args.use_gpu = True\n",
    "mnist_args.if_scheduler = True\n",
    "\n",
    "input_channel = 1\n",
    "input_height = 28\n",
    "input_width = 28\n",
    "kernel_size = 25\n",
    "knpp = 10\n",
    "knpp2 = 20\n",
    "knpp3 = 39\n",
    "\n",
    "# mnist_args.layers=[\n",
    "#     ('specific', (input_channel, knpp, kernel_size, input_height*input_width, (2,2))),\n",
    "#     ('specific', (knpp, knpp2, kernel_size, input_height*input_width/4, (2,2))),\n",
    "#     ('specific', (knpp2, knpp3, kernel_size, input_height*input_width/16, (1,1))),\n",
    "#     ('attention', (knpp3, 5)),\n",
    "#     ('linear', (knpp3+1, 10, (1,2,3))),\n",
    "#     ('softmax', (1))\n",
    "# ]\n",
    "\n",
    "mnist_args.layers=[\n",
    "    ('cnn2d', (input_channel, knpp, (5,5), 2, 2)),\n",
    "    ('cnn2d', (knpp, knpp2, (5,5), 2, 2)),\n",
    "    ('cnn2d', (knpp2, knpp3, (5,5), 1, 2)),\n",
    "    ('attention', (knpp3, 5)),\n",
    "    ('linear', (knpp3+1, 10, (1,2,3))),\n",
    "    ('softmax', (1))\n",
    "]"
   ]
  },
  {
   "cell_type": "code",
   "execution_count": 6,
   "metadata": {},
   "outputs": [],
   "source": [
    "cifar10_args = dotdict()\n",
    "cifar10_args.train = dotdict()\n",
    "cifar10_args.predict = dotdict()\n",
    "\n",
    "cifar10_args.name = 'cifar10'\n",
    "cifar10_args.train.batch_size = 60\n",
    "cifar10_args.predict.batch_size = 100\n",
    "\n",
    "cifar10_args.train_epochs = 10\n",
    "cifar10_args.lr = 0.0005\n",
    "cifar10_args.criterion = 'CE'\n",
    "cifar10_args.use_gpu = True\n",
    "cifar10_args.if_scheduler = True\n",
    "\n",
    "input_channel = 3\n",
    "input_height = 32\n",
    "input_width = 32\n",
    "kernel_size = 9\n",
    "knpp = 15\n",
    "knpp2 = 30\n",
    "knpp3 = 51\n",
    "\n",
    "cifar10_args.layers=[\n",
    "    ('specific', (input_channel, knpp, kernel_size, input_height*input_width, (2,2))),\n",
    "    ('specific', (knpp, knpp2, kernel_size, input_height*input_width/4, (2,2))),\n",
    "    ('specific', (knpp2, knpp3, kernel_size, input_height*input_width/16, (2,2))),\n",
    "    ('attention', (knpp3, 4)),\n",
    "    ('linear', (knpp3+1, 10, (1,2,3))),\n",
    "    ('softmax', (1))\n",
    "]\n",
    "\n",
    "# cifar10_args.layers=[\n",
    "#     ('large', (input_channel, knpp, (5,5), 9, (2,2))),\n",
    "#     ('large', (knpp, knpp2, (5,5), 9, (2,2))),\n",
    "#     ('large', (knpp2, knpp3, (5,5), 9, (2,2))),\n",
    "#     ('linear', (int(knpp3*input_height*input_width/64), 10, (1,2,3))),\n",
    "#     ('softmax', (1))\n",
    "# ]\n",
    "\n",
    "# cifar10_args.layers=[\n",
    "#     ('cnn2d', (input_channel, knpp, (3,3), 2, 1)),\n",
    "#     ('cnn2d', (knpp, knpp2, (3,3), 2, 1)),\n",
    "#     ('cnn2d', (knpp2, knpp3, (3,3), 2, 1)),\n",
    "#     ('attention', (knpp3, 5)),\n",
    "#     ('linear', (knpp3+1, 10, (1,2,3))),\n",
    "#     ('softmax', (1))\n",
    "# ]"
   ]
  },
  {
   "cell_type": "code",
   "execution_count": 7,
   "metadata": {
    "scrolled": true
   },
   "outputs": [
    {
     "name": "stdout",
     "output_type": "stream",
     "text": [
      "Use GPU: cuda:None\n",
      "epoch: 0, train_loss: 1.791457198023796\n",
      "epoch: 1, train_loss: 1.5320130165815353\n",
      "epoch: 2, train_loss: 1.5094619929790496\n",
      "epoch: 3, train_loss: 1.5016198092699051\n",
      "epoch: 4, train_loss: 1.4906162738800048\n",
      "epoch: 5, train_loss: 1.493994048476219\n",
      "epoch: 6, train_loss: 1.4894282562732697\n",
      "epoch: 7, train_loss: 1.4831234120130539\n",
      "epoch: 8, train_loss: 1.479211515545845\n",
      "epoch: 9, train_loss: 1.476479477763176\n"
     ]
    },
    {
     "data": {
      "text/plain": [
       "<driver.driver.ABC_Driver at 0x7f4c8c90b730>"
      ]
     },
     "execution_count": 7,
     "metadata": {},
     "output_type": "execute_result"
    }
   ],
   "source": [
    "args = mnist_args\n",
    "data = None\n",
    "# data = atd2022.io.read_csv()\n",
    "# data = pd.read_csv('/scratch/mfeng/data/ABC/Wiki_Traffic/filled_selected_train_1.csv', index_col=0, header=[0,1,2,3], parse_dates=True)\n",
    "# data = pd.read_csv('/scratch/mfeng/data/ABC/LA_Traffic/LA_Traffic.csv', index_col=0)\n",
    "# data = data.head(200)\n",
    "\n",
    "driver = ABC_Driver(args, data)\n",
    "driver.train()"
   ]
  },
  {
   "cell_type": "code",
   "execution_count": 9,
   "metadata": {},
   "outputs": [
    {
     "data": {
      "text/plain": [
       "0.9764"
      ]
     },
     "execution_count": 9,
     "metadata": {},
     "output_type": "execute_result"
    }
   ],
   "source": [
    "driver.metric()"
   ]
  },
  {
   "cell_type": "code",
   "execution_count": null,
   "metadata": {},
   "outputs": [],
   "source": []
  },
  {
   "cell_type": "code",
   "execution_count": null,
   "metadata": {},
   "outputs": [],
   "source": []
  }
 ],
 "metadata": {
  "kernelspec": {
   "display_name": "Python 3 (ipykernel)",
   "language": "python",
   "name": "python3"
  },
  "language_info": {
   "codemirror_mode": {
    "name": "ipython",
    "version": 3
   },
   "file_extension": ".py",
   "mimetype": "text/x-python",
   "name": "python",
   "nbconvert_exporter": "python",
   "pygments_lexer": "ipython3",
   "version": "3.9.13"
  }
 },
 "nbformat": 4,
 "nbformat_minor": 2
}
