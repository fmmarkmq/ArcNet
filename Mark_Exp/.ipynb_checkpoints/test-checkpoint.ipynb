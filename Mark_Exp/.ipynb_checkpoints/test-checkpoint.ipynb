{
 "cells": [
  {
   "cell_type": "markdown",
   "metadata": {},
   "source": [
    "2 CNN: 0.98\n",
    "1 CNN: 0.9615 epoch 3\n",
    "1 CNN: 0.9782 epoch 50\n",
    "ABC: 0.9575 batch 100, lr 0.0001, metrics criterion 'CE', epoch 3\n",
    "ABC: 0.9671 batch 100, lr 0.0001, metrics criterion 'CE', epoch 6\n",
    "ABC: 0.9768 epoch 50 kernel_per_pixel 8"
   ]
  },
  {
   "cell_type": "code",
   "execution_count": 1,
   "metadata": {},
   "outputs": [],
   "source": []
  },
  {
   "cell_type": "code",
   "execution_count": 2,
   "metadata": {},
   "outputs": [],
   "source": [
    "import torch\n",
    "import torchvision\n",
    "import torch.nn.functional as F\n",
    "import pandas as pd\n",
    "import numpy as np\n",
    "import matplotlib.pyplot as plt\n",
    "from utils.tools import dotdict\n",
    "from driver.driver import ABC_Driver\n",
    "from torch_geometric_temporal import METRLADatasetLoader\n",
    "from other_model.other_model import make_default_model\n",
    "torch.cuda.is_available()\n",
    "torch.cuda.set_device(0)\n",
    "import atd2022"
   ]
  },
  {
   "cell_type": "code",
   "execution_count": 3,
   "metadata": {},
   "outputs": [],
   "source": [
    "mnist_args = dotdict()\n",
    "mnist_args.train = dotdict()\n",
    "mnist_args.predict = dotdict()\n",
    "\n",
    "mnist_args.name = 'mnist'\n",
    "mnist_args.model = 'abc'\n",
    "mnist_args.train.batch_size = 60\n",
    "mnist_args.predict.batch_size = 100\n",
    "\n",
    "mnist_args.train_epochs = 10\n",
    "mnist_args.lr = 0.0001\n",
    "mnist_args.criterion = 'CE'\n",
    "mnist_args.use_gpu = True\n",
    "\n",
    "input_channel = 1\n",
    "input_height = 28\n",
    "input_width = 28\n",
    "kernel_size = 9\n",
    "knpp = 10\n",
    "knpp2 = 20\n",
    "\n",
    "mnist_args.layers=[\n",
    "    ('specific', (input_channel, input_height*input_width, kernel_size, knpp)),\n",
    "    ('specific', (knpp, input_height*input_width, kernel_size, knpp2)),\n",
    "    ('linear', (knpp2*input_height*input_width, 10, (1,2,3), 1)),\n",
    "    ('softmax', (1))\n",
    "]"
   ]
  },
  {
   "cell_type": "code",
   "execution_count": 4,
   "metadata": {},
   "outputs": [],
   "source": [
    "atd_args = dotdict()\n",
    "atd_args.train = dotdict()\n",
    "\n",
    "atd_args.name = 'atd'\n",
    "atd_args.model = 'abc'\n",
    "atd_args.train.batch_size = 30\n",
    "atd_args.predict_len = 1\n",
    "atd_args.history_len = 5\n",
    "\n",
    "atd_args.train_epochs= 100\n",
    "atd_args.lr = 0.001\n",
    "atd_args.criterion = 'L1'\n",
    "atd_args.use_gpu = True\n",
    "\n",
    "atd_args.input_channel = atd_args.history_len\n",
    "atd_args.input_height = 1\n",
    "atd_args.input_width = 5200\n",
    "atd_args.kernel_size = 6\n",
    "atd_args.knpp = 6\n",
    "atd_args.knpp2 = atd_args.predict_len"
   ]
  },
  {
   "cell_type": "code",
   "execution_count": 5,
   "metadata": {},
   "outputs": [],
   "source": [
    "wt_args = dotdict()\n",
    "wt_args.train = dotdict()\n",
    "\n",
    "wt_args.name = 'wiki_traffic'\n",
    "wt_args.model = 'abc'\n",
    "wt_args.train.batch_size = 30\n",
    "wt_args.predict_len = 1\n",
    "wt_args.history_len = 5\n",
    "\n",
    "wt_args.train_epochs= 10\n",
    "wt_args.lr = 0.001\n",
    "wt_args.criterion = 'L1'\n",
    "wt_args.use_gpu = True\n",
    "\n",
    "wt_args.input_channel = 1\n",
    "wt_args.input_height = wt_args.history_len\n",
    "wt_args.input_width = 1400\n",
    "wt_args.kernel_size = 3\n",
    "wt_args.knpp = 5\n",
    "wt_args.knpp2 = 15"
   ]
  },
  {
   "cell_type": "code",
   "execution_count": 6,
   "metadata": {},
   "outputs": [],
   "source": [
    "lat_args = dotdict()\n",
    "lat_args.train = dotdict()\n",
    "\n",
    "lat_args.name = 'lat'\n",
    "lat_args.model = 'abc'\n",
    "lat_args.train.batch_size = 30\n",
    "lat_args.predict_len = 1\n",
    "lat_args.history_len = 5\n",
    "\n",
    "lat_args.train_epochs= 10\n",
    "lat_args.lr = 0.001\n",
    "lat_args.criterion = 'L1'\n",
    "lat_args.use_gpu = True\n",
    "\n",
    "lat_args.input_channel = 1\n",
    "lat_args.input_height = lat_args.history_len\n",
    "lat_args.input_width = 207\n",
    "lat_args.kernel_size = 3\n",
    "lat_args.knpp = 5\n",
    "lat_args.knpp2 = 15"
   ]
  },
  {
   "cell_type": "code",
   "execution_count": null,
   "metadata": {
    "scrolled": true
   },
   "outputs": [
    {
     "name": "stdout",
     "output_type": "stream",
     "text": [
      "Use GPU: cuda:None\n"
     ]
    }
   ],
   "source": [
    "args = mnist_args\n",
    "# data = atd2022.io.read_csv()\n",
    "data = None\n",
    "# data = pd.read_csv('/scratch/mfeng/data/ABC/Wiki_Traffic/filled_selected_train_1.csv', index_col=0, header=[0,1,2,3], parse_dates=True)\n",
    "# data = pd.read_csv('/scratch/mfeng/data/ABC/LA_Traffic/LA_Traffic.csv', index_col=0)\n",
    "# data = data.head(200)\n",
    "\n",
    "driver = ABC_Driver(args, data)\n",
    "driver.train()"
   ]
  },
  {
   "cell_type": "code",
   "execution_count": null,
   "metadata": {
    "scrolled": true
   },
   "outputs": [],
   "source": [
    "# driver.metric()"
   ]
  },
  {
   "cell_type": "code",
   "execution_count": 7,
   "metadata": {},
   "outputs": [
    {
     "data": {
      "text/plain": [
       "tensor([[[[1895.,   29.,  810.,  ..., 1530.,  237., 1965.]]],\n",
       "\n",
       "\n",
       "        [[[2166.,   38.,  778.,  ..., 1474.,  331., 1689.]]],\n",
       "\n",
       "\n",
       "        [[[2122.,  166.,  801.,  ..., 1516.,  486., 1695.]]],\n",
       "\n",
       "\n",
       "        ...,\n",
       "\n",
       "\n",
       "        [[[3105.,   33., 1281.,  ..., 1588.,   27., 1327.]]],\n",
       "\n",
       "\n",
       "        [[[3491.,   30., 1284.,  ..., 1610.,   32., 1377.]]],\n",
       "\n",
       "\n",
       "        [[[4147.,   34., 1229.,  ..., 1546.,   36., 1423.]]]],\n",
       "       dtype=torch.float64)"
      ]
     },
     "execution_count": 7,
     "metadata": {},
     "output_type": "execute_result"
    }
   ],
   "source": [
    "train_pred = driver.predict(driver.data_loader.train).to(float).round()\n",
    "train_pred"
   ]
  },
  {
   "cell_type": "code",
   "execution_count": 8,
   "metadata": {},
   "outputs": [
    {
     "data": {
      "text/plain": [
       "tensor([[[[3559.2969,   38.4836, 1200.3420,  ..., 1606.4017,   32.7459,\n",
       "           1410.8895]]]], dtype=torch.float64)"
      ]
     },
     "execution_count": 8,
     "metadata": {},
     "output_type": "execute_result"
    }
   ],
   "source": [
    "pred = driver.predict().to(float)\n",
    "pred"
   ]
  },
  {
   "cell_type": "code",
   "execution_count": 9,
   "metadata": {},
   "outputs": [
    {
     "data": {
      "text/plain": [
       "org_all-access_spider      wikipedia  zh  Android                      41.345455\n",
       "                                          Facebook                     51.505455\n",
       "                                          Google                       60.198182\n",
       "                                          IPhone                       46.205455\n",
       "                                          Lady_Gaga                    16.690909\n",
       "                                                                        ...     \n",
       "org_all-access_all-agents  wikipedia  es  Winona_Ryder               1741.643636\n",
       "                                          Winston_Churchill          2149.641818\n",
       "                                          Wolfgang_Amadeus_Mozart    3189.116364\n",
       "                                          Garbiñe_Muguruza           1887.305455\n",
       "                                          WhatsApp                   3146.554545\n",
       "Length: 1400, dtype: float64"
      ]
     },
     "execution_count": 9,
     "metadata": {},
     "output_type": "execute_result"
    }
   ],
   "source": [
    "data.mean()"
   ]
  },
  {
   "cell_type": "code",
   "execution_count": null,
   "metadata": {},
   "outputs": [],
   "source": []
  }
 ],
 "metadata": {
  "kernelspec": {
   "display_name": "Python 3 (ipykernel)",
   "language": "python",
   "name": "python3"
  },
  "language_info": {
   "codemirror_mode": {
    "name": "ipython",
    "version": 3
   },
   "file_extension": ".py",
   "mimetype": "text/x-python",
   "name": "python",
   "nbconvert_exporter": "python",
   "pygments_lexer": "ipython3",
   "version": "3.9.13"
  }
 },
 "nbformat": 4,
 "nbformat_minor": 2
}
