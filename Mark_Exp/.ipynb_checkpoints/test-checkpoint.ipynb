{
 "cells": [
  {
   "cell_type": "markdown",
   "metadata": {},
   "source": [
    "2 CNN: 0.98\n",
    "1 CNN: 0.9615 epoch 3\n",
    "1 CNN: 0.9782 epoch 50\n",
    "ABC: 0.9575 batch 100, lr 0.0001, metrics criterion 'CE', epoch 3\n",
    "ABC: 0.9671 batch 100, lr 0.0001, metrics criterion 'CE', epoch 6\n",
    "ABC: 0.9768 epoch 50 kernel_per_pixel 8"
   ]
  },
  {
   "cell_type": "code",
   "execution_count": 1,
   "metadata": {},
   "outputs": [],
   "source": [
    "import torch\n",
    "import torchvision\n",
    "import torch.nn.functional as F\n",
    "import pandas as pd\n",
    "import numpy as np\n",
    "import matplotlib.pyplot as plt\n",
    "from utils.tools import dotdict\n",
    "from driver.driver import ABC_Driver\n",
    "torch.cuda.is_available()\n",
    "torch.cuda.set_device(0)\n",
    "import atd2022"
   ]
  },
  {
   "cell_type": "code",
   "execution_count": 2,
   "metadata": {},
   "outputs": [],
   "source": [
    "mnist_args = dotdict()\n",
    "mnist_args.train = dotdict()\n",
    "mnist_args.predict = dotdict()\n",
    "\n",
    "mnist_args.name = 'mnist'\n",
    "mnist_args.train.batch_size = 60\n",
    "mnist_args.predict.batch_size = 1000\n",
    "\n",
    "mnist_args.train_epochs= 3\n",
    "mnist_args.lr = 0.0001\n",
    "mnist_args.criterion = 'CE'\n",
    "mnist_args.use_gpu = True\n",
    "\n",
    "mnist_args.input_channel = 1\n",
    "mnist_args.input_height = 28\n",
    "mnist_args.input_width = 28\n",
    "mnist_args.kernel_size = 9\n",
    "mnist_args.knpp = 10"
   ]
  },
  {
   "cell_type": "code",
   "execution_count": 3,
   "metadata": {},
   "outputs": [],
   "source": [
    "atd_args = dotdict()\n",
    "atd_args.train = dotdict()\n",
    "\n",
    "atd_args.name = 'atd'\n",
    "atd_args.train.batch_size = 20\n",
    "atd_args.predict_len = 4\n",
    "atd_args.history_len = 30\n",
    "\n",
    "atd_args.train_epochs= 200\n",
    "atd_args.lr = 0.01\n",
    "atd_args.criterion = 'L1'\n",
    "atd_args.use_gpu = True\n",
    "\n",
    "atd_args.input_channel = atd_args.history_len\n",
    "atd_args.input_height = 1\n",
    "atd_args.input_width = 5200\n",
    "atd_args.kernel_size = 1\n",
    "atd_args.knpp = 6"
   ]
  },
  {
   "cell_type": "code",
   "execution_count": 6,
   "metadata": {},
   "outputs": [
    {
     "name": "stdout",
     "output_type": "stream",
     "text": [
      "epoch: 0, train_loss: 1.5926689956188202\n",
      "epoch: 1, train_loss: 1.5191201297044754\n",
      "epoch: 2, train_loss: 1.5072300893068313\n"
     ]
    },
    {
     "data": {
      "text/plain": [
       "<driver.driver.ABC_Driver at 0x7fc448182d30>"
      ]
     },
     "execution_count": 6,
     "metadata": {},
     "output_type": "execute_result"
    }
   ],
   "source": [
    "args = atd_args\n",
    "driver = ABC_Driver(args)\n",
    "driver.train()"
   ]
  },
  {
   "cell_type": "code",
   "execution_count": 7,
   "metadata": {},
   "outputs": [
    {
     "data": {
      "text/plain": [
       "0.9599"
      ]
     },
     "execution_count": 7,
     "metadata": {},
     "output_type": "execute_result"
    }
   ],
   "source": [
    "driver.metric()"
   ]
  },
  {
   "cell_type": "code",
   "execution_count": null,
   "metadata": {},
   "outputs": [],
   "source": []
  },
  {
   "cell_type": "code",
   "execution_count": null,
   "metadata": {},
   "outputs": [],
   "source": []
  }
 ],
 "metadata": {
  "kernelspec": {
   "display_name": "Python 3 (ipykernel)",
   "language": "python",
   "name": "python3"
  },
  "language_info": {
   "codemirror_mode": {
    "name": "ipython",
    "version": 3
   },
   "file_extension": ".py",
   "mimetype": "text/x-python",
   "name": "python",
   "nbconvert_exporter": "python",
   "pygments_lexer": "ipython3",
   "version": "3.9.13"
  }
 },
 "nbformat": 4,
 "nbformat_minor": 2
}
