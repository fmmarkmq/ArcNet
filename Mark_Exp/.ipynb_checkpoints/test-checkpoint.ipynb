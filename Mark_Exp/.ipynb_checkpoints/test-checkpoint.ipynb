{
 "cells": [
  {
   "cell_type": "markdown",
   "metadata": {},
   "source": [
    "2 CNN: 0.98\n",
    "1 CNN: 0.9615 epoch 3\n",
    "1 CNN: 0.9782 epoch 50\n",
    "ABC: 0.9575 batch 100, lr 0.0001, metrics criterion 'CE', epoch 3\n",
    "ABC: 0.9671 batch 100, lr 0.0001, metrics criterion 'CE', epoch 6\n",
    "ABC: 0.9768 epoch 50 kernel_per_pixel 8"
   ]
  },
  {
   "cell_type": "code",
   "execution_count": 1,
   "metadata": {},
   "outputs": [],
   "source": [
    "import torch\n",
    "import torchvision\n",
    "import torch.nn.functional as F\n",
    "import pandas as pd\n",
    "import numpy as np\n",
    "import matplotlib.pyplot as plt\n",
    "from utils.tools import dotdict\n",
    "from driver.driver import ABC_Driver\n",
    "from torch_geometric_temporal import METRLADatasetLoader\n",
    "from other_model.other_model import make_default_model\n",
    "torch.cuda.is_available()\n",
    "torch.cuda.set_device(0)\n",
    "import atd2022"
   ]
  },
  {
   "cell_type": "code",
   "execution_count": 2,
   "metadata": {},
   "outputs": [],
   "source": [
    "mnist_args = dotdict()\n",
    "mnist_args.train = dotdict()\n",
    "mnist_args.predict = dotdict()\n",
    "\n",
    "mnist_args.name = 'mnist'\n",
    "mnist_args.train.batch_size = 60\n",
    "mnist_args.predict.batch_size = 100\n",
    "\n",
    "mnist_args.train_epochs = 10\n",
    "mnist_args.lr = 0.0001\n",
    "mnist_args.criterion = 'CE'\n",
    "mnist_args.use_gpu = True\n",
    "\n",
    "input_channel = 1\n",
    "input_height = 28\n",
    "input_width = 28\n",
    "kernel_size = 9\n",
    "knpp = 10\n",
    "knpp2 = 20\n",
    "\n",
    "mnist_args.layers=[\n",
    "    ('specific', (input_channel, input_height*input_width, kernel_size, knpp)),\n",
    "    ('specific', (knpp, input_height*input_width, kernel_size, knpp2)),\n",
    "    ('linear', (knpp2*input_height*input_width, 10, (1,2,3))),\n",
    "    ('softmax', (1))\n",
    "]"
   ]
  },
  {
   "cell_type": "code",
   "execution_count": 3,
   "metadata": {},
   "outputs": [],
   "source": [
    "atd_args = dotdict()\n",
    "atd_args.train = dotdict()\n",
    "\n",
    "atd_args.name = 'atd'\n",
    "atd_args.train.batch_size = 30\n",
    "atd_args.predict_len = 1\n",
    "atd_args.history_len = 5\n",
    "\n",
    "atd_args.train_epochs= 100\n",
    "atd_args.lr = 0.001\n",
    "atd_args.criterion = 'L1'\n",
    "atd_args.use_gpu = True\n",
    "\n",
    "input_channel = 1\n",
    "input_height = atd_args.history_len\n",
    "input_width = 5200\n",
    "kernel_size = 6\n",
    "knpp = 6\n",
    "knpp2 = atd_args.predict_len\n",
    "\n",
    "atd_args.layers=[\n",
    "    ('agnostic', (input_channel, input_height*input_width, kernel_size, knpp)),\n",
    "    ('agnostic', (knpp, input_height*input_width, kernel_size, knpp2)),\n",
    "    ('linear', (knpp2*input_height, atd_args.predict_len, (1,2), 1, (1, atd_args.predict_len))),\n",
    "]"
   ]
  },
  {
   "cell_type": "code",
   "execution_count": 4,
   "metadata": {},
   "outputs": [],
   "source": [
    "wt_args = dotdict()\n",
    "wt_args.train = dotdict()\n",
    "\n",
    "wt_args.name = 'wiki_traffic'\n",
    "wt_args.train.batch_size = 30\n",
    "wt_args.predict_len = 1\n",
    "wt_args.history_len = 5\n",
    "\n",
    "wt_args.train_epochs= 10\n",
    "wt_args.lr = 0.001\n",
    "wt_args.criterion = 'L1'\n",
    "wt_args.use_gpu = True\n",
    "\n",
    "input_channel = 1\n",
    "input_height = wt_args.history_len\n",
    "input_width = 1400\n",
    "kernel_size = 3\n",
    "knpp = 5\n",
    "knpp2 = 15\n",
    "\n",
    "wt_args.layers=[\n",
    "    ('specific', (input_channel, input_height*input_width, kernel_size, knpp)),\n",
    "    ('specific', (knpp, input_height*input_width, kernel_size, knpp2)),\n",
    "    ('linear', (knpp2*input_height, wt_args.predict_len, (1,2), 1, (1, wt_args.predict_len))),\n",
    "]"
   ]
  },
  {
   "cell_type": "code",
   "execution_count": 5,
   "metadata": {},
   "outputs": [],
   "source": [
    "lat_args = dotdict()\n",
    "lat_args.train = dotdict()\n",
    "\n",
    "lat_args.name = 'lat'\n",
    "lat_args.train.batch_size = 30\n",
    "lat_args.predict_len = 1\n",
    "lat_args.history_len = 5\n",
    "\n",
    "lat_args.train_epochs= 10\n",
    "lat_args.lr = 0.001\n",
    "lat_args.criterion = 'L1'\n",
    "lat_args.use_gpu = True\n",
    "\n",
    "input_channel = 1\n",
    "input_height = lat_args.history_len\n",
    "input_width = 207\n",
    "kernel_size = 3\n",
    "knpp = 5\n",
    "knpp2 = 15\n",
    "\n",
    "lat_args.layers=[\n",
    "    ('specific', (input_channel, input_height*input_width, kernel_size, knpp)),\n",
    "    ('specific', (knpp, input_height*input_width, kernel_size, knpp2)),\n",
    "    ('linear', (knpp2*input_height, lat_args.predict_len, (1,2), 1, (1, lat_args.predict_len))),\n",
    "]"
   ]
  },
  {
   "cell_type": "code",
   "execution_count": 52,
   "metadata": {},
   "outputs": [],
   "source": [
    "cifar10_args = dotdict()\n",
    "cifar10_args.train = dotdict()\n",
    "cifar10_args.predict = dotdict()\n",
    "\n",
    "cifar10_args.name = 'cifar10'\n",
    "cifar10_args.train.batch_size = 100\n",
    "cifar10_args.predict.batch_size = 100\n",
    "\n",
    "cifar10_args.train_epochs = 20\n",
    "cifar10_args.lr = 0.0002\n",
    "cifar10_args.criterion = 'CE'\n",
    "cifar10_args.use_gpu = True\n",
    "\n",
    "input_channel = 3\n",
    "input_height = 32\n",
    "input_width = 32\n",
    "kernel_size = 10\n",
    "knpp = 21\n",
    "knpp2 = 40\n",
    "\n",
    "# cifar10_args.layers=[\n",
    "#     ('specific', (input_channel, input_height*input_width, kernel_size, knpp)),\n",
    "#     ('agnostic', (knpp, input_height*input_width, kernel_size, knpp2)),\n",
    "#     ('linear', (knpp2*input_height*input_width, 10, (1,2,3))),\n",
    "#     ('softmax', (1))\n",
    "# ]\n",
    "cifar10_args.layers=[\n",
    "    ('cnn2d', (input_channel, knpp, (3,3), 1, 'same')),\n",
    "    ('cnn2d', (knpp, knpp2, (3,3), 1, 'same')),\n",
    "    ('linear', (knpp2*input_height*input_width, 10, (1,2,3))),\n",
    "    ('softmax', (1))\n",
    "]"
   ]
  },
  {
   "cell_type": "code",
   "execution_count": 53,
   "metadata": {
    "scrolled": true
   },
   "outputs": [
    {
     "name": "stdout",
     "output_type": "stream",
     "text": [
      "Use GPU: cuda:None\n",
      "Files already downloaded and verified\n",
      "Files already downloaded and verified\n",
      "epoch: 0, train_loss: 2.096201148509979\n",
      "epoch: 1, train_loss: 2.0181874577999115\n",
      "epoch: 2, train_loss: 1.981718454837799\n",
      "epoch: 3, train_loss: 1.951790234565735\n",
      "epoch: 4, train_loss: 1.9279747591018677\n",
      "epoch: 5, train_loss: 1.9056647107601166\n",
      "epoch: 6, train_loss: 1.8878195369243622\n",
      "epoch: 7, train_loss: 1.8711418116092682\n",
      "epoch: 8, train_loss: 1.85550483417511\n",
      "epoch: 9, train_loss: 1.8414973657131195\n",
      "epoch: 10, train_loss: 1.8295125787258149\n",
      "epoch: 11, train_loss: 1.8168496563434602\n",
      "epoch: 12, train_loss: 1.8050910787582397\n",
      "epoch: 13, train_loss: 1.7932438724040984\n",
      "epoch: 14, train_loss: 1.783273622751236\n",
      "epoch: 15, train_loss: 1.7715096607208252\n",
      "epoch: 16, train_loss: 1.7626501123905183\n",
      "epoch: 17, train_loss: 1.7559933240413665\n",
      "epoch: 18, train_loss: 1.7467807583808899\n",
      "epoch: 19, train_loss: 1.737121494293213\n"
     ]
    },
    {
     "data": {
      "text/plain": [
       "<driver.driver.ABC_Driver at 0x7f1e51aa6580>"
      ]
     },
     "execution_count": 53,
     "metadata": {},
     "output_type": "execute_result"
    }
   ],
   "source": [
    "args = cifar10_args\n",
    "# data = atd2022.io.read_csv()\n",
    "data = None\n",
    "# data = pd.read_csv('/scratch/mfeng/data/ABC/Wiki_Traffic/filled_selected_train_1.csv', index_col=0, header=[0,1,2,3], parse_dates=True)\n",
    "# data = pd.read_csv('/scratch/mfeng/data/ABC/LA_Traffic/LA_Traffic.csv', index_col=0)\n",
    "# data = data.head(200)\n",
    "\n",
    "driver = ABC_Driver(args, data)\n",
    "driver.train()"
   ]
  },
  {
   "cell_type": "code",
   "execution_count": 54,
   "metadata": {
    "scrolled": true
   },
   "outputs": [
    {
     "data": {
      "text/plain": [
       "0.5768"
      ]
     },
     "execution_count": 54,
     "metadata": {},
     "output_type": "execute_result"
    }
   ],
   "source": [
    "driver.metric()"
   ]
  },
  {
   "cell_type": "code",
   "execution_count": 55,
   "metadata": {},
   "outputs": [
    {
     "data": {
      "text/plain": [
       "1063191"
      ]
     },
     "execution_count": 55,
     "metadata": {},
     "output_type": "execute_result"
    }
   ],
   "source": [
    "pytorch_total_params = sum(p.numel() for p in driver.model.parameters() if p.requires_grad)\n",
    "pytorch_total_params"
   ]
  },
  {
   "cell_type": "code",
   "execution_count": 12,
   "metadata": {},
   "outputs": [
    {
     "data": {
      "text/plain": [
       "tensor([[[[  2.,   1.,  20.,  ...,  28.,  56.,   1.]]],\n",
       "\n",
       "\n",
       "        [[[  1.,   0.,  -1.,  ...,  54.,  97.,   0.]]],\n",
       "\n",
       "\n",
       "        [[[  3.,   1.,  21.,  ...,  36.,  76.,   0.]]],\n",
       "\n",
       "\n",
       "        ...,\n",
       "\n",
       "\n",
       "        [[[ 16.,   5.,   4.,  ..., 119., 152.,   1.]]],\n",
       "\n",
       "\n",
       "        [[[ 10.,   5.,   2.,  ...,  80., 178.,   4.]]],\n",
       "\n",
       "\n",
       "        [[[ 23.,   6.,   8.,  ..., 115., 134.,   2.]]]], dtype=torch.float64)"
      ]
     },
     "execution_count": 12,
     "metadata": {},
     "output_type": "execute_result"
    }
   ],
   "source": [
    "train_pred = driver.predict(driver.data_loader.train).to(float).round()\n",
    "train_pred"
   ]
  },
  {
   "cell_type": "code",
   "execution_count": 13,
   "metadata": {},
   "outputs": [
    {
     "data": {
      "text/plain": [
       "tensor([[[[  5.7886,   2.5833,   2.7232,  ...,  51.8400, 157.8637,   3.4961]]]],\n",
       "       dtype=torch.float64)"
      ]
     },
     "execution_count": 13,
     "metadata": {},
     "output_type": "execute_result"
    }
   ],
   "source": [
    "pred = driver.predict().to(float)\n",
    "pred"
   ]
  },
  {
   "cell_type": "code",
   "execution_count": 14,
   "metadata": {},
   "outputs": [
    {
     "data": {
      "text/plain": [
       "Region  Event\n",
       "AA      01        10.700\n",
       "        02         4.230\n",
       "        03         7.100\n",
       "        04        24.525\n",
       "        05         5.190\n",
       "                  ...   \n",
       "ZI      16        45.055\n",
       "        17       261.165\n",
       "        18        94.235\n",
       "        19       199.690\n",
       "        20         1.025\n",
       "Length: 5200, dtype: float64"
      ]
     },
     "execution_count": 14,
     "metadata": {},
     "output_type": "execute_result"
    }
   ],
   "source": [
    "data.mean()"
   ]
  },
  {
   "cell_type": "code",
   "execution_count": null,
   "metadata": {},
   "outputs": [],
   "source": []
  }
 ],
 "metadata": {
  "kernelspec": {
   "display_name": "Python 3 (ipykernel)",
   "language": "python",
   "name": "python3"
  },
  "language_info": {
   "codemirror_mode": {
    "name": "ipython",
    "version": 3
   },
   "file_extension": ".py",
   "mimetype": "text/x-python",
   "name": "python",
   "nbconvert_exporter": "python",
   "pygments_lexer": "ipython3",
   "version": "3.9.13"
  }
 },
 "nbformat": 4,
 "nbformat_minor": 2
}
