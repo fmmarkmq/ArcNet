{
 "cells": [
  {
   "cell_type": "code",
   "execution_count": 1,
   "id": "85149fca",
   "metadata": {},
   "outputs": [],
   "source": [
    "import torch\n",
    "import torchvision\n",
    "import torch.nn.functional as F\n",
    "import pandas as pd\n",
    "import numpy as np\n",
    "import matplotlib.pyplot as plt\n",
    "from utils.tools import dotdict\n",
    "from driver.driver import ABC_Driver\n",
    "from torch_geometric_temporal import METRLADatasetLoader\n",
    "from other_model.other_model import make_default_model\n",
    "import atd2022\n",
    "torch.cuda.is_available()\n",
    "torch.cuda.set_device(2)"
   ]
  },
  {
   "cell_type": "code",
   "execution_count": 2,
   "id": "90b316e4",
   "metadata": {},
   "outputs": [],
   "source": [
    "cifar10_args = dotdict()\n",
    "\n",
    "cifar10_args.name = 'cifar10'\n",
    "cifar10_args.train_batch_size = 128\n",
    "cifar10_args.predict_batch_size = 128\n",
    "cifar10_args.device = ['cuda:2','cuda:3']\n",
    "\n",
    "cifar10_args.train_epochs = 250\n",
    "cifar10_args.lr = 0.2\n",
    "cifar10_args.criterion = 'CE'\n",
    "cifar10_args.optimizer = 'SGD'\n",
    "cifar10_args.scheduler = 'multistep'\n",
    "cifar10_args.attack = {'fgsm':(0.031,), 'pgd':(0.031,1,20)}\n",
    "\n",
    "activation = 'relu'\n",
    "input_channel = 3\n",
    "knpp = [48,96,144,240,336,432,528]\n",
    "\n",
    "cifar10_args.layers=[\n",
    "    ('cnn2d', ((input_channel, knpp[0], (1,1), 1, 0, 1, 1), 1, None, None, activation, False)),\n",
    "    ('atrc2d', ((knpp[0], knpp[1], (3,3), 1, 1, 1, knpp[0]), 1, None, None, activation, True)),\n",
    "    ('atrc2d', ((knpp[1], knpp[2], (3,3), 1, 1, 1, knpp[0]), 1, 'first', (2,2), activation, True)),\n",
    "    ('atrc2d', ((knpp[2], knpp[3], (3,3), 1, 1, 1, knpp[0]), 1, None, None, activation, True)),\n",
    "    ('atrc2d', ((knpp[3], knpp[4], (3,3), 1, 1, 1, knpp[0]), 1, 'first', (2,2), activation, True)),\n",
    "    ('atrc2d', ((knpp[4], knpp[5], (3,3), 1, 1, 1, knpp[0]), 1, None, None, activation, True)),\n",
    "    ('atrc2d', ((knpp[5], knpp[6], (3,3), 1, 1, 1, knpp[0]), 1, 'first', (2,2), activation, True)),\n",
    "#     ('cnn2d', ((knpp[-1], knpp[-1], (3,3), 1, 0, 1, knpp[0]), 1, None, None, activation, False)),\n",
    "#     ('cnn2d', ((knpp[-1], knpp[-1], (2,2), 1, 0, 1, knpp[0]), 1, None, None, False, False)),\n",
    "    ('adptavgpool', (1,1)),\n",
    "    ('linear', (knpp[-1], 10, (1,2,3)))\n",
    "]"
   ]
  },
  {
   "cell_type": "code",
   "execution_count": 3,
   "id": "235a19d0",
   "metadata": {},
   "outputs": [],
   "source": [
    "cifar100_args = dotdict()\n",
    "\n",
    "cifar100_args.name = 'cifar100'\n",
    "cifar100_args.train_batch_size = 100\n",
    "cifar100_args.predict_batch_size = 100\n",
    "cifar100_args.device = ['cuda:2','cuda:3']\n",
    "\n",
    "cifar100_args.train_epochs = 250\n",
    "cifar100_args.lr = 0.2\n",
    "cifar100_args.criterion = 'CE'\n",
    "cifar100_args.optimizer = 'SGD'\n",
    "cifar100_args.scheduler = 'multistep'\n",
    "cifar100_args.attack = {'fgsm':(0.005,), 'pgd':(0.005,0.1,20)}\n",
    "\n",
    "activation = 'relu'\n",
    "input_channel = 3\n",
    "knpp = [48,96,144,240,336,432,528]\n",
    "\n",
    "cifar100_args.layers=[\n",
    "    ('cnn2d', ((input_channel, knpp[0], (3,3), 1, 1, 1, 1), 1, None, None, activation, False)),\n",
    "    ('atrc2d', ((knpp[0], knpp[1], (3,3), 1, 1, 1, knpp[0]), 1, None, None, activation, True)),\n",
    "    ('atrc2d', ((knpp[1], knpp[2], (3,3), 1, 1, 1, knpp[0]), 1, 'first', (2,2), activation, True)),\n",
    "    ('atrc2d', ((knpp[2], knpp[3], (3,3), 1, 1, 1, knpp[0]), 1, None, None, activation, True)),\n",
    "    ('atrc2d', ((knpp[3], knpp[4], (3,3), 1, 1, 1, knpp[0]), 1, 'first', (2,2), activation, True)),\n",
    "    ('atrc2d', ((knpp[4], knpp[4], (3,3), 1, 1, 1, knpp[0]), 2, None, None, activation, True)),\n",
    "    ('atrc2d', ((knpp[4], knpp[4], (3,3), 1, 1, 1, knpp[0]), 2, None, None, activation, True)),\n",
    "    ('atrc2d', ((knpp[4], knpp[4], (3,3), 1, 1, 1, knpp[0]), 2, None, None, activation, True)),\n",
    "    ('atrc2d', ((knpp[4], knpp[5], (3,3), 1, 1, 1, knpp[0]), 1, None, None, activation, True)),\n",
    "    ('atrc2d', ((knpp[5], knpp[6], (3,3), 1, 1, 1, knpp[0]), 1, 'first', (2,2), activation, True)),\n",
    "    ('cnn2d', ((knpp[-1], knpp[-1], (3,3), 1, 0, 1, knpp[0]), 1, None, None, activation, False)),\n",
    "    ('cnn2d', ((knpp[-1], knpp[-1], (2,2), 1, 0, 1, knpp[0]), 1, None, None, False, False)),\n",
    "#     ('adptavgpool', (1,1)),\n",
    "    ('linear', (knpp[-1], 100, (1,2,3)))\n",
    "]\n"
   ]
  },
  {
   "cell_type": "code",
   "execution_count": null,
   "id": "b639e815",
   "metadata": {
    "scrolled": true
   },
   "outputs": [
    {
     "name": "stdout",
     "output_type": "stream",
     "text": [
      "Use: ['cuda:2', 'cuda:3']\n",
      "Files already downloaded and verified\n",
      "Files already downloaded and verified\n",
      "Files already downloaded and verified\n",
      "add record: 03/24/2023 18:03\n",
      "epoch: 0, train_loss: 4.4082, test_metric: 0.1667, time: 751.9806053638458\n",
      "epoch: 1, train_loss: 3.6595, test_metric: 0.2754, time: 757.5190591812134\n",
      "epoch: 2, train_loss: 3.2844, test_metric: 0.3415, time: 818.4139699935913\n",
      "epoch: 3, train_loss: 3.041, test_metric: 0.3784, time: 842.6220226287842\n",
      "epoch: 4, train_loss: 2.8592, test_metric: 0.4015, time: 843.0312628746033\n",
      "epoch: 5, train_loss: 2.743, test_metric: 0.4334, time: 842.7446990013123\n",
      "epoch: 6, train_loss: 2.6461, test_metric: 0.4564, time: 842.5694346427917\n",
      "epoch: 7, train_loss: 2.5767, test_metric: 0.472, time: 842.6293649673462\n",
      "epoch: 8, train_loss: 2.4932, test_metric: 0.4855, time: 842.9129984378815\n",
      "epoch: 9, train_loss: 2.4347, test_metric: 0.4904, time: 842.7669408321381\n",
      "epoch: 10, train_loss: 2.3933, test_metric: 0.4876, time: 843.2507934570312\n",
      "epoch: 11, train_loss: 2.353, test_metric: 0.5035, time: 843.3085629940033\n",
      "epoch: 12, train_loss: 2.3185, test_metric: 0.5067, time: 842.8125383853912\n",
      "epoch: 13, train_loss: 2.2847, test_metric: 0.5124, time: 842.335907459259\n",
      "epoch: 14, train_loss: 2.2527, test_metric: 0.5226, time: 843.6062848567963\n",
      "epoch: 15, train_loss: 2.2266, test_metric: 0.5166, time: 843.4430177211761\n",
      "epoch: 16, train_loss: 2.2109, test_metric: 0.522, time: 842.6986033916473\n",
      "epoch: 17, train_loss: 2.1856, test_metric: 0.5297, time: 843.481520652771\n",
      "epoch: 18, train_loss: 2.1658, test_metric: 0.5413, time: 843.1890139579773\n",
      "epoch: 19, train_loss: 2.1606, test_metric: 0.536, time: 843.2912850379944\n",
      "epoch: 20, train_loss: 2.13, test_metric: 0.543, time: 812.6449370384216\n",
      "epoch: 21, train_loss: 2.1238, test_metric: 0.5509, time: 843.834413766861\n"
     ]
    }
   ],
   "source": [
    "driver = ABC_Driver(cifar100_args, None, record_path=None, if_hash=False)\n",
    "driver.train()"
   ]
  },
  {
   "cell_type": "code",
   "execution_count": 3,
   "id": "18f5ae80",
   "metadata": {},
   "outputs": [],
   "source": [
    "# torch.save(driver.model.state_dict(), \"save/CIFAR100_ABC_2023_03_16.pt\")\n",
    "# driver.model.load_state_dict(torch.load(\"save/CIFAR100_ABC_2023_03_13.pt\"))"
   ]
  },
  {
   "cell_type": "code",
   "execution_count": 6,
   "id": "8522bcf2",
   "metadata": {},
   "outputs": [
    {
     "data": {
      "text/plain": [
       "name                           cifar10\n",
       "train_batch_size                   128\n",
       "predict_batch_size                 128\n",
       "device                [cuda:2, cuda:3]\n",
       "train_epochs                       250\n",
       "                            ...       \n",
       "epoch245                        0.9382\n",
       "epoch246                        0.9385\n",
       "epoch247                        0.9395\n",
       "epoch248                        0.9373\n",
       "epoch249                        0.9383\n",
       "Name: 03/23/2023 09:49, Length: 265, dtype: object"
      ]
     },
     "execution_count": 6,
     "metadata": {},
     "output_type": "execute_result"
    }
   ],
   "source": [
    "driver.record.record"
   ]
  },
  {
   "cell_type": "code",
   "execution_count": null,
   "id": "56e4f46c",
   "metadata": {},
   "outputs": [],
   "source": []
  },
  {
   "cell_type": "code",
   "execution_count": null,
   "id": "edfd19f1",
   "metadata": {},
   "outputs": [],
   "source": []
  },
  {
   "cell_type": "code",
   "execution_count": null,
   "id": "5b5e933e",
   "metadata": {},
   "outputs": [],
   "source": []
  },
  {
   "cell_type": "code",
   "execution_count": null,
   "id": "80d412fc",
   "metadata": {},
   "outputs": [],
   "source": []
  },
  {
   "cell_type": "code",
   "execution_count": null,
   "id": "4d5d08b1",
   "metadata": {},
   "outputs": [],
   "source": []
  },
  {
   "cell_type": "code",
   "execution_count": null,
   "id": "34a0105d",
   "metadata": {},
   "outputs": [],
   "source": []
  },
  {
   "cell_type": "code",
   "execution_count": null,
   "id": "53f5f175",
   "metadata": {},
   "outputs": [],
   "source": []
  }
 ],
 "metadata": {
  "kernelspec": {
   "display_name": "Python 3 (ipykernel)",
   "language": "python",
   "name": "python3"
  },
  "language_info": {
   "codemirror_mode": {
    "name": "ipython",
    "version": 3
   },
   "file_extension": ".py",
   "mimetype": "text/x-python",
   "name": "python",
   "nbconvert_exporter": "python",
   "pygments_lexer": "ipython3",
   "version": "3.9.13"
  }
 },
 "nbformat": 4,
 "nbformat_minor": 5
}
