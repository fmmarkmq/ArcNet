{
 "cells": [
  {
   "cell_type": "markdown",
   "id": "b469385d",
   "metadata": {},
   "source": [
    "clean\n",
    "cnn: 0.9970\n",
    "abc: 0.9971\n",
    "\n",
    "fgsm\n",
    "cnn: 0.2797\n",
    "abc: 0.5499\n",
    "\n",
    "pgd20\n",
    "cnn: 0.9813\n",
    "abc: 0.9808\n",
    "\n",
    "foolbox:\n",
    "pgd20 alpha=0.1 epsilon=0.1\n",
    "cnn: 0.0242\n",
    "abc: 0.2902\n",
    "\n",
    "fgsm epsilon=0.1\n",
    "cnn: 0.1504\n",
    "abc: 0.8913"
   ]
  },
  {
   "cell_type": "code",
   "execution_count": 1,
   "id": "5fa78c53",
   "metadata": {},
   "outputs": [],
   "source": [
    "import torch\n",
    "import torchvision\n",
    "\n",
    "import torch.nn as nn\n",
    "import torch.nn.functional as F\n",
    "import pandas as pd\n",
    "import numpy as np\n",
    "import matplotlib.pyplot as plt\n",
    "from utils.tools import dotdict\n",
    "from driver.driver import ABC_Driver\n",
    "torch.cuda.is_available()\n",
    "torch.cuda.set_device(2)"
   ]
  },
  {
   "cell_type": "code",
   "execution_count": 2,
   "id": "04f3d6c3",
   "metadata": {},
   "outputs": [],
   "source": [
    "mnist_args = dotdict()\n",
    "\n",
    "mnist_args.name = 'mnist'\n",
    "# mnist_args.device = ['cuda:4', 'cuda:5']\n",
    "mnist_args.device = ['cuda:2']\n",
    "mnist_args.train_batch_size = 120\n",
    "mnist_args.predict_batch_size = 120\n",
    "\n",
    "mnist_args.train_epochs = 25\n",
    "mnist_args.lr = 0.2\n",
    "mnist_args.criterion = 'CE'\n",
    "mnist_args.optimizer = 'SGD'\n",
    "mnist_args.scheduler = 'multistep3'\n",
    "mnist_args.attack = {'deepfool':(0.1,0.1,20),'apgd-ce':(0.1,)}\n",
    "\n",
    "activation = 'relu'\n",
    "input_channel = 1\n",
    "# knpp = [30,60,120,180,240,300]\n",
    "\n",
    "# mnist_args.layers=[\n",
    "#     ('cnn2d', ((input_channel, knpp[0], (7,7), 1, 3, 1, 1), 1, None, None, activation, False)),\n",
    "#     ('atc2d', ((knpp[0], knpp[1], (3,3), 1, 1, 1, knpp[0]), 1, None, None, activation, True)),\n",
    "#     ('atc2d', ((knpp[1], knpp[2], (3,3), 1, 1, 1, knpp[0]), 1, 'first', (2,2), activation, True)),\n",
    "#     ('atc2d', ((knpp[2], knpp[3], (3,3), 1, 1, 1, knpp[0]), 1, None, None, activation, True)),\n",
    "#     ('atc2d', ((knpp[3], knpp[4], (3,3), 1, 1, 1, knpp[0]), 1, 'first', (2,2), activation, True)),\n",
    "#     ('cnn2d', ((knpp[4], knpp[5], (3,3), 1, 1, 1, knpp[0]), 1, None, None, activation, False)),\n",
    "#     ('cnn2d', ((knpp[-1], knpp[-1], (3,3), 1, 0, 1, knpp[0]), 1, None, None, False, False)),\n",
    "#     ('adptavgpool', (1,1)),\n",
    "#     ('linear', (knpp[-1], 10, (1,2,3)))\n",
    "# ]\n",
    "\n",
    "mnist_args.layers=[\n",
    "    ('cnn2d', ((1, 24, (7, 7), 1, 3, 1, 1), 1, None, None, 'relu', False)), \n",
    "    ('atc2d', ((24, 48, (3, 3), 1, 1, 1, 24), 1, None, None, 'relu', True)), \n",
    "    ('atc2d', ((48, 96, (3, 3), 1, 1, 1, 24), 1, 'first', (2, 2), 'relu', True)), \n",
    "    ('atc2d', ((96, 144, (3, 3), 1, 1, 1, 24), 1, None, None, 'relu', True)), \n",
    "    ('atc2d', ((144, 192, (3, 3), 1, 1, 1, 24), 1, 'first', (2, 2), 'relu', True)), \n",
    "    ('cnn2d', ((192, 240, (3, 3), 1, 1, 1, 24), 1, None, None, 'relu', False)), \n",
    "    ('cnn2d', ((240, 240, (3, 3), 1, 0, 1, 24), 1, None, None, False, False)), \n",
    "    ('adptavgpool', (1, 1)), \n",
    "    ('linear', (240, 10, (1, 2, 3)))\n",
    "]\n",
    "\n",
    "\n",
    "# mnist_args.layers=[\n",
    "#     ('cnn2d', ((1, 24, (7, 7), 1, 3, 1, 1), 1, None, None, 'relu', False)), \n",
    "#     ('cnn2d', ((24, 48, (3, 3), 1, 1, 1, 1), 2, None, None, 'relu', True)), \n",
    "#     ('cnn2d', ((48, 96, (3, 3), 1, 1, 1, 1), 2, 'first', (2, 2), 'relu', True)), \n",
    "#     ('cnn2d', ((96, 144, (3, 3), 1, 1, 1, 1), 2, None, None, 'relu', True)), \n",
    "#     ('cnn2d', ((144, 192, (3, 3), 1, 1, 1, 1), 2, 'first', (2, 2), 'relu', True)), \n",
    "#     ('cnn2d', ((192, 240, (3, 3), 1, 1, 1, 1), 1, None, None, 'relu', False)), \n",
    "#     ('cnn2d', ((240, 240, (3, 3), 1, 0, 1, 1), 1, None, None, False, False)), \n",
    "#     ('adptavgpool', (1, 1)), \n",
    "#     ('linear', (240, 10, (1, 2, 3)))\n",
    "# ]\n",
    "\n",
    "\n",
    "# mnist_args.layers=[\n",
    "#     ('cnn2d', ((1, 24, (7, 7), 1, 3, 1, 1), 1, None, None, 'relu', False)), \n",
    "#     ('atrc2d', ((24, 48, (3, 3), 1, 1, 1, 24), 1, None, None, 'relu', True)), \n",
    "#     ('atrc2d', ((48, 96, (3, 3), 1, 1, 1, 24), 1, 'first', (2, 2), 'relu', True)), \n",
    "#     ('atrc2d', ((96, 144, (3, 3), 1, 1, 1, 24), 1, None, None, 'relu', True)), \n",
    "#     ('atrc2d', ((144, 192, (3, 3), 1, 1, 1, 24), 1, 'first', (2, 2), 'relu', True)), \n",
    "#     ('cnn2d', ((192, 192, (3, 3), 1, 1, 1, 24), 1, None, None, 'relu', False)), \n",
    "#     ('cnn2d', ((192, 192, (3, 3), 1, 0, 1, 24), 1, None, None, False, False)), \n",
    "#     ('adptavgpool', (1, 1)), \n",
    "#     ('linear', (192, 10, (1, 2, 3)))\n",
    "# ]\n",
    "\n",
    "\n",
    "\n",
    "# knpp = [24,48,96,192]\n",
    "# knpp = [30,60,120,240]\n",
    "\n",
    "# mnist_args.layers=[\n",
    "#     ('cnn2d', ((input_channel, knpp[0], (3,3), 1, 1, 1, 1), 1, None, None, activation, False)),\n",
    "#     ('atrc2d', ((knpp[0], knpp[1], (3,3), 1, 1, 1, 1), 1, None, None, activation, True)),\n",
    "#     ('atrc2d', ((knpp[1], knpp[2], (3,3), 1, 1, 1, 1), 1, 'first', (2,2), activation, True)),\n",
    "#     ('atrc2d', ((knpp[2], knpp[3], (3,3), 1, 1, 1, 1), 1, 'first', (2,2), activation, True)),\n",
    "#     ('cnn2d', ((knpp[-1], knpp[-1], (3,3), 1, 0, 1, 1), 1, None, None, activation, False)),\n",
    "#     ('cnn2d', ((knpp[-1], knpp[-1], (3,3), 1, 0, 1, 1), 1, None, None, False, False)),\n",
    "#     ('adptavgpool', (1,1)),\n",
    "#     ('linear', (knpp[-1], 10, (1,2,3)))\n",
    "# ]"
   ]
  },
  {
   "cell_type": "code",
   "execution_count": 3,
   "id": "a240b656",
   "metadata": {
    "scrolled": true
   },
   "outputs": [
    {
     "name": "stdout",
     "output_type": "stream",
     "text": [
      "Use: ['cuda:2']\n",
      "add record: 03/29/2023 10:06\n"
     ]
    }
   ],
   "source": [
    "driver = ABC_Driver(mnist_args, None, record_path=None, if_hash=False)\n",
    "# driver.train()"
   ]
  },
  {
   "cell_type": "code",
   "execution_count": 5,
   "id": "66355dbc",
   "metadata": {},
   "outputs": [
    {
     "data": {
      "text/plain": [
       "<All keys matched successfully>"
      ]
     },
     "execution_count": 5,
     "metadata": {},
     "output_type": "execute_result"
    }
   ],
   "source": [
    "# torch.save(driver.model.state_dict(), \"save/MNIST_CNN_2023_03_18.pt\")\n",
    "# driver.model.load_state_dict(torch.load(\"save/MNIST_ARC_2023_03_14.pt\"))\n",
    "# driver.model.load_state_dict(torch.load(\"save/MNIST_CNN_2023_02_27.pt\"))\n",
    "driver.model.load_state_dict(torch.load(\"save/MNIST_ABC_2023_02_26.pt\"))"
   ]
  },
  {
   "cell_type": "code",
   "execution_count": null,
   "id": "a90b8087",
   "metadata": {},
   "outputs": [],
   "source": []
  },
  {
   "cell_type": "code",
   "execution_count": null,
   "id": "3fcb8fd9",
   "metadata": {},
   "outputs": [],
   "source": []
  },
  {
   "cell_type": "code",
   "execution_count": null,
   "id": "f92f47ce",
   "metadata": {},
   "outputs": [],
   "source": []
  },
  {
   "cell_type": "code",
   "execution_count": null,
   "id": "11e25d44",
   "metadata": {},
   "outputs": [],
   "source": []
  }
 ],
 "metadata": {
  "kernelspec": {
   "display_name": "Python 3 (ipykernel)",
   "language": "python",
   "name": "python3"
  },
  "language_info": {
   "codemirror_mode": {
    "name": "ipython",
    "version": 3
   },
   "file_extension": ".py",
   "mimetype": "text/x-python",
   "name": "python",
   "nbconvert_exporter": "python",
   "pygments_lexer": "ipython3",
   "version": "3.9.13"
  }
 },
 "nbformat": 4,
 "nbformat_minor": 5
}
