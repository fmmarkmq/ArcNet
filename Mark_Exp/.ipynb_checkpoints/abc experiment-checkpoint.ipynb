{
 "cells": [
  {
   "cell_type": "markdown",
   "metadata": {},
   "source": [
    "2 CNN: 0.98\n",
    "1 CNN: 0.9615 epoch 3\n",
    "1 CNN: 0.9782 epoch 50\n",
    "ABC: 0.9575 batch 100, lr 0.0001, metrics criterion 'CE', epoch 3\n",
    "ABC: 0.9671 batch 100, lr 0.0001, metrics criterion 'CE', epoch 6\n",
    "ABC: 0.9768 epoch 50 kernel_per_pixel 8"
   ]
  },
  {
   "cell_type": "code",
   "execution_count": 1,
   "metadata": {},
   "outputs": [],
   "source": [
    "import torch\n",
    "import torchvision\n",
    "import torch.nn.functional as F\n",
    "import pandas as pd\n",
    "import numpy as np\n",
    "import matplotlib.pyplot as plt\n",
    "from utils.tools import dotdict\n",
    "from driver.driver import ABC_Driver\n",
    "from torch_geometric_temporal import METRLADatasetLoader\n",
    "from other_model.other_model import make_default_model\n",
    "import atd2022\n",
    "torch.cuda.is_available()\n",
    "torch.cuda.set_device(1)"
   ]
  },
  {
   "cell_type": "code",
   "execution_count": 2,
   "metadata": {},
   "outputs": [],
   "source": [
    "atd_args = dotdict()\n",
    "\n",
    "atd_args.name = 'atd'\n",
    "atd_args.train_batch_size = 25\n",
    "atd_args.predict_len = 4\n",
    "atd_args.history_len = 7\n",
    "\n",
    "atd_args.train_epochs= 10\n",
    "atd_args.lr = 0.00009\n",
    "atd_args.criterion = 'L1'\n",
    "atd_args.scheduler = None\n",
    "\n",
    "activation = 'relu'\n",
    "pool_name = 'avg'\n",
    "input_channel = 1\n",
    "pixel_number = atd_args.history_len*5200\n",
    "kernel_size = 6\n",
    "knpp = 12\n",
    "knpp2 = atd_args.predict_len\n",
    "\n",
    "atd_args.layers=[\n",
    "    ('agnostic', ((input_channel, knpp, kernel_size), 1, None, None, activation)),\n",
    "    ('agnostic', ((knpp, knpp2, kernel_size), 1, None, None, activation)),\n",
    "    ('linear', (knpp2*atd_args.history_len, atd_args.predict_len, (1,2), 1, (1, atd_args.predict_len))),\n",
    "]"
   ]
  },
  {
   "cell_type": "code",
   "execution_count": 3,
   "metadata": {},
   "outputs": [],
   "source": [
    "wt_args = dotdict()\n",
    "\n",
    "wt_args.name = 'wiki_traffic'\n",
    "wt_args.train_batch_size = 30\n",
    "wt_args.predict_len = 1\n",
    "wt_args.history_len = 5\n",
    "\n",
    "wt_args.train_epochs= 10\n",
    "wt_args.lr = 0.001\n",
    "wt_args.criterion = 'L1'\n",
    "wt_args.scheduler = None\n",
    "\n",
    "activation = 'relu'\n",
    "pool_name = 'avg'\n",
    "input_channel = 1\n",
    "pixel_number = wt_args.history_len*1400\n",
    "kernel_size = 3\n",
    "knpp = 5\n",
    "knpp2 = 15\n",
    "\n",
    "wt_args.layers=[\n",
    "    ('specific', ((input_channel, knpp, kernel_size), 1, None, None, activation)),\n",
    "    ('specific', ((knpp, knpp2, kernel_size), 1, None, None, activation)),\n",
    "    ('linear', (knpp2*wt_args.history_len, wt_args.predict_len, (1,2), 1, (1, wt_args.predict_len))),\n",
    "]"
   ]
  },
  {
   "cell_type": "code",
   "execution_count": 4,
   "metadata": {},
   "outputs": [],
   "source": [
    "lat_args = dotdict()\n",
    "\n",
    "lat_args.name = 'lat'\n",
    "lat_args.train_batch_size = 30\n",
    "lat_args.predict_len = 1\n",
    "lat_args.history_len = 5\n",
    "\n",
    "lat_args.train_epochs= 10\n",
    "lat_args.lr = 0.001\n",
    "lat_args.criterion = 'L1'\n",
    "lat_args.scheduler = None\n",
    "\n",
    "activation = 'relu'\n",
    "pool_name = 'avg'\n",
    "input_channel = 1\n",
    "pixel_number = lat_args.history_len*207\n",
    "kernel_size = 3\n",
    "knpp = 5\n",
    "knpp2 = 15\n",
    "\n",
    "lat_args.layers=[\n",
    "    ('specific', ((input_channel, knpp, kernel_size), 1, None, None, activation)),\n",
    "    ('specific', ((knpp, knpp2, kernel_size), 1, None, None, activation)),\n",
    "    ('linear', (knpp2*lat_args.history_len, lat_args.predict_len, (1,2), 1, (1, lat_args.predict_len))),\n",
    "]"
   ]
  },
  {
   "cell_type": "code",
   "execution_count": 5,
   "metadata": {},
   "outputs": [],
   "source": [
    "mnist_args = dotdict()\n",
    "\n",
    "mnist_args.name = 'mnist'\n",
    "mnist_args.train_batch_size = 60\n",
    "mnist_args.predict_batch_size = 100\n",
    "\n",
    "mnist_args.train_epochs = 10\n",
    "mnist_args.lr = 0.001\n",
    "mnist_args.criterion = 'CE'\n",
    "mnist_args.optimizer = 'Adam'\n",
    "mnist_args.scheduler = None\n",
    "\n",
    "activation = False\n",
    "input_channel = 1\n",
    "\n",
    "\n",
    "mnist_args.layers=[\n",
    "    ('cnn2d', ((1, 12, (7,7), 1, 3, 1, 1), 1, None, None, activation, False)),\n",
    "    ('avgpool', (2,2)),\n",
    "    ('atc2d', ((12, 24, (5,5), 1, 2, 1, 6), 1, None, None, activation, True)),\n",
    "    ('atc2d', ((24, 48, (5,5), 1, 2, 1, 12), 1, None, None, activation, True)),\n",
    "    ('adptavgpool', (1,1)),\n",
    "    ('linear', (48, 10, (1,2,3))),\n",
    "    ('softmax', (1))\n",
    "]"
   ]
  },
  {
   "cell_type": "code",
   "execution_count": 6,
   "metadata": {},
   "outputs": [],
   "source": [
    "cifar10_args = dotdict()\n",
    "\n",
    "cifar10_args.name = 'cifar10'\n",
    "cifar10_args.train_batch_size = 128\n",
    "cifar10_args.predict_batch_size = 100\n",
    "\n",
    "cifar10_args.train_epochs = 250\n",
    "cifar10_args.lr = 0.001\n",
    "cifar10_args.criterion = 'CE'\n",
    "cifar10_args.optimizer = 'Adam'\n",
    "cifar10_args.scheduler = 'multistep2'\n",
    "\n",
    "activation = False\n",
    "input_channel = 3\n",
    "knpp = [24, 24, 24, 48, 48, 48, 96, 96, 96]\n",
    "\n",
    "cifar10_args.layers=[\n",
    "    ('cnn2d', ((3, 24, (7,7), 1, 3, 1, 3), 1, None, None, activation, False)),\n",
    "    ('atc2d', ((24, 48, (3,3), 1, 1, 1, 12), 1, None, None, activation, True)),\n",
    "    ('atc2d', ((48, 96, (3,3), 1, 1, 1, 24), 1, 'first', (2,2), activation, True)),\n",
    "    ('atc2d', ((96, 192, (3,3), 1, 1, 1, 48), 1, 'first', (2,2), activation, True)),\n",
    "    ('atc2d', ((192, 384, (3,3), 1, 1, 1, 96), 1, 'first', (2,2), activation, True)),\n",
    "    ('atc2d', ((384, 768, (3,3), 1, 0, 1, 192), 1, None, (2,2), activation, True)),\n",
    "#     ('adptavgpool', (1,1)),\n",
    "    ('linear', (768, 10, (1,2,3))),\n",
    "    ('softmax', (1))\n",
    "]\n"
   ]
  },
  {
   "cell_type": "code",
   "execution_count": 7,
   "metadata": {
    "scrolled": true
   },
   "outputs": [
    {
     "name": "stdout",
     "output_type": "stream",
     "text": [
      "Use GPU\n",
      "Files already downloaded and verified\n",
      "Files already downloaded and verified\n",
      "add record: 02/10/2023 20:41\n"
     ]
    },
    {
     "ename": "RuntimeError",
     "evalue": "output with shape [128, 768, 1, 1] doesn't match the broadcast shape [128, 768, 2, 2]",
     "output_type": "error",
     "traceback": [
      "\u001b[0;31m---------------------------------------------------------------------------\u001b[0m",
      "\u001b[0;31mRuntimeError\u001b[0m                              Traceback (most recent call last)",
      "Cell \u001b[0;32mIn[7], line 9\u001b[0m\n\u001b[1;32m      3\u001b[0m \u001b[38;5;66;03m# data = atd2022.io.read_csv()\u001b[39;00m\n\u001b[1;32m      4\u001b[0m \u001b[38;5;66;03m# data = pd.read_csv('/scratch/mfeng/data/ABC/Wiki_Traffic/filled_selected_train_1.csv', index_col=0, header=[0,1,2,3], parse_dates=True)\u001b[39;00m\n\u001b[1;32m      5\u001b[0m \u001b[38;5;66;03m# data = pd.read_csv('/scratch/mfeng/data/ABC/LA_Traffic/LA_Traffic.csv', index_col=0)\u001b[39;00m\n\u001b[1;32m      6\u001b[0m \u001b[38;5;66;03m# data = data.head(200)\u001b[39;00m\n\u001b[1;32m      8\u001b[0m driver \u001b[38;5;241m=\u001b[39m ABC_Driver(args, data, record_path\u001b[38;5;241m=\u001b[39m\u001b[38;5;28;01mNone\u001b[39;00m, if_hash\u001b[38;5;241m=\u001b[39m\u001b[38;5;28;01mFalse\u001b[39;00m)\n\u001b[0;32m----> 9\u001b[0m \u001b[43mdriver\u001b[49m\u001b[38;5;241;43m.\u001b[39;49m\u001b[43mtrain\u001b[49m\u001b[43m(\u001b[49m\u001b[43m)\u001b[49m\n",
      "File \u001b[0;32m/scratch/mfeng/Attention_based_CNN/Mark_Exp/driver/driver.py:47\u001b[0m, in \u001b[0;36mABC_Driver.train\u001b[0;34m(self, train_loader)\u001b[0m\n\u001b[1;32m     45\u001b[0m labels\u001b[38;5;241m=\u001b[39mlabels\u001b[38;5;241m.\u001b[39mto(device)\n\u001b[1;32m     46\u001b[0m optimizer\u001b[38;5;241m.\u001b[39mzero_grad(set_to_none \u001b[38;5;241m=\u001b[39m \u001b[38;5;28;01mTrue\u001b[39;00m)\n\u001b[0;32m---> 47\u001b[0m preds \u001b[38;5;241m=\u001b[39m \u001b[43mmodel\u001b[49m\u001b[43m(\u001b[49m\u001b[43minputs\u001b[49m\u001b[43m)\u001b[49m\n\u001b[1;32m     48\u001b[0m loss \u001b[38;5;241m=\u001b[39m criterion(preds,labels)\n\u001b[1;32m     49\u001b[0m train_loss\u001b[38;5;241m.\u001b[39mappend(loss\u001b[38;5;241m.\u001b[39mitem())\n",
      "File \u001b[0;32m/scratch/mfeng/anaconda/envs/atd2022/lib/python3.9/site-packages/torch/nn/modules/module.py:1194\u001b[0m, in \u001b[0;36mModule._call_impl\u001b[0;34m(self, *input, **kwargs)\u001b[0m\n\u001b[1;32m   1190\u001b[0m \u001b[38;5;66;03m# If we don't have any hooks, we want to skip the rest of the logic in\u001b[39;00m\n\u001b[1;32m   1191\u001b[0m \u001b[38;5;66;03m# this function, and just call forward.\u001b[39;00m\n\u001b[1;32m   1192\u001b[0m \u001b[38;5;28;01mif\u001b[39;00m \u001b[38;5;129;01mnot\u001b[39;00m (\u001b[38;5;28mself\u001b[39m\u001b[38;5;241m.\u001b[39m_backward_hooks \u001b[38;5;129;01mor\u001b[39;00m \u001b[38;5;28mself\u001b[39m\u001b[38;5;241m.\u001b[39m_forward_hooks \u001b[38;5;129;01mor\u001b[39;00m \u001b[38;5;28mself\u001b[39m\u001b[38;5;241m.\u001b[39m_forward_pre_hooks \u001b[38;5;129;01mor\u001b[39;00m _global_backward_hooks\n\u001b[1;32m   1193\u001b[0m         \u001b[38;5;129;01mor\u001b[39;00m _global_forward_hooks \u001b[38;5;129;01mor\u001b[39;00m _global_forward_pre_hooks):\n\u001b[0;32m-> 1194\u001b[0m     \u001b[38;5;28;01mreturn\u001b[39;00m \u001b[43mforward_call\u001b[49m\u001b[43m(\u001b[49m\u001b[38;5;241;43m*\u001b[39;49m\u001b[38;5;28;43minput\u001b[39;49m\u001b[43m,\u001b[49m\u001b[43m \u001b[49m\u001b[38;5;241;43m*\u001b[39;49m\u001b[38;5;241;43m*\u001b[39;49m\u001b[43mkwargs\u001b[49m\u001b[43m)\u001b[49m\n\u001b[1;32m   1195\u001b[0m \u001b[38;5;66;03m# Do not call functions when jit is used\u001b[39;00m\n\u001b[1;32m   1196\u001b[0m full_backward_hooks, non_full_backward_hooks \u001b[38;5;241m=\u001b[39m [], []\n",
      "File \u001b[0;32m/scratch/mfeng/Attention_based_CNN/Mark_Exp/model/model.py:206\u001b[0m, in \u001b[0;36mABC_Net.forward\u001b[0;34m(self, x)\u001b[0m\n\u001b[1;32m    204\u001b[0m B,C,H,W \u001b[38;5;241m=\u001b[39m x\u001b[38;5;241m.\u001b[39mshape\n\u001b[1;32m    205\u001b[0m \u001b[38;5;28;01mfor\u001b[39;00m i, module \u001b[38;5;129;01min\u001b[39;00m \u001b[38;5;28menumerate\u001b[39m(\u001b[38;5;28mself\u001b[39m\u001b[38;5;241m.\u001b[39mfull_modules):\n\u001b[0;32m--> 206\u001b[0m     x \u001b[38;5;241m=\u001b[39m \u001b[43mmodule\u001b[49m\u001b[43m(\u001b[49m\u001b[43mx\u001b[49m\u001b[43m)\u001b[49m\n\u001b[1;32m    207\u001b[0m \u001b[38;5;28;01mreturn\u001b[39;00m x\n",
      "File \u001b[0;32m/scratch/mfeng/anaconda/envs/atd2022/lib/python3.9/site-packages/torch/nn/modules/module.py:1194\u001b[0m, in \u001b[0;36mModule._call_impl\u001b[0;34m(self, *input, **kwargs)\u001b[0m\n\u001b[1;32m   1190\u001b[0m \u001b[38;5;66;03m# If we don't have any hooks, we want to skip the rest of the logic in\u001b[39;00m\n\u001b[1;32m   1191\u001b[0m \u001b[38;5;66;03m# this function, and just call forward.\u001b[39;00m\n\u001b[1;32m   1192\u001b[0m \u001b[38;5;28;01mif\u001b[39;00m \u001b[38;5;129;01mnot\u001b[39;00m (\u001b[38;5;28mself\u001b[39m\u001b[38;5;241m.\u001b[39m_backward_hooks \u001b[38;5;129;01mor\u001b[39;00m \u001b[38;5;28mself\u001b[39m\u001b[38;5;241m.\u001b[39m_forward_hooks \u001b[38;5;129;01mor\u001b[39;00m \u001b[38;5;28mself\u001b[39m\u001b[38;5;241m.\u001b[39m_forward_pre_hooks \u001b[38;5;129;01mor\u001b[39;00m _global_backward_hooks\n\u001b[1;32m   1193\u001b[0m         \u001b[38;5;129;01mor\u001b[39;00m _global_forward_hooks \u001b[38;5;129;01mor\u001b[39;00m _global_forward_pre_hooks):\n\u001b[0;32m-> 1194\u001b[0m     \u001b[38;5;28;01mreturn\u001b[39;00m \u001b[43mforward_call\u001b[49m\u001b[43m(\u001b[49m\u001b[38;5;241;43m*\u001b[39;49m\u001b[38;5;28;43minput\u001b[39;49m\u001b[43m,\u001b[49m\u001b[43m \u001b[49m\u001b[38;5;241;43m*\u001b[39;49m\u001b[38;5;241;43m*\u001b[39;49m\u001b[43mkwargs\u001b[49m\u001b[43m)\u001b[49m\n\u001b[1;32m   1195\u001b[0m \u001b[38;5;66;03m# Do not call functions when jit is used\u001b[39;00m\n\u001b[1;32m   1196\u001b[0m full_backward_hooks, non_full_backward_hooks \u001b[38;5;241m=\u001b[39m [], []\n",
      "File \u001b[0;32m/scratch/mfeng/Attention_based_CNN/Mark_Exp/model/model.py:111\u001b[0m, in \u001b[0;36mConv_Module.forward\u001b[0;34m(self, inputs)\u001b[0m\n\u001b[1;32m    108\u001b[0m     x \u001b[38;5;241m=\u001b[39m layer(x)\n\u001b[1;32m    110\u001b[0m \u001b[38;5;28;01mif\u001b[39;00m \u001b[38;5;28mself\u001b[39m\u001b[38;5;241m.\u001b[39mif_residual:\n\u001b[0;32m--> 111\u001b[0m     x \u001b[38;5;241m+\u001b[39m\u001b[38;5;241m=\u001b[39m \u001b[38;5;28mself\u001b[39m\u001b[38;5;241m.\u001b[39minput_connect(inputs)\n\u001b[1;32m    112\u001b[0m x \u001b[38;5;241m=\u001b[39m \u001b[38;5;28mself\u001b[39m\u001b[38;5;241m.\u001b[39mfinal_activate(x)\n\u001b[1;32m    113\u001b[0m \u001b[38;5;28;01mreturn\u001b[39;00m x\n",
      "\u001b[0;31mRuntimeError\u001b[0m: output with shape [128, 768, 1, 1] doesn't match the broadcast shape [128, 768, 2, 2]"
     ]
    }
   ],
   "source": [
    "args = cifar10_args\n",
    "data = None\n",
    "# data = atd2022.io.read_csv()\n",
    "# data = pd.read_csv('/scratch/mfeng/data/ABC/Wiki_Traffic/filled_selected_train_1.csv', index_col=0, header=[0,1,2,3], parse_dates=True)\n",
    "# data = pd.read_csv('/scratch/mfeng/data/ABC/LA_Traffic/LA_Traffic.csv', index_col=0)\n",
    "# data = data.head(200)\n",
    "\n",
    "driver = ABC_Driver(args, data, record_path=None, if_hash=False)\n",
    "driver.train()"
   ]
  },
  {
   "cell_type": "code",
   "execution_count": null,
   "metadata": {},
   "outputs": [],
   "source": [
    "driver = ABC_Driver(cifar10_args, data, record_path=None, if_hash=False)"
   ]
  },
  {
   "cell_type": "code",
   "execution_count": 10,
   "metadata": {},
   "outputs": [
    {
     "data": {
      "text/plain": [
       "611218"
      ]
     },
     "execution_count": 10,
     "metadata": {},
     "output_type": "execute_result"
    }
   ],
   "source": [
    "pytorch_total_params = sum(p.numel() for p in driver.model.parameters() if p.requires_grad)\n",
    "pytorch_total_params"
   ]
  },
  {
   "cell_type": "code",
   "execution_count": null,
   "metadata": {},
   "outputs": [],
   "source": []
  },
  {
   "cell_type": "code",
   "execution_count": null,
   "metadata": {},
   "outputs": [],
   "source": []
  },
  {
   "cell_type": "code",
   "execution_count": null,
   "metadata": {},
   "outputs": [],
   "source": []
  },
  {
   "cell_type": "code",
   "execution_count": null,
   "metadata": {},
   "outputs": [],
   "source": [
    "from model.other_layers import NeighborAttention, DERIConv2d\n",
    "N = NeighborAttention(3, 18, (3,3), stride=1, padding=0, groups=1, bias=True)\n",
    "D = DERIConv2d(3, 18, (3,3), stride=1, padding=0, groups=1, bias=True)\n",
    "C = torch.nn.Conv2d(3, 18, (3,3), stride=1, padding=0, groups=1, bias=True)\n",
    "a = torch.randn(10,3,28,28)\n",
    "\n",
    "s = time.time()\n",
    "for i in range(100):\n",
    "    N(a)\n",
    "print(time.time()-s)"
   ]
  },
  {
   "cell_type": "code",
   "execution_count": null,
   "metadata": {},
   "outputs": [],
   "source": [
    "\n",
    "# cifar10_args.layers=[\n",
    "#     ('agnostic', ((input_channel, knpp[0], 9), 1, None, None, activation, False)),\n",
    "#     ('agnostic', ((knpp[0], knpp[0], 9), 2, None, None, activation)),\n",
    "#     ('agnostic', ((knpp[0], knpp[1], 9), 2, None, None, activation)),\n",
    "#     ('agnostic', ((knpp[1], knpp[2], 9), 2, None, None, activation)),\n",
    "#     ('agnostic', ((knpp[2], knpp[3], 9), 2, 'first', (2,2), activation)),\n",
    "#     ('agnostic', ((knpp[3], knpp[4], 9), 2, None, None, activation)),\n",
    "#     ('agnostic', ((knpp[4], knpp[5], 9), 2, None, None, activation)),\n",
    "#     ('agnostic', ((knpp[5], knpp[6], 9), 2, 'first', (2,2), activation)),\n",
    "#     ('agnostic', ((knpp[6], knpp[7], 9), 2, None, None, activation)),\n",
    "#     ('agnostic', ((knpp[7], knpp[8], 9), 2, None, None, activation)),\n",
    "#     ('adptavgpool', (1,1)),\n",
    "#     ('linear', (knpp[-1], 10, (1,2,3))),\n",
    "#     ('softmax', (1))\n",
    "# ]\n",
    "\n",
    "# cifar10_args.layers=[\n",
    "#     ('cnn2d', ((input_channel, knpp[0], (3,3), 1, 1), 1, None, None, activation, False)),\n",
    "#     ('cnn2d', ((knpp[0], knpp[0], (3,3), 1, 1), 2, None, None, activation)),\n",
    "#     ('cnn2d', ((knpp[0], knpp[1], (3,3), 1, 1), 2, None, None, activation)),\n",
    "#     ('cnn2d', ((knpp[1], knpp[2], (3,3), 1, 1), 2, None, None, activation)),\n",
    "#     ('cnn2d', ((knpp[2], knpp[3], (3,3), 1, 1), 2, 'first', (2,2), activation)),\n",
    "#     ('cnn2d', ((knpp[3], knpp[4], (3,3), 1, 1), 2, None, None, activation)),\n",
    "#     ('cnn2d', ((knpp[4], knpp[5], (3,3), 1, 1), 2, None, None, activation)),\n",
    "#     ('cnn2d', ((knpp[5], knpp[6], (3,3), 1, 1), 2, 'first', (2,2), activation)),\n",
    "#     ('cnn2d', ((knpp[6], knpp[7], (3,3), 1, 1), 2, None, None, activation)),\n",
    "#     ('cnn2d', ((knpp[7], knpp[8], (3,3), 1, 1), 2, None, None, activation)),\n",
    "#     ('adptavgpool', (1,1)),\n",
    "#     ('linear', (knpp[-1], 10, (1,2,3))),\n",
    "#     ('softmax', (1))\n",
    "# ]"
   ]
  },
  {
   "cell_type": "code",
   "execution_count": null,
   "metadata": {},
   "outputs": [],
   "source": []
  },
  {
   "cell_type": "code",
   "execution_count": null,
   "metadata": {},
   "outputs": [],
   "source": []
  },
  {
   "cell_type": "code",
   "execution_count": null,
   "metadata": {},
   "outputs": [],
   "source": []
  },
  {
   "cell_type": "code",
   "execution_count": null,
   "metadata": {},
   "outputs": [],
   "source": []
  },
  {
   "cell_type": "code",
   "execution_count": null,
   "metadata": {},
   "outputs": [],
   "source": [
    "    def forward(self, x):\n",
    "        B, C, H, W = x.shape\n",
    "        KH, KW = self.kernel_size\n",
    "        DH, DW = self.dilation\n",
    "        SH, SW = self.stride\n",
    "        PH, PW = self.padding\n",
    "        if self.new_shape is None:\n",
    "            self.new_shape = self._new_shape(H,W)\n",
    "            self.new_pixel = self.new_shape[0]*self.new_shape[1]\n",
    "        query = self.query_conv(x)\n",
    "        key = self.key_conv(x)\n",
    "        value = self.value_conv(x)\n",
    "\n",
    "        query = query[:,:, DH*(KH-1)//2:H+2*PH-DH*(KH-1)//2:SH, DW*(KW-1)//2:W+2*PW-DW*(KW-1)//2:SW]\n",
    "        query = query.reshape(B, self.groups, self.group_out_channels, 1, self.new_pixel).transpose(2,4)\n",
    "        # query = self.unfold(key).reshape(B, self.groups, self.group_out_channels, self.kernel_len, self.new_pixel).transpose(2,4)\n",
    "        # query = query[:,:,:,self.center_idx:self.center_idx+1]\n",
    "\n",
    "        key = self.unfold(key)\n",
    "        key = key.reshape(B, self.out_channels, KH, KW, self.new_pixel)\n",
    "\n",
    "        value = self.unfold(value)\n",
    "        value = value.reshape(B, self.groups, self.group_out_channels, self.kernel_len, self.new_pixel).transpose(2,4)\n",
    "\n",
    "        key_h, key_w = key.split(self.out_channels // 2, dim=1)\n",
    "        key = torch.concat((key_h + self.rel_h, key_w + self.rel_w), dim=1)\n",
    "        key = key.reshape(B, self.groups, self.group_out_channels, self.kernel_len, self.new_pixel).permute(0,1,4,2,3)\n",
    "\n",
    "\n",
    "        out = torch.matmul(query, key)\n",
    "        out = self.softmax(out)\n",
    "        out = torch.matmul(out, value)\n",
    "        out = out.transpose(2,4).reshape(B, self.out_channels, *self.new_shape)\n",
    "\n",
    "        return out"
   ]
  },
  {
   "cell_type": "code",
   "execution_count": null,
   "metadata": {},
   "outputs": [],
   "source": [
    "    def forward(self, x):\n",
    "        B, C, H, W = x.shape\n",
    "        KH, KW = self.kernel_size\n",
    "        DH, DW = self.dilation\n",
    "        SH, SW = self.stride\n",
    "        PH, PW = self.padding\n",
    "        if self.new_shape is None:\n",
    "            self.new_shape = self._new_shape(H,W)\n",
    "            self.new_pixel = self.new_shape[0]*self.new_shape[1]\n",
    "        # query = self.query_conv(x)\n",
    "        # key = self.key_conv(x)\n",
    "        # value = self.value_conv(x)\n",
    "        x = self.conv(x)\n",
    "        x = self.unfold(x).reshape(B, -1, self.kernel_len, self.new_pixel)\n",
    "\n",
    "        query, key, value = x.split(self.out_channels, 1)\n",
    "\n",
    "        # query = query[:,:, DH*(KH-1)//2:H+2*PH-DH*(KH-1)//2:SH, DW*(KW-1)//2:W+2*PW-DW*(KW-1)//2:SW]\n",
    "        # query = query.reshape(B, self.groups, self.group_out_channels, 1, self.new_pixel).transpose(2,4)\n",
    "        # query = self.unfold(key)\n",
    "        query = query.reshape(B, self.groups, self.group_out_channels, self.kernel_len, self.new_pixel).transpose(2,4)\n",
    "        query = query[:,:,:,self.center_idx:self.center_idx+1]\n",
    "\n",
    "        # key = self.unfold(key)\n",
    "        key = key.reshape(B, self.out_channels, KH, KW, self.new_pixel)\n",
    "\n",
    "        # value = self.unfold(value)\n",
    "        value = value.reshape(B, self.groups, self.group_out_channels, self.kernel_len, self.new_pixel).transpose(2,4)\n",
    "\n",
    "        key_h, key_w = key.split(self.out_channels // 2, dim=1)\n",
    "        key = torch.concat((key_h + self.rel_h, key_w + self.rel_w), dim=1)\n",
    "        key = key.reshape(B, self.groups, self.group_out_channels, self.kernel_len, self.new_pixel).permute(0,1,4,2,3)\n",
    "\n",
    "\n",
    "        out = torch.matmul(query, key)\n",
    "        out = self.softmax(out)\n",
    "        out = torch.matmul(out, value)\n",
    "        out = out.transpose(2,4).reshape(B, self.out_channels, *self.new_shape)\n",
    "\n",
    "        return out"
   ]
  },
  {
   "cell_type": "code",
   "execution_count": null,
   "metadata": {
    "scrolled": false
   },
   "outputs": [],
   "source": [
    "driver.model"
   ]
  }
 ],
 "metadata": {
  "kernelspec": {
   "display_name": "Python 3 (ipykernel)",
   "language": "python",
   "name": "python3"
  },
  "language_info": {
   "codemirror_mode": {
    "name": "ipython",
    "version": 3
   },
   "file_extension": ".py",
   "mimetype": "text/x-python",
   "name": "python",
   "nbconvert_exporter": "python",
   "pygments_lexer": "ipython3",
   "version": "3.9.13"
  }
 },
 "nbformat": 4,
 "nbformat_minor": 2
}
