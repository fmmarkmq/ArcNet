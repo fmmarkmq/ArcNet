{
 "cells": [
  {
   "cell_type": "code",
   "execution_count": 1,
   "id": "5fa78c53",
   "metadata": {},
   "outputs": [],
   "source": [
    "import torch\n",
    "import torchvision\n",
    "import torch.nn.functional as F\n",
    "import pandas as pd\n",
    "import numpy as np\n",
    "import matplotlib.pyplot as plt\n",
    "from utils.tools import dotdict\n",
    "from driver.driver import ABC_Driver\n",
    "from torch_geometric_temporal import METRLADatasetLoader\n",
    "from other_model.other_model import make_default_model\n",
    "import atd2022\n",
    "torch.cuda.is_available()\n",
    "torch.cuda.set_device(5)"
   ]
  },
  {
   "cell_type": "code",
   "execution_count": 2,
   "id": "04f3d6c3",
   "metadata": {},
   "outputs": [],
   "source": [
    "mnist_args = dotdict()\n",
    "\n",
    "mnist_args.name = 'mnist'\n",
    "mnist_args.train_batch_size = 120\n",
    "mnist_args.predict_batch_size = 120\n",
    "\n",
    "mnist_args.train_epochs = 30\n",
    "mnist_args.lr = 0.001\n",
    "mnist_args.criterion = 'CE'\n",
    "mnist_args.optimizer = 'Adam'\n",
    "mnist_args.scheduler = 'multistep3'\n",
    "\n",
    "activation = 'relu'\n",
    "input_channel = 1\n",
    "knpp = [30,60,120,180,240,300]\n",
    "\n",
    "# mnist_args.layers=[\n",
    "#     ('cnn2d', ((input_channel, knpp[0], (7,7), 1, 3, 1, 1), 1, None, None, activation, False)),\n",
    "#     ('atc2d', ((knpp[0], knpp[1], (3,3), 1, 1, 1, knpp[0]), 1, None, None, activation, True)),\n",
    "#     ('atc2d', ((knpp[1], knpp[2], (3,3), 1, 1, 1, knpp[0]), 1, 'first', (2,2), activation, True)),\n",
    "#     ('atc2d', ((knpp[2], knpp[3], (3,3), 1, 1, 1, knpp[0]), 1, None, None, activation, True)),\n",
    "#     ('atc2d', ((knpp[3], knpp[4], (3,3), 1, 1, 1, knpp[0]), 1, 'first', (2,2), activation, True)),\n",
    "#     ('cnn2d', ((knpp[4], knpp[5], (3,3), 1, 1, 1, knpp[0]), 1, None, None, activation, False)),\n",
    "#     ('cnn2d', ((knpp[-1], knpp[-1], (3,3), 1, 0, 1, knpp[0]), 1, None, None, False, False)),\n",
    "#     ('adptavgpool', (1,1)),\n",
    "#     ('linear', (knpp[-1], 10, (1,2,3))),\n",
    "#     ('softmax', (1))\n",
    "# ]\n",
    "\n",
    "mnist_args.layers=[\n",
    "    ('cnn2d', ((1, 24, (7, 7), 1, 3, 1, 1), 1, None, None, 'relu', False)), \n",
    "    ('atc2d', ((24, 48, (3, 3), 1, 1, 1, 24), 1, None, None, 'relu', True)), \n",
    "    ('atc2d', ((48, 96, (3, 3), 1, 1, 1, 24), 1, 'first', (2, 2), 'relu', True)), \n",
    "    ('atc2d', ((96, 144, (3, 3), 1, 1, 1, 24), 1, None, None, 'relu', True)), \n",
    "    ('atc2d', ((144, 192, (3, 3), 1, 1, 1, 24), 1, 'first', (2, 2), 'relu', True)), \n",
    "    ('cnn2d', ((192, 240, (3, 3), 1, 1, 1, 24), 1, None, None, 'relu', False)), \n",
    "    ('cnn2d', ((240, 240, (3, 3), 1, 0, 1, 24), 1, None, None, False, False)), \n",
    "    ('adptavgpool', (1, 1)), \n",
    "    ('linear', (240, 10, (1, 2, 3))), \n",
    "    ('softmax', 1)\n",
    "]\n",
    "\n",
    "\n",
    "# knpp = [24,48,96,192]\n",
    "# # knpp = [30,60,120,240]\n",
    "\n",
    "# mnist_args.layers=[\n",
    "#     ('cnn2d', ((input_channel, knpp[0], (3,3), 1, 1, 1, 1), 1, None, None, activation, False)),\n",
    "#     ('atc2d', ((knpp[0], knpp[1], (3,3), 1, 1, 1, knpp[0]), 1, None, None, activation, True)),\n",
    "#     ('atc2d', ((knpp[1], knpp[2], (3,3), 1, 1, 1, knpp[0]), 1, 'first', (2,2), activation, True)),\n",
    "#     ('atc2d', ((knpp[2], knpp[3], (3,3), 1, 1, 1, knpp[0]), 1, 'first', (2,2), activation, True)),\n",
    "#     ('cnn2d', ((knpp[-1], knpp[-1], (3,3), 1, 0, 1, knpp[0]), 1, None, None, activation, False)),\n",
    "#     ('cnn2d', ((knpp[-1], knpp[-1], (3,3), 1, 0, 1, knpp[0]), 1, None, None, False, False)),\n",
    "#     ('adptavgpool', (1,1)),\n",
    "#     ('linear', (knpp[-1], 10, (1,2,3))),\n",
    "#     ('softmax', (1))\n",
    "# ]"
   ]
  },
  {
   "cell_type": "code",
   "execution_count": 3,
   "id": "a240b656",
   "metadata": {
    "scrolled": true
   },
   "outputs": [
    {
     "name": "stdout",
     "output_type": "stream",
     "text": [
      "Use GPU\n",
      "epoch: 0, train_loss: 1.5312, test_metric: 0.9653, time: 255.39620280265808\n",
      "epoch: 1, train_loss: 1.4875, test_metric: 0.9896, time: 254.1020383834839\n",
      "epoch: 2, train_loss: 1.483, test_metric: 0.9884, time: 253.7741560935974\n",
      "epoch: 3, train_loss: 1.4798, test_metric: 0.9923, time: 254.1749725341797\n",
      "epoch: 4, train_loss: 1.4742, test_metric: 0.9934, time: 254.14733958244324\n",
      "epoch: 5, train_loss: 1.4748, test_metric: 0.9923, time: 254.35332417488098\n",
      "epoch: 6, train_loss: 1.4743, test_metric: 0.9931, time: 254.40843152999878\n",
      "epoch: 7, train_loss: 1.4738, test_metric: 0.9921, time: 254.40315747261047\n",
      "epoch: 8, train_loss: 1.471, test_metric: 0.9956, time: 254.17398881912231\n",
      "epoch: 9, train_loss: 1.4703, test_metric: 0.9946, time: 254.2526798248291\n",
      "epoch: 10, train_loss: 1.4702, test_metric: 0.9957, time: 254.16613674163818\n",
      "epoch: 11, train_loss: 1.4698, test_metric: 0.9954, time: 254.066490650177\n",
      "epoch: 12, train_loss: 1.4685, test_metric: 0.9957, time: 254.0447874069214\n",
      "epoch: 13, train_loss: 1.4682, test_metric: 0.9956, time: 254.02849316596985\n",
      "epoch: 14, train_loss: 1.468, test_metric: 0.9965, time: 254.20944452285767\n",
      "epoch: 15, train_loss: 1.4677, test_metric: 0.9956, time: 254.27072930335999\n",
      "epoch: 16, train_loss: 1.4669, test_metric: 0.9966, time: 254.28300428390503\n",
      "epoch: 17, train_loss: 1.4664, test_metric: 0.996, time: 254.34781098365784\n",
      "epoch: 18, train_loss: 1.4665, test_metric: 0.9965, time: 253.99044179916382\n",
      "epoch: 19, train_loss: 1.4665, test_metric: 0.9967, time: 254.24826860427856\n",
      "epoch: 20, train_loss: 1.4662, test_metric: 0.9969, time: 254.1318142414093\n",
      "epoch: 21, train_loss: 1.4657, test_metric: 0.9971, time: 254.38675355911255\n",
      "epoch: 22, train_loss: 1.4655, test_metric: 0.9971, time: 254.28964734077454\n",
      "epoch: 23, train_loss: 1.4657, test_metric: 0.9967, time: 254.34890222549438\n",
      "epoch: 24, train_loss: 1.4655, test_metric: 0.997, time: 415.75667452812195\n",
      "epoch: 25, train_loss: 1.4655, test_metric: 0.9969, time: 382.5837285518646\n",
      "epoch: 26, train_loss: 1.465, test_metric: 0.9972, time: 504.52169156074524\n",
      "epoch: 27, train_loss: 1.4652, test_metric: 0.9967, time: 447.95277762413025\n",
      "epoch: 28, train_loss: 1.4655, test_metric: 0.9969, time: 323.13354420661926\n",
      "epoch: 29, train_loss: 1.465, test_metric: 0.9971, time: 365.09731698036194\n"
     ]
    },
    {
     "data": {
      "text/plain": [
       "<driver.driver.ABC_Driver at 0x7f5811a0c4f0>"
      ]
     },
     "execution_count": 3,
     "metadata": {},
     "output_type": "execute_result"
    }
   ],
   "source": [
    "driver = ABC_Driver(mnist_args, None, record_path=None, if_hash=False)\n",
    "driver.train()"
   ]
  }
 ],
 "metadata": {
  "kernelspec": {
   "display_name": "Python 3 (ipykernel)",
   "language": "python",
   "name": "python3"
  },
  "language_info": {
   "codemirror_mode": {
    "name": "ipython",
    "version": 3
   },
   "file_extension": ".py",
   "mimetype": "text/x-python",
   "name": "python",
   "nbconvert_exporter": "python",
   "pygments_lexer": "ipython3",
   "version": "3.9.13"
  }
 },
 "nbformat": 4,
 "nbformat_minor": 5
}
