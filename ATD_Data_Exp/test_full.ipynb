{
 "cells": [
  {
   "cell_type": "markdown",
   "metadata": {},
   "source": [
    "CNN: 0.98\n",
    "ABC:"
   ]
  },
  {
   "cell_type": "code",
   "execution_count": 1,
   "metadata": {},
   "outputs": [
    {
     "name": "stderr",
     "output_type": "stream",
     "text": [
      "/scratch/wzong/anaconda3/envs/atd2022/lib/python3.9/site-packages/torchvision/io/image.py:13: UserWarning: Failed to load image Python extension: libtorch_cuda_cu.so: cannot open shared object file: No such file or directory\n",
      "  warn(f\"Failed to load image Python extension: {e}\")\n"
     ]
    }
   ],
   "source": [
    "import torch\n",
    "import torchvision\n",
    "import torch.nn.functional as F\n",
    "import pandas as pd\n",
    "import numpy as np\n",
    "import matplotlib.pyplot as plt\n",
    "from utils.tools import dotdict\n",
    "from driver.driver import ABC_Driver\n",
    "torch.cuda.is_available()\n",
    "torch.cuda.set_device(1)"
   ]
  },
  {
   "cell_type": "code",
   "execution_count": 2,
   "metadata": {},
   "outputs": [],
   "source": [
    "mnist_args = dotdict()\n",
    "mnist_args.train = dotdict()\n",
    "mnist_args.predict = dotdict()\n",
    "\n",
    "mnist_args.name = 'mnist'\n",
    "mnist_args.train.batch_size = 100\n",
    "mnist_args.predict.batch_size = 1000"
   ]
  },
  {
   "cell_type": "code",
   "execution_count": 3,
   "metadata": {},
   "outputs": [],
   "source": [
    "args = dotdict()\n",
    "args.data = mnist_args\n",
    "\n",
    "args.train_epochs= 50\n",
    "args.lr = 0.00008\n",
    "args.criterion = 'CE'\n",
    "args.use_gpu = True"
   ]
  },
  {
   "cell_type": "code",
   "execution_count": 4,
   "metadata": {
    "scrolled": false
   },
   "outputs": [
    {
     "name": "stdout",
     "output_type": "stream",
     "text": [
      "Use GPU: cuda:None\n"
     ]
    }
   ],
   "source": [
    "driver = ABC_Driver(args)"
   ]
  },
  {
   "cell_type": "code",
   "execution_count": 10,
   "metadata": {
    "scrolled": true
   },
   "outputs": [
    {
     "data": {
      "text/plain": [
       "OrderedDict([('ABC_2D.weights',\n",
       "              tensor([[[ 0.4218,  0.3002,  0.6538,  ...,  1.3585, -0.4829, -0.2831],\n",
       "                       [ 0.0428,  0.9148, -1.5040,  ..., -0.5533,  0.0680, -0.3943],\n",
       "                       [ 0.9771,  1.2894, -0.1461,  ..., -0.3790, -1.6897,  0.7358],\n",
       "                       [ 0.4503,  0.0878, -0.1522,  ...,  1.1652, -1.4519,  0.4280],\n",
       "                       [ 0.1916, -1.2229,  1.7847,  ...,  1.7269, -1.2191,  1.1335],\n",
       "                       [ 0.3579, -0.3335, -1.0616,  ...,  1.6197, -0.6532,  0.1870]],\n",
       "              \n",
       "                      [[ 0.0663,  0.1367, -2.2416,  ..., -1.6642, -0.4024, -0.4639],\n",
       "                       [ 0.9143,  1.0498, -0.4036,  ..., -0.4032, -0.2414, -0.0034],\n",
       "                       [-1.5426, -1.2596,  0.4973,  ..., -0.5816,  0.0848,  0.9098],\n",
       "                       [-1.7658,  0.4488,  0.0207,  ..., -1.1954, -2.2408, -0.0970],\n",
       "                       [-0.7729,  0.1407,  0.8280,  ...,  0.9302, -0.1723,  0.0836],\n",
       "                       [-1.2330,  0.5058,  0.7044,  ..., -0.2659,  0.1624, -0.4986]],\n",
       "              \n",
       "                      [[ 0.0856, -0.6119, -0.4034,  ...,  0.8089,  0.1060,  0.3331],\n",
       "                       [ 0.4714, -0.8463,  0.4403,  ...,  0.5580,  0.4728, -0.2824],\n",
       "                       [-1.2946, -1.3527,  1.3681,  ..., -0.0401, -1.1207,  0.6464],\n",
       "                       [ 1.8728,  1.5274,  0.4011,  ...,  1.2371, -0.7795, -0.4907],\n",
       "                       [-1.9945, -0.7937,  0.7957,  ..., -0.0772, -0.9025, -0.2516],\n",
       "                       [ 0.0196,  0.6624, -0.4805,  ...,  0.4252, -0.1237,  0.3954]],\n",
       "              \n",
       "                      ...,\n",
       "              \n",
       "                      [[-0.3747, -0.7132,  0.0086,  ...,  1.0840,  0.5396, -0.6496],\n",
       "                       [-0.8870,  0.0611, -0.3439,  ..., -0.2447, -0.3440,  0.7009],\n",
       "                       [ 1.7554, -0.7883,  0.5043,  ...,  0.0553,  1.3314, -0.5764],\n",
       "                       [ 1.3324,  1.5591,  0.0697,  ...,  0.3373,  1.0092, -0.8216],\n",
       "                       [ 0.5323,  2.3619, -0.9251,  ...,  0.5966,  1.5801,  0.2740],\n",
       "                       [ 1.2015, -1.1651, -0.4111,  ...,  0.2121, -1.2249, -0.1097]],\n",
       "              \n",
       "                      [[-0.6149,  0.3176, -0.9192,  ...,  1.7832,  0.8082, -1.7066],\n",
       "                       [ 0.2386, -0.0150,  0.5302,  ...,  0.8647,  0.3662,  0.3853],\n",
       "                       [ 1.9447, -0.5724, -0.2705,  ...,  0.7067,  0.0998, -0.1839],\n",
       "                       [-0.3058,  0.3973, -1.1307,  ..., -0.5757, -0.8234,  0.3407],\n",
       "                       [-0.1812, -1.7269, -1.1960,  ..., -0.1328,  0.6593,  0.9778],\n",
       "                       [ 1.6079, -0.7910, -0.9199,  ..., -1.5116, -0.0748, -2.2005]],\n",
       "              \n",
       "                      [[-0.8631,  0.3949,  1.1831,  ..., -0.3158,  1.7204,  0.1305],\n",
       "                       [-0.6179, -1.2475,  0.5925,  ...,  0.2627, -0.8392,  0.5931],\n",
       "                       [-1.4253,  1.1734, -0.0619,  ...,  0.5412, -0.9619, -0.7584],\n",
       "                       [ 1.1547,  2.0994, -0.1197,  ..., -0.7882,  0.0292,  1.1024],\n",
       "                       [-0.2493,  0.1971,  0.5725,  ..., -0.1748, -1.5805, -1.0193],\n",
       "                       [ 0.5787,  1.7214,  0.4792,  ..., -0.7516, -0.1280, -0.4396]]],\n",
       "                     device='cuda:1')),\n",
       "             ('fc1.weight',\n",
       "              tensor([[-0.0073,  0.0128, -0.0034,  ..., -0.0144,  0.0073, -0.0116],\n",
       "                      [ 0.0072,  0.0066, -0.0116,  ...,  0.0023,  0.0085,  0.0014],\n",
       "                      [ 0.0033, -0.0085,  0.0017,  ..., -0.0010,  0.0073,  0.0039],\n",
       "                      ...,\n",
       "                      [-0.0079,  0.0036,  0.0082,  ...,  0.0059, -0.0052,  0.0075],\n",
       "                      [ 0.0010, -0.0125,  0.0100,  ...,  0.0070, -0.0084, -0.0067],\n",
       "                      [ 0.0064,  0.0076,  0.0116,  ..., -0.0088, -0.0074,  0.0032]],\n",
       "                     device='cuda:1')),\n",
       "             ('fc1.bias',\n",
       "              tensor([-0.0056,  0.0141,  0.0132, -0.0031,  0.0058,  0.0098, -0.0015, -0.0037,\n",
       "                       0.0138,  0.0143], device='cuda:1'))])"
      ]
     },
     "execution_count": 10,
     "metadata": {},
     "output_type": "execute_result"
    }
   ],
   "source": [
    "driver.model.state_dict()"
   ]
  },
  {
   "cell_type": "code",
   "execution_count": 11,
   "metadata": {
    "scrolled": false
   },
   "outputs": [
    {
     "name": "stdout",
     "output_type": "stream",
     "text": [
      "epoch: 6, train_loss: 1.5023006985584895\n",
      "epoch: 7, train_loss: 1.498948969244957\n",
      "epoch: 8, train_loss: 1.4962995237112044\n",
      "epoch: 9, train_loss: 1.4938413800795873\n",
      "epoch: 10, train_loss: 1.4919223195314408\n",
      "epoch: 11, train_loss: 1.4900527968009314\n",
      "epoch: 12, train_loss: 1.488496835430463\n",
      "epoch: 13, train_loss: 1.486982323129972\n",
      "epoch: 14, train_loss: 1.4855632835626602\n",
      "epoch: 15, train_loss: 1.4845266052087147\n",
      "epoch: 16, train_loss: 1.4832628407080968\n",
      "epoch: 17, train_loss: 1.4823627283175786\n",
      "epoch: 18, train_loss: 1.4815193309386572\n",
      "epoch: 19, train_loss: 1.4808485080798468\n",
      "epoch: 20, train_loss: 1.4800190323591231\n",
      "epoch: 21, train_loss: 1.479402735431989\n",
      "epoch: 22, train_loss: 1.478859665195147\n",
      "epoch: 23, train_loss: 1.478143733938535\n",
      "epoch: 24, train_loss: 1.477527274688085\n",
      "epoch: 25, train_loss: 1.4769593713680904\n",
      "epoch: 26, train_loss: 1.4764393252134322\n",
      "epoch: 27, train_loss: 1.475951943596204\n",
      "epoch: 28, train_loss: 1.4755880930026373\n",
      "epoch: 29, train_loss: 1.475134570201238\n",
      "epoch: 30, train_loss: 1.4748540018002192\n",
      "epoch: 31, train_loss: 1.4743033814430238\n",
      "epoch: 32, train_loss: 1.4740483132998148\n",
      "epoch: 33, train_loss: 1.4736529920498531\n",
      "epoch: 34, train_loss: 1.4733220032850902\n",
      "epoch: 35, train_loss: 1.4730095958709717\n",
      "epoch: 36, train_loss: 1.472752764026324\n",
      "epoch: 37, train_loss: 1.4725257138411203\n",
      "epoch: 38, train_loss: 1.4720989724000295\n",
      "epoch: 39, train_loss: 1.472004844546318\n",
      "epoch: 40, train_loss: 1.471608467499415\n",
      "epoch: 41, train_loss: 1.4714174717664719\n",
      "epoch: 42, train_loss: 1.4711442685127258\n",
      "epoch: 43, train_loss: 1.4709780263900756\n",
      "epoch: 44, train_loss: 1.470841932296753\n",
      "epoch: 45, train_loss: 1.4705748222271602\n",
      "epoch: 46, train_loss: 1.4705088923374812\n",
      "epoch: 47, train_loss: 1.4703695803880692\n",
      "epoch: 48, train_loss: 1.470171165863673\n",
      "epoch: 49, train_loss: 1.4699027210474014\n"
     ]
    },
    {
     "data": {
      "text/plain": [
       "<driver.driver.ABC_Driver at 0x7f536449a640>"
      ]
     },
     "execution_count": 11,
     "metadata": {},
     "output_type": "execute_result"
    }
   ],
   "source": [
    "driver.train()"
   ]
  },
  {
   "cell_type": "code",
   "execution_count": 12,
   "metadata": {
    "scrolled": true
   },
   "outputs": [
    {
     "data": {
      "text/plain": [
       "0.9768"
      ]
     },
     "execution_count": 12,
     "metadata": {},
     "output_type": "execute_result"
    }
   ],
   "source": [
    "driver.metric()"
   ]
  },
  {
   "cell_type": "code",
   "execution_count": 13,
   "metadata": {
    "scrolled": true
   },
   "outputs": [
    {
     "data": {
      "text/plain": [
       "OrderedDict([('ABC_2D.weights',\n",
       "              tensor([[[ 0.4218,  0.3002,  0.6538,  ...,  1.3585, -0.4829, -0.2831],\n",
       "                       [ 0.0428,  0.9148, -1.5040,  ..., -0.5533,  0.0680, -0.3943],\n",
       "                       [ 0.9771,  1.2894, -0.1461,  ..., -0.3790, -1.6897,  0.7358],\n",
       "                       [ 0.4761,  0.1135, -0.1265,  ...,  1.1909, -1.4262,  0.4537],\n",
       "                       [ 0.1916, -1.2229,  1.7847,  ...,  1.7269, -1.2191,  1.1335],\n",
       "                       [ 0.3579, -0.3335, -1.0616,  ...,  1.6197, -0.6532,  0.1870]],\n",
       "              \n",
       "                      [[ 0.0945,  0.1648, -2.2135,  ..., -1.6361, -0.3742, -0.4358],\n",
       "                       [ 0.9143,  1.0498, -0.4036,  ..., -0.4032, -0.2414, -0.0034],\n",
       "                       [-1.5146, -1.2316,  0.5254,  ..., -0.5536,  0.1129,  0.9378],\n",
       "                       [-1.7448,  0.4697,  0.0416,  ..., -1.1745, -2.2198, -0.0761],\n",
       "                       [-0.7729,  0.1407,  0.8280,  ...,  0.9302, -0.1723,  0.0836],\n",
       "                       [-1.2330,  0.5058,  0.7044,  ..., -0.2659,  0.1624, -0.4986]],\n",
       "              \n",
       "                      [[ 0.1080, -0.5895, -0.3810,  ...,  0.8313,  0.1284,  0.3555],\n",
       "                       [ 0.4714, -0.8463,  0.4403,  ...,  0.5580,  0.4728, -0.2824],\n",
       "                       [-1.2640, -1.3220,  1.3988,  ..., -0.0095, -1.0901,  0.6771],\n",
       "                       [ 1.8728,  1.5274,  0.4011,  ...,  1.2371, -0.7795, -0.4907],\n",
       "                       [-1.9693, -0.7685,  0.8209,  ..., -0.0520, -0.8773, -0.2264],\n",
       "                       [ 0.0196,  0.6624, -0.4805,  ...,  0.4252, -0.1237,  0.3954]],\n",
       "              \n",
       "                      ...,\n",
       "              \n",
       "                      [[-0.3747, -0.7132,  0.0086,  ...,  1.0840,  0.5396, -0.6496],\n",
       "                       [-0.8560,  0.0921, -0.3129,  ..., -0.2137, -0.3130,  0.7319],\n",
       "                       [ 1.7554, -0.7883,  0.5043,  ...,  0.0553,  1.3314, -0.5764],\n",
       "                       [ 1.3324,  1.5591,  0.0697,  ...,  0.3373,  1.0092, -0.8216],\n",
       "                       [ 0.5323,  2.3619, -0.9251,  ...,  0.5966,  1.5801,  0.2740],\n",
       "                       [ 1.2015, -1.1651, -0.4111,  ...,  0.2121, -1.2249, -0.1097]],\n",
       "              \n",
       "                      [[-0.6149,  0.3176, -0.9192,  ...,  1.7832,  0.8082, -1.7066],\n",
       "                       [ 0.2386, -0.0150,  0.5302,  ...,  0.8647,  0.3662,  0.3853],\n",
       "                       [ 1.9447, -0.5724, -0.2705,  ...,  0.7067,  0.0998, -0.1839],\n",
       "                       [-0.2772,  0.4259, -1.1021,  ..., -0.5470, -0.7948,  0.3693],\n",
       "                       [-0.1516, -1.6972, -1.1664,  ..., -0.1032,  0.6890,  1.0075],\n",
       "                       [ 1.6391, -0.7597, -0.8887,  ..., -1.4804, -0.0436, -2.1692]],\n",
       "              \n",
       "                      [[-0.8631,  0.3949,  1.1831,  ..., -0.3158,  1.7204,  0.1305],\n",
       "                       [-0.5914, -1.2210,  0.6190,  ...,  0.2892, -0.8127,  0.6196],\n",
       "                       [-1.3895,  1.2092, -0.0261,  ...,  0.5770, -0.9260, -0.7226],\n",
       "                       [ 1.1547,  2.0994, -0.1197,  ..., -0.7882,  0.0292,  1.1024],\n",
       "                       [-0.2261,  0.2203,  0.5958,  ..., -0.1516, -1.5572, -0.9961],\n",
       "                       [ 0.5787,  1.7214,  0.4792,  ..., -0.7516, -0.1280, -0.4396]]],\n",
       "                     device='cuda:1')),\n",
       "             ('fc1.weight',\n",
       "              tensor([[-0.0073,  0.0130, -0.0030,  ..., -0.0144,  0.0074, -0.0116],\n",
       "                      [ 0.0072,  0.0036, -0.0139,  ...,  0.0023,  0.0055,  0.0014],\n",
       "                      [ 0.0033, -0.0080,  0.0021,  ..., -0.0010,  0.0077,  0.0039],\n",
       "                      ...,\n",
       "                      [-0.0079,  0.0016,  0.0060,  ...,  0.0059, -0.0071,  0.0075],\n",
       "                      [ 0.0010, -0.0093,  0.0125,  ...,  0.0070, -0.0053, -0.0067],\n",
       "                      [ 0.0064,  0.0087,  0.0120,  ..., -0.0088, -0.0063,  0.0032]],\n",
       "                     device='cuda:1')),\n",
       "             ('fc1.bias',\n",
       "              tensor([-0.0054,  0.0111,  0.0137, -0.0029,  0.0048,  0.0110, -0.0017, -0.0057,\n",
       "                       0.0169,  0.0153], device='cuda:1'))])"
      ]
     },
     "execution_count": 13,
     "metadata": {},
     "output_type": "execute_result"
    }
   ],
   "source": [
    "driver.model.state_dict()"
   ]
  },
  {
   "cell_type": "code",
   "execution_count": null,
   "metadata": {},
   "outputs": [],
   "source": []
  },
  {
   "cell_type": "code",
   "execution_count": 22,
   "metadata": {},
   "outputs": [],
   "source": [
    "train_data = torchvision.datasets.MNIST('../../data/ABC/mnist', train=False, download=True,\n",
    "                                                  transform=torchvision.transforms.Compose([torchvision.transforms.ToTensor(),\n",
    "                                                            torchvision.transforms.Normalize((0.1307,), (0.3081,))]))"
   ]
  },
  {
   "cell_type": "code",
   "execution_count": 23,
   "metadata": {},
   "outputs": [
    {
     "data": {
      "text/plain": [
       "Dataset MNIST\n",
       "    Number of datapoints: 10000\n",
       "    Root location: ../../data/ABC/mnist\n",
       "    Split: Test\n",
       "    StandardTransform\n",
       "Transform: Compose(\n",
       "               ToTensor()\n",
       "               Normalize(mean=(0.1307,), std=(0.3081,))\n",
       "           )"
      ]
     },
     "execution_count": 23,
     "metadata": {},
     "output_type": "execute_result"
    }
   ],
   "source": [
    "train_data."
   ]
  },
  {
   "cell_type": "code",
   "execution_count": 20,
   "metadata": {},
   "outputs": [],
   "source": [
    "a = torch.tensor([[[1,2],[3,4]],[[1,2],[3,4]],[[1,2],[3,4]]])"
   ]
  },
  {
   "cell_type": "code",
   "execution_count": 21,
   "metadata": {},
   "outputs": [
    {
     "data": {
      "text/plain": [
       "tensor([[[ 7, 10],\n",
       "         [15, 22]],\n",
       "\n",
       "        [[ 7, 10],\n",
       "         [15, 22]],\n",
       "\n",
       "        [[ 7, 10],\n",
       "         [15, 22]]])"
      ]
     },
     "execution_count": 21,
     "metadata": {},
     "output_type": "execute_result"
    }
   ],
   "source": [
    "torch.matmul(a,a)"
   ]
  },
  {
   "cell_type": "code",
   "execution_count": 14,
   "metadata": {},
   "outputs": [],
   "source": [
    "mnist_args = dotdict()\n",
    "mnist_args.train = dotdict()\n",
    "mnist_args.predict = dotdict()\n",
    "\n",
    "mnist_args.name = 'mnist'\n",
    "mnist_args.train.batch_size = 100\n",
    "mnist_args.predict.batch_size = 1000"
   ]
  },
  {
   "cell_type": "code",
   "execution_count": 5,
   "metadata": {
    "scrolled": false
   },
   "outputs": [
    {
     "name": "stdout",
     "output_type": "stream",
     "text": [
      "epoch: 0, train_loss: 1.8092176419496537\n",
      "epoch: 1, train_loss: 1.5854661240180334\n",
      "epoch: 2, train_loss: 1.5594474685192108\n",
      "epoch: 3, train_loss: 1.547036578655243\n",
      "epoch: 4, train_loss: 1.5385117679834366\n",
      "epoch: 5, train_loss: 1.532321839928627\n",
      "epoch: 6, train_loss: 1.527201450864474\n",
      "epoch: 7, train_loss: 1.5227444046735763\n",
      "epoch: 8, train_loss: 1.5188205428918202\n",
      "epoch: 9, train_loss: 1.5152481007575989\n",
      "epoch: 10, train_loss: 1.5122010159492492\n",
      "epoch: 11, train_loss: 1.5093879654010136\n",
      "epoch: 12, train_loss: 1.5068205038706461\n",
      "epoch: 13, train_loss: 1.504511877099673\n",
      "epoch: 14, train_loss: 1.5022801474730174\n",
      "epoch: 15, train_loss: 1.5006628227233887\n",
      "epoch: 16, train_loss: 1.4987579685449601\n",
      "epoch: 17, train_loss: 1.4970314226547876\n",
      "epoch: 18, train_loss: 1.4954067504405975\n",
      "epoch: 19, train_loss: 1.4939528038104375\n",
      "epoch: 20, train_loss: 1.492574091553688\n",
      "epoch: 21, train_loss: 1.491297993262609\n",
      "epoch: 22, train_loss: 1.4901642004648845\n",
      "epoch: 23, train_loss: 1.488807551264763\n",
      "epoch: 24, train_loss: 1.4878206253051758\n",
      "epoch: 25, train_loss: 1.4869583674271902\n",
      "epoch: 26, train_loss: 1.4859451140960058\n",
      "epoch: 27, train_loss: 1.4851976631085078\n",
      "epoch: 28, train_loss: 1.4844763058423995\n",
      "epoch: 29, train_loss: 1.4837394764026006\n",
      "epoch: 30, train_loss: 1.482983751296997\n",
      "epoch: 31, train_loss: 1.4824039614200593\n",
      "epoch: 32, train_loss: 1.4817013945182165\n",
      "epoch: 33, train_loss: 1.481126711765925\n",
      "epoch: 34, train_loss: 1.480618494351705\n",
      "epoch: 35, train_loss: 1.4799588799476624\n",
      "epoch: 36, train_loss: 1.4794500982761383\n",
      "epoch: 37, train_loss: 1.4789673934380214\n",
      "epoch: 38, train_loss: 1.4784366575876873\n",
      "epoch: 39, train_loss: 1.4780972613890966\n",
      "epoch: 40, train_loss: 1.4776452640692392\n",
      "epoch: 41, train_loss: 1.4772707253694535\n",
      "epoch: 42, train_loss: 1.4768284138043721\n",
      "epoch: 43, train_loss: 1.4764463291565577\n",
      "epoch: 44, train_loss: 1.4761250774065653\n",
      "epoch: 45, train_loss: 1.475843171477318\n",
      "epoch: 46, train_loss: 1.4754657552639643\n",
      "epoch: 47, train_loss: 1.475182980298996\n",
      "epoch: 48, train_loss: 1.4748984893163046\n",
      "epoch: 49, train_loss: 1.4746273775895438\n"
     ]
    },
    {
     "data": {
      "text/plain": [
       "<driver.driver.ABC_Driver at 0x7f0540750340>"
      ]
     },
     "execution_count": 5,
     "metadata": {},
     "output_type": "execute_result"
    }
   ],
   "source": [
    "driver.train()"
   ]
  },
  {
   "cell_type": "code",
   "execution_count": 6,
   "metadata": {},
   "outputs": [
    {
     "data": {
      "text/plain": [
       "0.9782"
      ]
     },
     "execution_count": 6,
     "metadata": {},
     "output_type": "execute_result"
    }
   ],
   "source": [
    "driver.metric()"
   ]
  },
  {
   "cell_type": "code",
   "execution_count": null,
   "metadata": {},
   "outputs": [],
   "source": []
  }
 ],
 "metadata": {
  "kernelspec": {
   "display_name": "Python 3 (ipykernel)",
   "language": "python",
   "name": "python3"
  },
  "language_info": {
   "codemirror_mode": {
    "name": "ipython",
    "version": 3
   },
   "file_extension": ".py",
   "mimetype": "text/x-python",
   "name": "python",
   "nbconvert_exporter": "python",
   "pygments_lexer": "ipython3",
   "version": "3.9.13"
  }
 },
 "nbformat": 4,
 "nbformat_minor": 2
}
