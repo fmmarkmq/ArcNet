{
 "cells": [
  {
   "cell_type": "markdown",
   "metadata": {},
   "source": [
    "CNN: 0.98\n",
    "ABC:"
   ]
  },
  {
   "cell_type": "code",
   "execution_count": 1,
   "metadata": {
    "scrolled": true
   },
   "outputs": [
    {
     "name": "stderr",
     "output_type": "stream",
     "text": [
      "/scratch/wzong/anaconda3/envs/atd2022/lib/python3.9/site-packages/torchvision/io/image.py:13: UserWarning: Failed to load image Python extension: libtorch_cuda_cu.so: cannot open shared object file: No such file or directory\n",
      "  warn(f\"Failed to load image Python extension: {e}\")\n"
     ]
    }
   ],
   "source": [
    "import torch\n",
    "import torchvision\n",
    "import torch.nn.functional as F\n",
    "import pandas as pd\n",
    "import numpy as np\n",
    "import matplotlib.pyplot as plt\n",
    "from utils.tools import dotdict\n",
    "from driver.driver import ABC_Driver\n",
    "torch.cuda.is_available()\n",
    "torch.cuda.set_device(2)\n",
    "import atd2022"
   ]
  },
  {
   "cell_type": "code",
   "execution_count": 2,
   "metadata": {},
   "outputs": [],
   "source": [
    "truth = atd2022.io.read_csv()"
   ]
  },
  {
   "cell_type": "code",
   "execution_count": 3,
   "metadata": {},
   "outputs": [],
   "source": [
    "args = dotdict()\n",
    "\n",
    "args.train_epochs= 200\n",
    "args.lr = 0.01\n",
    "args.criterion = 'L1'\n",
    "args.use_gpu = True\n",
    "\n",
    "args.history_len = 30\n",
    "args.input_channel = args.history_len\n",
    "\n",
    "args.predict_len = 4\n",
    "args.input_height = 1\n",
    "args.input_width = 5200\n",
    "args.kernel_size = 1\n",
    "args.knpp = 6\n",
    "args.batch_size = 20\n",
    "# args.df = truth\n",
    "\n"
   ]
  },
  {
   "cell_type": "code",
   "execution_count": 4,
   "metadata": {
    "scrolled": false
   },
   "outputs": [
    {
     "name": "stdout",
     "output_type": "stream",
     "text": [
      "Use GPU: cuda:None\n"
     ]
    }
   ],
   "source": [
    "driver = ABC_Driver(args, df = truth)"
   ]
  },
  {
   "cell_type": "code",
   "execution_count": 5,
   "metadata": {
    "scrolled": true
   },
   "outputs": [],
   "source": [
    "# driver.model.state_dict()"
   ]
  },
  {
   "cell_type": "code",
   "execution_count": 6,
   "metadata": {
    "scrolled": true
   },
   "outputs": [
    {
     "name": "stdout",
     "output_type": "stream",
     "text": [
      "label: torch.Size([20, 4, 1, 5200])\n",
      "out:  torch.Size([20, 4, 1, 5200])\n",
      "label: torch.Size([20, 4, 1, 5200])\n",
      "out:  torch.Size([20, 4, 1, 5200])\n",
      "label: torch.Size([20, 4, 1, 5200])\n",
      "out:  torch.Size([20, 4, 1, 5200])\n",
      "label: torch.Size([20, 4, 1, 5200])\n",
      "out:  torch.Size([20, 4, 1, 5200])\n",
      "label: torch.Size([20, 4, 1, 5200])\n",
      "out:  torch.Size([20, 4, 1, 5200])\n",
      "label: torch.Size([20, 4, 1, 5200])\n",
      "out:  torch.Size([20, 4, 1, 5200])\n",
      "label: torch.Size([20, 4, 1, 5200])\n",
      "out:  torch.Size([20, 4, 1, 5200])\n",
      "label: torch.Size([20, 4, 1, 5200])\n",
      "out:  torch.Size([20, 4, 1, 5200])\n",
      "label: torch.Size([18, 4, 1, 5200])\n",
      "out:  torch.Size([18, 4, 1, 5200])\n",
      "epoch: 0, train_loss: 782880.8055555555\n",
      "label: torch.Size([20, 4, 1, 5200])\n",
      "out:  torch.Size([20, 4, 1, 5200])\n",
      "label: torch.Size([20, 4, 1, 5200])\n",
      "out:  torch.Size([20, 4, 1, 5200])\n",
      "label: torch.Size([20, 4, 1, 5200])\n",
      "out:  torch.Size([20, 4, 1, 5200])\n",
      "label: torch.Size([20, 4, 1, 5200])\n",
      "out:  torch.Size([20, 4, 1, 5200])\n",
      "label: torch.Size([20, 4, 1, 5200])\n",
      "out:  torch.Size([20, 4, 1, 5200])\n",
      "label: torch.Size([20, 4, 1, 5200])\n",
      "out:  torch.Size([20, 4, 1, 5200])\n",
      "label: torch.Size([20, 4, 1, 5200])\n",
      "out:  torch.Size([20, 4, 1, 5200])\n",
      "label: torch.Size([20, 4, 1, 5200])\n",
      "out:  torch.Size([20, 4, 1, 5200])\n",
      "label: torch.Size([18, 4, 1, 5200])\n",
      "out:  torch.Size([18, 4, 1, 5200])\n",
      "epoch: 1, train_loss: 336174.85590277775\n",
      "label: torch.Size([20, 4, 1, 5200])\n",
      "out:  torch.Size([20, 4, 1, 5200])\n",
      "label: torch.Size([20, 4, 1, 5200])\n",
      "out:  torch.Size([20, 4, 1, 5200])\n",
      "label: torch.Size([20, 4, 1, 5200])\n",
      "out:  torch.Size([20, 4, 1, 5200])\n",
      "label: torch.Size([20, 4, 1, 5200])\n",
      "out:  torch.Size([20, 4, 1, 5200])\n",
      "label: torch.Size([20, 4, 1, 5200])\n",
      "out:  torch.Size([20, 4, 1, 5200])\n",
      "label: torch.Size([20, 4, 1, 5200])\n",
      "out:  torch.Size([20, 4, 1, 5200])\n",
      "label: torch.Size([20, 4, 1, 5200])\n",
      "out:  torch.Size([20, 4, 1, 5200])\n",
      "label: torch.Size([20, 4, 1, 5200])\n",
      "out:  torch.Size([20, 4, 1, 5200])\n",
      "label: torch.Size([18, 4, 1, 5200])\n",
      "out:  torch.Size([18, 4, 1, 5200])\n",
      "epoch: 2, train_loss: 125374.37239583333\n",
      "label: torch.Size([20, 4, 1, 5200])\n",
      "out:  torch.Size([20, 4, 1, 5200])\n",
      "label: torch.Size([20, 4, 1, 5200])\n",
      "out:  torch.Size([20, 4, 1, 5200])\n",
      "label: torch.Size([20, 4, 1, 5200])\n",
      "out:  torch.Size([20, 4, 1, 5200])\n",
      "label: torch.Size([20, 4, 1, 5200])\n",
      "out:  torch.Size([20, 4, 1, 5200])\n",
      "label: torch.Size([20, 4, 1, 5200])\n",
      "out:  torch.Size([20, 4, 1, 5200])\n",
      "label: torch.Size([20, 4, 1, 5200])\n",
      "out:  torch.Size([20, 4, 1, 5200])\n",
      "label: torch.Size([20, 4, 1, 5200])\n",
      "out:  torch.Size([20, 4, 1, 5200])\n",
      "label: torch.Size([20, 4, 1, 5200])\n",
      "out:  torch.Size([20, 4, 1, 5200])\n",
      "label: torch.Size([18, 4, 1, 5200])\n",
      "out:  torch.Size([18, 4, 1, 5200])\n",
      "epoch: 3, train_loss: 40827.40798611111\n",
      "label: torch.Size([20, 4, 1, 5200])\n",
      "out:  torch.Size([20, 4, 1, 5200])\n",
      "label: torch.Size([20, 4, 1, 5200])\n",
      "out:  torch.Size([20, 4, 1, 5200])\n",
      "label: torch.Size([20, 4, 1, 5200])\n",
      "out:  torch.Size([20, 4, 1, 5200])\n",
      "label: torch.Size([20, 4, 1, 5200])\n",
      "out:  torch.Size([20, 4, 1, 5200])\n",
      "label: torch.Size([20, 4, 1, 5200])\n",
      "out:  torch.Size([20, 4, 1, 5200])\n",
      "label: torch.Size([20, 4, 1, 5200])\n",
      "out:  torch.Size([20, 4, 1, 5200])\n",
      "label: torch.Size([20, 4, 1, 5200])\n",
      "out:  torch.Size([20, 4, 1, 5200])\n",
      "label: torch.Size([20, 4, 1, 5200])\n",
      "out:  torch.Size([20, 4, 1, 5200])\n",
      "label: torch.Size([18, 4, 1, 5200])\n",
      "out:  torch.Size([18, 4, 1, 5200])\n",
      "epoch: 4, train_loss: 11822.715874565973\n",
      "label: torch.Size([20, 4, 1, 5200])\n",
      "out:  torch.Size([20, 4, 1, 5200])\n",
      "label: torch.Size([20, 4, 1, 5200])\n",
      "out:  torch.Size([20, 4, 1, 5200])\n",
      "label: torch.Size([20, 4, 1, 5200])\n",
      "out:  torch.Size([20, 4, 1, 5200])\n",
      "label: torch.Size([20, 4, 1, 5200])\n",
      "out:  torch.Size([20, 4, 1, 5200])\n"
     ]
    },
    {
     "ename": "KeyboardInterrupt",
     "evalue": "",
     "output_type": "error",
     "traceback": [
      "\u001b[0;31m---------------------------------------------------------------------------\u001b[0m",
      "\u001b[0;31mKeyboardInterrupt\u001b[0m                         Traceback (most recent call last)",
      "Cell \u001b[0;32mIn [6], line 1\u001b[0m\n\u001b[0;32m----> 1\u001b[0m \u001b[43mdriver\u001b[49m\u001b[38;5;241;43m.\u001b[39;49m\u001b[43mtrain\u001b[49m\u001b[43m(\u001b[49m\u001b[43m)\u001b[49m\n",
      "File \u001b[0;32m/scratch/wzong/Attention_based_CNN/ATD_Data_Exp/driver/driver.py:43\u001b[0m, in \u001b[0;36mABC_Driver.train\u001b[0;34m(self, train_loader)\u001b[0m\n\u001b[1;32m     41\u001b[0m inputs\u001b[38;5;241m=\u001b[39minputs\u001b[38;5;241m.\u001b[39mto(torch\u001b[38;5;241m.\u001b[39mfloat32)\n\u001b[1;32m     42\u001b[0m labels\u001b[38;5;241m=\u001b[39mlabels\u001b[38;5;241m.\u001b[39mto(torch\u001b[38;5;241m.\u001b[39mfloat32)\n\u001b[0;32m---> 43\u001b[0m inputs\u001b[38;5;241m=\u001b[39m\u001b[43minputs\u001b[49m\u001b[38;5;241;43m.\u001b[39;49m\u001b[43mto\u001b[49m\u001b[43m(\u001b[49m\u001b[43mdevice\u001b[49m\u001b[43m)\u001b[49m\n\u001b[1;32m     44\u001b[0m labels\u001b[38;5;241m=\u001b[39mlabels\u001b[38;5;241m.\u001b[39mto(device)\n\u001b[1;32m     45\u001b[0m model_optim\u001b[38;5;241m.\u001b[39mzero_grad(set_to_none \u001b[38;5;241m=\u001b[39m \u001b[38;5;28;01mTrue\u001b[39;00m)\n",
      "\u001b[0;31mKeyboardInterrupt\u001b[0m: "
     ]
    }
   ],
   "source": [
    "driver.train()"
   ]
  },
  {
   "cell_type": "code",
   "execution_count": null,
   "metadata": {},
   "outputs": [],
   "source": [
    "test = driver.predict()"
   ]
  },
  {
   "cell_type": "code",
   "execution_count": 11,
   "metadata": {
    "scrolled": true
   },
   "outputs": [
    {
     "data": {
      "text/plain": [
       "tensor([[[[0., 0., 0.,  ..., 0., 0., 0.]],\n",
       "\n",
       "         [[0., 0., 0.,  ..., 0., 0., 0.]],\n",
       "\n",
       "         [[0., 0., 0.,  ..., 0., 0., 0.]],\n",
       "\n",
       "         [[0., 0., 0.,  ..., 0., 0., 0.]]]])"
      ]
     },
     "execution_count": 11,
     "metadata": {},
     "output_type": "execute_result"
    }
   ],
   "source": [
    "test"
   ]
  },
  {
   "cell_type": "code",
   "execution_count": null,
   "metadata": {},
   "outputs": [],
   "source": []
  },
  {
   "cell_type": "code",
   "execution_count": 34,
   "metadata": {},
   "outputs": [
    {
     "data": {
      "text/plain": [
       "OrderedDict([('ABC_2D.weights',\n",
       "              tensor([[[-0.7286,  0.8767,  0.0780,  ..., -1.3279, -2.2808,  0.4637],\n",
       "                       [-0.1018, -0.1547,  0.8325,  ...,  1.1137, -1.0467, -0.9357],\n",
       "                       [ 0.5119, -0.6160, -1.1352,  ...,  0.5411,  0.5418, -0.3512],\n",
       "                       [ 1.5461, -1.4093, -0.6760,  ...,  0.0707, -1.5224,  0.9648],\n",
       "                       [ 0.2135, -0.1838,  0.9960,  ...,  0.6897,  1.1498, -0.5737],\n",
       "                       [-1.5255, -0.6626, -0.5416,  ...,  1.5347, -0.7379, -0.7458]],\n",
       "              \n",
       "                      [[-0.7651,  0.3481,  1.4335,  ...,  0.6536, -0.2754, -1.2215],\n",
       "                       [ 0.7908,  0.8910,  0.7593,  ..., -1.0810,  0.7118,  0.0436],\n",
       "                       [-1.1786, -1.3707, -1.4836,  ...,  0.3900, -0.1641,  0.4137],\n",
       "                       [-0.1428, -2.3256, -0.3764,  ...,  0.3292, -0.7050, -0.0718],\n",
       "                       [ 1.6733,  1.1365, -0.9140,  ...,  0.2969,  0.4022, -0.4778],\n",
       "                       [ 0.0481, -0.9289,  1.0036,  ...,  0.1719, -1.4783, -0.4757]],\n",
       "              \n",
       "                      [[-0.5326, -0.7309, -0.0039,  ..., -0.1837,  0.7431, -1.2300],\n",
       "                       [-1.6763, -0.4693,  0.2852,  ...,  0.2578, -0.3355, -0.1991],\n",
       "                       [ 0.0719, -0.9868, -0.4181,  ..., -0.9149, -0.9502, -0.9548],\n",
       "                       [ 0.2069, -0.0041,  1.0639,  ..., -0.0420,  0.1668, -0.4390],\n",
       "                       [-0.2645, -1.2476, -1.1415,  ..., -0.4068, -0.1916, -0.6084],\n",
       "                       [-0.6301,  0.7736, -0.8804,  ..., -0.0269, -1.5635, -2.0018]],\n",
       "              \n",
       "                      ...,\n",
       "              \n",
       "                      [[-0.5253, -2.1224, -0.7190,  ..., -0.8181, -0.7557,  0.3637],\n",
       "                       [ 0.5308, -0.5078, -1.1806,  ...,  0.0189,  0.2297,  0.6590],\n",
       "                       [ 1.0430, -0.3173,  0.6789,  ...,  0.6303,  0.5022, -1.3223],\n",
       "                       [-0.0982, -1.2151, -1.5282,  ...,  0.6188, -0.9640, -0.5327],\n",
       "                       [-0.8777,  0.3381, -1.0189,  ...,  0.2996,  1.2147, -0.3326],\n",
       "                       [-1.4693,  0.3198, -1.0239,  ...,  1.2890, -0.2179, -0.3706]],\n",
       "              \n",
       "                      [[-0.1156, -0.0323, -0.6172,  ..., -0.1667, -0.0174, -0.0246],\n",
       "                       [-1.6444,  0.2912,  1.4247,  ..., -1.2752, -1.2743, -1.2222],\n",
       "                       [-2.2633,  0.0932, -0.9451,  ..., -0.4880,  0.5011, -3.3372],\n",
       "                       [ 1.0629, -1.0420,  0.9008,  ..., -0.1329,  1.1505, -0.9260],\n",
       "                       [ 0.4011,  0.6048,  1.2509,  ..., -1.7138,  0.1916,  0.0944],\n",
       "                       [-0.2087, -0.7782, -0.3708,  ...,  0.5993,  0.6423,  1.0259]],\n",
       "              \n",
       "                      [[-0.1790, -0.4153, -0.3757,  ...,  0.6212,  0.2346,  0.6807],\n",
       "                       [ 0.0722,  0.1921,  1.9219,  ..., -1.7637,  0.0047,  1.3656],\n",
       "                       [-0.6542, -0.9649, -0.3641,  ...,  1.5647, -0.6696,  0.3853],\n",
       "                       [ 0.1697, -0.2804, -1.1583,  ...,  0.4613,  0.6289, -0.5778],\n",
       "                       [-0.4705, -0.5852,  0.9967,  ...,  0.8183,  0.3891, -1.3149],\n",
       "                       [-0.6748, -1.1432,  0.0630,  ...,  1.1555, -1.2601, -0.5150]]],\n",
       "                     device='cuda:2')),\n",
       "             ('rwl.weights',\n",
       "              tensor([[[1.0000, 0.6427, 0.9399, 0.7835, 0.9399, 0.6840],\n",
       "                       [1.0000, 0.6427, 0.9399, 0.7835, 0.9399, 0.6840],\n",
       "                       [1.0000, 0.6427, 0.9399, 0.7835, 0.9399, 0.6840],\n",
       "                       [1.0000, 0.6427, 0.9399, 0.7835, 0.9399, 0.6840]],\n",
       "              \n",
       "                      [[0.8527, 0.6727, 1.0000, 1.0000, 0.7538, 1.0000],\n",
       "                       [0.8527, 0.6727, 1.0000, 1.0000, 0.7538, 1.0000],\n",
       "                       [0.8527, 0.6727, 1.0000, 1.0000, 0.7538, 1.0000],\n",
       "                       [0.8527, 0.6727, 1.0000, 1.0000, 0.7538, 1.0000]],\n",
       "              \n",
       "                      [[1.0000, 1.0000, 0.8098, 1.0000, 1.0000, 1.0000],\n",
       "                       [1.0000, 1.0000, 0.8098, 1.0000, 1.0000, 1.0000],\n",
       "                       [1.0000, 1.0000, 0.8098, 1.0000, 1.0000, 1.0000],\n",
       "                       [1.0000, 1.0000, 0.8098, 1.0000, 1.0000, 1.0000]],\n",
       "              \n",
       "                      ...,\n",
       "              \n",
       "                      [[0.7773, 0.7885, 0.8721, 0.8963, 1.0000, 1.0000],\n",
       "                       [0.7773, 0.7885, 0.8721, 0.8963, 1.0000, 1.0000],\n",
       "                       [0.7773, 0.7885, 0.8721, 0.8963, 1.0000, 1.0000],\n",
       "                       [0.7773, 0.7885, 0.8721, 0.8963, 1.0000, 1.0000]],\n",
       "              \n",
       "                      [[1.0000, 0.9151, 1.0000, 1.0000, 0.7471, 0.8354],\n",
       "                       [1.0000, 0.9151, 1.0000, 1.0000, 0.7471, 0.8354],\n",
       "                       [1.0000, 0.9151, 1.0000, 1.0000, 0.7471, 0.8354],\n",
       "                       [1.0000, 0.9151, 1.0000, 1.0000, 0.7471, 0.8354]],\n",
       "              \n",
       "                      [[0.9260, 0.9255, 0.7926, 0.7879, 1.0000, 1.0000],\n",
       "                       [0.9260, 0.9255, 0.7926, 0.7879, 1.0000, 1.0000],\n",
       "                       [0.9260, 0.9255, 0.7926, 0.7879, 1.0000, 1.0000],\n",
       "                       [0.9260, 0.9255, 0.7926, 0.7879, 1.0000, 1.0000]]], device='cuda:2'))])"
      ]
     },
     "execution_count": 34,
     "metadata": {},
     "output_type": "execute_result"
    }
   ],
   "source": [
    "driver.model.state_dict()"
   ]
  },
  {
   "cell_type": "code",
   "execution_count": null,
   "metadata": {},
   "outputs": [],
   "source": []
  },
  {
   "cell_type": "code",
   "execution_count": null,
   "metadata": {},
   "outputs": [],
   "source": []
  },
  {
   "cell_type": "code",
   "execution_count": null,
   "metadata": {},
   "outputs": [],
   "source": []
  },
  {
   "cell_type": "code",
   "execution_count": null,
   "metadata": {},
   "outputs": [],
   "source": []
  },
  {
   "cell_type": "code",
   "execution_count": 22,
   "metadata": {},
   "outputs": [],
   "source": [
    "train_data = torchvision.datasets.MNIST('../../data/ABC/mnist', train=False, download=True,\n",
    "                                                  transform=torchvision.transforms.Compose([torchvision.transforms.ToTensor(),\n",
    "                                                            torchvision.transforms.Normalize((0.1307,), (0.3081,))]))"
   ]
  },
  {
   "cell_type": "code",
   "execution_count": 23,
   "metadata": {},
   "outputs": [
    {
     "data": {
      "text/plain": [
       "Dataset MNIST\n",
       "    Number of datapoints: 10000\n",
       "    Root location: ../../data/ABC/mnist\n",
       "    Split: Test\n",
       "    StandardTransform\n",
       "Transform: Compose(\n",
       "               ToTensor()\n",
       "               Normalize(mean=(0.1307,), std=(0.3081,))\n",
       "           )"
      ]
     },
     "execution_count": 23,
     "metadata": {},
     "output_type": "execute_result"
    }
   ],
   "source": [
    "train_data."
   ]
  },
  {
   "cell_type": "code",
   "execution_count": 20,
   "metadata": {},
   "outputs": [],
   "source": [
    "a = torch.tensor([[[1,2],[3,4]],[[1,2],[3,4]],[[1,2],[3,4]]])"
   ]
  },
  {
   "cell_type": "code",
   "execution_count": 21,
   "metadata": {},
   "outputs": [
    {
     "data": {
      "text/plain": [
       "tensor([[[ 7, 10],\n",
       "         [15, 22]],\n",
       "\n",
       "        [[ 7, 10],\n",
       "         [15, 22]],\n",
       "\n",
       "        [[ 7, 10],\n",
       "         [15, 22]]])"
      ]
     },
     "execution_count": 21,
     "metadata": {},
     "output_type": "execute_result"
    }
   ],
   "source": [
    "torch.matmul(a,a)"
   ]
  },
  {
   "cell_type": "code",
   "execution_count": 14,
   "metadata": {},
   "outputs": [],
   "source": [
    "mnist_args = dotdict()\n",
    "mnist_args.train = dotdict()\n",
    "mnist_args.predict = dotdict()\n",
    "\n",
    "mnist_args.name = 'mnist'\n",
    "mnist_args.train.batch_size = 100\n",
    "mnist_args.predict.batch_size = 1000"
   ]
  },
  {
   "cell_type": "code",
   "execution_count": 5,
   "metadata": {
    "scrolled": false
   },
   "outputs": [
    {
     "name": "stdout",
     "output_type": "stream",
     "text": [
      "epoch: 0, train_loss: 1.8092176419496537\n",
      "epoch: 1, train_loss: 1.5854661240180334\n",
      "epoch: 2, train_loss: 1.5594474685192108\n",
      "epoch: 3, train_loss: 1.547036578655243\n",
      "epoch: 4, train_loss: 1.5385117679834366\n",
      "epoch: 5, train_loss: 1.532321839928627\n",
      "epoch: 6, train_loss: 1.527201450864474\n",
      "epoch: 7, train_loss: 1.5227444046735763\n",
      "epoch: 8, train_loss: 1.5188205428918202\n",
      "epoch: 9, train_loss: 1.5152481007575989\n",
      "epoch: 10, train_loss: 1.5122010159492492\n",
      "epoch: 11, train_loss: 1.5093879654010136\n",
      "epoch: 12, train_loss: 1.5068205038706461\n",
      "epoch: 13, train_loss: 1.504511877099673\n",
      "epoch: 14, train_loss: 1.5022801474730174\n",
      "epoch: 15, train_loss: 1.5006628227233887\n",
      "epoch: 16, train_loss: 1.4987579685449601\n",
      "epoch: 17, train_loss: 1.4970314226547876\n",
      "epoch: 18, train_loss: 1.4954067504405975\n",
      "epoch: 19, train_loss: 1.4939528038104375\n",
      "epoch: 20, train_loss: 1.492574091553688\n",
      "epoch: 21, train_loss: 1.491297993262609\n",
      "epoch: 22, train_loss: 1.4901642004648845\n",
      "epoch: 23, train_loss: 1.488807551264763\n",
      "epoch: 24, train_loss: 1.4878206253051758\n",
      "epoch: 25, train_loss: 1.4869583674271902\n",
      "epoch: 26, train_loss: 1.4859451140960058\n",
      "epoch: 27, train_loss: 1.4851976631085078\n",
      "epoch: 28, train_loss: 1.4844763058423995\n",
      "epoch: 29, train_loss: 1.4837394764026006\n",
      "epoch: 30, train_loss: 1.482983751296997\n",
      "epoch: 31, train_loss: 1.4824039614200593\n",
      "epoch: 32, train_loss: 1.4817013945182165\n",
      "epoch: 33, train_loss: 1.481126711765925\n",
      "epoch: 34, train_loss: 1.480618494351705\n",
      "epoch: 35, train_loss: 1.4799588799476624\n",
      "epoch: 36, train_loss: 1.4794500982761383\n",
      "epoch: 37, train_loss: 1.4789673934380214\n",
      "epoch: 38, train_loss: 1.4784366575876873\n",
      "epoch: 39, train_loss: 1.4780972613890966\n",
      "epoch: 40, train_loss: 1.4776452640692392\n",
      "epoch: 41, train_loss: 1.4772707253694535\n",
      "epoch: 42, train_loss: 1.4768284138043721\n",
      "epoch: 43, train_loss: 1.4764463291565577\n",
      "epoch: 44, train_loss: 1.4761250774065653\n",
      "epoch: 45, train_loss: 1.475843171477318\n",
      "epoch: 46, train_loss: 1.4754657552639643\n",
      "epoch: 47, train_loss: 1.475182980298996\n",
      "epoch: 48, train_loss: 1.4748984893163046\n",
      "epoch: 49, train_loss: 1.4746273775895438\n"
     ]
    },
    {
     "data": {
      "text/plain": [
       "<driver.driver.ABC_Driver at 0x7f0540750340>"
      ]
     },
     "execution_count": 5,
     "metadata": {},
     "output_type": "execute_result"
    }
   ],
   "source": [
    "driver.train()"
   ]
  },
  {
   "cell_type": "code",
   "execution_count": 6,
   "metadata": {},
   "outputs": [
    {
     "data": {
      "text/plain": [
       "0.9782"
      ]
     },
     "execution_count": 6,
     "metadata": {},
     "output_type": "execute_result"
    }
   ],
   "source": [
    "driver.metric()"
   ]
  },
  {
   "cell_type": "code",
   "execution_count": 15,
   "metadata": {},
   "outputs": [],
   "source": [
    "test = torch.randn(3,10)"
   ]
  },
  {
   "cell_type": "code",
   "execution_count": 16,
   "metadata": {},
   "outputs": [
    {
     "data": {
      "text/plain": [
       "torch.Size([3, 10])"
      ]
     },
     "execution_count": 16,
     "metadata": {},
     "output_type": "execute_result"
    }
   ],
   "source": [
    "test.shape"
   ]
  },
  {
   "cell_type": "code",
   "execution_count": 17,
   "metadata": {},
   "outputs": [],
   "source": [
    "a = test.reshape(-1)"
   ]
  },
  {
   "cell_type": "code",
   "execution_count": 18,
   "metadata": {},
   "outputs": [
    {
     "data": {
      "text/plain": [
       "torch.Size([30])"
      ]
     },
     "execution_count": 18,
     "metadata": {},
     "output_type": "execute_result"
    }
   ],
   "source": [
    "a.shape"
   ]
  },
  {
   "cell_type": "code",
   "execution_count": null,
   "metadata": {},
   "outputs": [],
   "source": []
  }
 ],
 "metadata": {
  "kernelspec": {
   "display_name": "Python 3 (ipykernel)",
   "language": "python",
   "name": "python3"
  },
  "language_info": {
   "codemirror_mode": {
    "name": "ipython",
    "version": 3
   },
   "file_extension": ".py",
   "mimetype": "text/x-python",
   "name": "python",
   "nbconvert_exporter": "python",
   "pygments_lexer": "ipython3",
   "version": "3.9.13"
  }
 },
 "nbformat": 4,
 "nbformat_minor": 2
}
