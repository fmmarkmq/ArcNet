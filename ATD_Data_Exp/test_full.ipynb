{
 "cells": [
  {
   "cell_type": "markdown",
   "metadata": {},
   "source": [
    "CNN: 0.98\n",
    "ABC:"
   ]
  },
  {
   "cell_type": "code",
   "execution_count": 5,
   "metadata": {
    "scrolled": true
   },
   "outputs": [],
   "source": [
    "import torch\n",
    "import torchvision\n",
    "import torch.nn.functional as F\n",
    "import pandas as pd\n",
    "import numpy as np\n",
    "import matplotlib.pyplot as plt\n",
    "from utils.tools import dotdict\n",
    "from driver.driver import ABC_Driver\n",
    "torch.cuda.is_available()\n",
    "torch.cuda.set_device(2)\n",
    "import atd2022"
   ]
  },
  {
   "cell_type": "code",
   "execution_count": 6,
   "metadata": {},
   "outputs": [],
   "source": [
    "truth = atd2022.io.read_csv()"
   ]
  },
  {
   "cell_type": "code",
   "execution_count": 30,
   "metadata": {},
   "outputs": [],
   "source": [
    "args = dotdict()\n",
    "\n",
    "args.train_epochs= 10\n",
    "args.lr = 0.0001\n",
    "args.criterion = 'L1'\n",
    "args.use_gpu = True\n",
    "\n",
    "args.history_len = 30\n",
    "args.input_channel = args.history_len\n",
    "\n",
    "args.predict_len = 4\n",
    "args.input_height = 1\n",
    "args.input_width = 5200\n",
    "args.kernel_size = 9\n",
    "args.knpp = 6\n",
    "args.batch_size = 20\n",
    "# args.df = truth\n",
    "\n"
   ]
  },
  {
   "cell_type": "code",
   "execution_count": 31,
   "metadata": {
    "scrolled": false
   },
   "outputs": [
    {
     "name": "stdout",
     "output_type": "stream",
     "text": [
      "Use GPU: cuda:None\n"
     ]
    }
   ],
   "source": [
    "driver = ABC_Driver(args, df = truth)"
   ]
  },
  {
   "cell_type": "code",
   "execution_count": 32,
   "metadata": {
    "scrolled": true
   },
   "outputs": [],
   "source": [
    "# driver.model.state_dict()"
   ]
  },
  {
   "cell_type": "code",
   "execution_count": 33,
   "metadata": {
    "scrolled": true
   },
   "outputs": [
    {
     "name": "stdout",
     "output_type": "stream",
     "text": [
      "epoch: 0, train_loss: 1455523.9444444445\n",
      "epoch: 1, train_loss: 1235187.9027777778\n",
      "epoch: 2, train_loss: 1041787.8055555555\n",
      "epoch: 3, train_loss: 872721.125\n",
      "epoch: 4, train_loss: 725974.5416666666\n",
      "epoch: 5, train_loss: 599606.9236111111\n",
      "epoch: 6, train_loss: 491903.7986111111\n",
      "epoch: 7, train_loss: 401144.64930555556\n",
      "epoch: 8, train_loss: 325284.8229166667\n",
      "epoch: 9, train_loss: 262046.90104166666\n"
     ]
    },
    {
     "data": {
      "text/plain": [
       "<driver.driver.ABC_Driver at 0x7f960fdcaca0>"
      ]
     },
     "execution_count": 33,
     "metadata": {},
     "output_type": "execute_result"
    }
   ],
   "source": [
    "driver.train()"
   ]
  },
  {
   "cell_type": "code",
   "execution_count": 34,
   "metadata": {},
   "outputs": [],
   "source": [
    "test = driver.predict()"
   ]
  },
  {
   "cell_type": "code",
   "execution_count": 35,
   "metadata": {
    "scrolled": true
   },
   "outputs": [
    {
     "data": {
      "text/plain": [
       "tensor([[[[      0.0000,       0.0000,       0.0000,  ...,       0.0000,\n",
       "                 0.0000,       0.0000]],\n",
       "\n",
       "         [[ 376253.9062,  376253.9062,  376253.9062,  ...,       0.0000,\n",
       "                 0.0000,       0.0000]],\n",
       "\n",
       "         [[1059129.6250, 1059129.6250, 1059129.6250,  ...,  454510.7500,\n",
       "            454510.7500,  454510.7500]],\n",
       "\n",
       "         [[      0.0000,       0.0000,       0.0000,  ...,       0.0000,\n",
       "                 0.0000,       0.0000]]]])"
      ]
     },
     "execution_count": 35,
     "metadata": {},
     "output_type": "execute_result"
    }
   ],
   "source": [
    "test"
   ]
  },
  {
   "cell_type": "code",
   "execution_count": null,
   "metadata": {},
   "outputs": [],
   "source": []
  },
  {
   "cell_type": "code",
   "execution_count": null,
   "metadata": {},
   "outputs": [],
   "source": []
  },
  {
   "cell_type": "code",
   "execution_count": null,
   "metadata": {},
   "outputs": [],
   "source": []
  },
  {
   "cell_type": "code",
   "execution_count": null,
   "metadata": {},
   "outputs": [],
   "source": []
  },
  {
   "cell_type": "code",
   "execution_count": null,
   "metadata": {},
   "outputs": [],
   "source": []
  },
  {
   "cell_type": "code",
   "execution_count": null,
   "metadata": {},
   "outputs": [],
   "source": []
  },
  {
   "cell_type": "code",
   "execution_count": 22,
   "metadata": {},
   "outputs": [],
   "source": [
    "train_data = torchvision.datasets.MNIST('../../data/ABC/mnist', train=False, download=True,\n",
    "                                                  transform=torchvision.transforms.Compose([torchvision.transforms.ToTensor(),\n",
    "                                                            torchvision.transforms.Normalize((0.1307,), (0.3081,))]))"
   ]
  },
  {
   "cell_type": "code",
   "execution_count": 23,
   "metadata": {},
   "outputs": [
    {
     "data": {
      "text/plain": [
       "Dataset MNIST\n",
       "    Number of datapoints: 10000\n",
       "    Root location: ../../data/ABC/mnist\n",
       "    Split: Test\n",
       "    StandardTransform\n",
       "Transform: Compose(\n",
       "               ToTensor()\n",
       "               Normalize(mean=(0.1307,), std=(0.3081,))\n",
       "           )"
      ]
     },
     "execution_count": 23,
     "metadata": {},
     "output_type": "execute_result"
    }
   ],
   "source": [
    "train_data."
   ]
  },
  {
   "cell_type": "code",
   "execution_count": 20,
   "metadata": {},
   "outputs": [],
   "source": [
    "a = torch.tensor([[[1,2],[3,4]],[[1,2],[3,4]],[[1,2],[3,4]]])"
   ]
  },
  {
   "cell_type": "code",
   "execution_count": 21,
   "metadata": {},
   "outputs": [
    {
     "data": {
      "text/plain": [
       "tensor([[[ 7, 10],\n",
       "         [15, 22]],\n",
       "\n",
       "        [[ 7, 10],\n",
       "         [15, 22]],\n",
       "\n",
       "        [[ 7, 10],\n",
       "         [15, 22]]])"
      ]
     },
     "execution_count": 21,
     "metadata": {},
     "output_type": "execute_result"
    }
   ],
   "source": [
    "torch.matmul(a,a)"
   ]
  },
  {
   "cell_type": "code",
   "execution_count": 14,
   "metadata": {},
   "outputs": [],
   "source": [
    "mnist_args = dotdict()\n",
    "mnist_args.train = dotdict()\n",
    "mnist_args.predict = dotdict()\n",
    "\n",
    "mnist_args.name = 'mnist'\n",
    "mnist_args.train.batch_size = 100\n",
    "mnist_args.predict.batch_size = 1000"
   ]
  },
  {
   "cell_type": "code",
   "execution_count": 5,
   "metadata": {
    "scrolled": false
   },
   "outputs": [
    {
     "name": "stdout",
     "output_type": "stream",
     "text": [
      "epoch: 0, train_loss: 1.8092176419496537\n",
      "epoch: 1, train_loss: 1.5854661240180334\n",
      "epoch: 2, train_loss: 1.5594474685192108\n",
      "epoch: 3, train_loss: 1.547036578655243\n",
      "epoch: 4, train_loss: 1.5385117679834366\n",
      "epoch: 5, train_loss: 1.532321839928627\n",
      "epoch: 6, train_loss: 1.527201450864474\n",
      "epoch: 7, train_loss: 1.5227444046735763\n",
      "epoch: 8, train_loss: 1.5188205428918202\n",
      "epoch: 9, train_loss: 1.5152481007575989\n",
      "epoch: 10, train_loss: 1.5122010159492492\n",
      "epoch: 11, train_loss: 1.5093879654010136\n",
      "epoch: 12, train_loss: 1.5068205038706461\n",
      "epoch: 13, train_loss: 1.504511877099673\n",
      "epoch: 14, train_loss: 1.5022801474730174\n",
      "epoch: 15, train_loss: 1.5006628227233887\n",
      "epoch: 16, train_loss: 1.4987579685449601\n",
      "epoch: 17, train_loss: 1.4970314226547876\n",
      "epoch: 18, train_loss: 1.4954067504405975\n",
      "epoch: 19, train_loss: 1.4939528038104375\n",
      "epoch: 20, train_loss: 1.492574091553688\n",
      "epoch: 21, train_loss: 1.491297993262609\n",
      "epoch: 22, train_loss: 1.4901642004648845\n",
      "epoch: 23, train_loss: 1.488807551264763\n",
      "epoch: 24, train_loss: 1.4878206253051758\n",
      "epoch: 25, train_loss: 1.4869583674271902\n",
      "epoch: 26, train_loss: 1.4859451140960058\n",
      "epoch: 27, train_loss: 1.4851976631085078\n",
      "epoch: 28, train_loss: 1.4844763058423995\n",
      "epoch: 29, train_loss: 1.4837394764026006\n",
      "epoch: 30, train_loss: 1.482983751296997\n",
      "epoch: 31, train_loss: 1.4824039614200593\n",
      "epoch: 32, train_loss: 1.4817013945182165\n",
      "epoch: 33, train_loss: 1.481126711765925\n",
      "epoch: 34, train_loss: 1.480618494351705\n",
      "epoch: 35, train_loss: 1.4799588799476624\n",
      "epoch: 36, train_loss: 1.4794500982761383\n",
      "epoch: 37, train_loss: 1.4789673934380214\n",
      "epoch: 38, train_loss: 1.4784366575876873\n",
      "epoch: 39, train_loss: 1.4780972613890966\n",
      "epoch: 40, train_loss: 1.4776452640692392\n",
      "epoch: 41, train_loss: 1.4772707253694535\n",
      "epoch: 42, train_loss: 1.4768284138043721\n",
      "epoch: 43, train_loss: 1.4764463291565577\n",
      "epoch: 44, train_loss: 1.4761250774065653\n",
      "epoch: 45, train_loss: 1.475843171477318\n",
      "epoch: 46, train_loss: 1.4754657552639643\n",
      "epoch: 47, train_loss: 1.475182980298996\n",
      "epoch: 48, train_loss: 1.4748984893163046\n",
      "epoch: 49, train_loss: 1.4746273775895438\n"
     ]
    },
    {
     "data": {
      "text/plain": [
       "<driver.driver.ABC_Driver at 0x7f0540750340>"
      ]
     },
     "execution_count": 5,
     "metadata": {},
     "output_type": "execute_result"
    }
   ],
   "source": [
    "driver.train()"
   ]
  },
  {
   "cell_type": "code",
   "execution_count": 6,
   "metadata": {},
   "outputs": [
    {
     "data": {
      "text/plain": [
       "0.9782"
      ]
     },
     "execution_count": 6,
     "metadata": {},
     "output_type": "execute_result"
    }
   ],
   "source": [
    "driver.metric()"
   ]
  },
  {
   "cell_type": "code",
   "execution_count": 15,
   "metadata": {},
   "outputs": [],
   "source": [
    "test = torch.randn(3,10)"
   ]
  },
  {
   "cell_type": "code",
   "execution_count": 16,
   "metadata": {},
   "outputs": [
    {
     "data": {
      "text/plain": [
       "torch.Size([3, 10])"
      ]
     },
     "execution_count": 16,
     "metadata": {},
     "output_type": "execute_result"
    }
   ],
   "source": [
    "test.shape"
   ]
  },
  {
   "cell_type": "code",
   "execution_count": 17,
   "metadata": {},
   "outputs": [],
   "source": [
    "a = test.reshape(-1)"
   ]
  },
  {
   "cell_type": "code",
   "execution_count": 18,
   "metadata": {},
   "outputs": [
    {
     "data": {
      "text/plain": [
       "torch.Size([30])"
      ]
     },
     "execution_count": 18,
     "metadata": {},
     "output_type": "execute_result"
    }
   ],
   "source": [
    "a.shape"
   ]
  },
  {
   "cell_type": "code",
   "execution_count": null,
   "metadata": {},
   "outputs": [],
   "source": []
  }
 ],
 "metadata": {
  "kernelspec": {
   "display_name": "Python 3 (ipykernel)",
   "language": "python",
   "name": "python3"
  },
  "language_info": {
   "codemirror_mode": {
    "name": "ipython",
    "version": 3
   },
   "file_extension": ".py",
   "mimetype": "text/x-python",
   "name": "python",
   "nbconvert_exporter": "python",
   "pygments_lexer": "ipython3",
   "version": "3.9.13"
  }
 },
 "nbformat": 4,
 "nbformat_minor": 2
}
